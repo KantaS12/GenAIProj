{
 "cells": [
  {
   "cell_type": "markdown",
   "id": "b9bb99b7",
   "metadata": {
    "papermill": {
     "duration": 0.006893,
     "end_time": "2025-04-14T09:21:10.081366",
     "exception": false,
     "start_time": "2025-04-14T09:21:10.074473",
     "status": "completed"
    },
    "tags": []
   },
   "source": [
    "# **Problem/Case:**\n",
    "\n",
    "New to the gym and looking for direction? The Beginner Gym Interactive Bot provides personalized workout plans based on your available workout days and fitness objectives. Get started on the right track with a tailored routine designed for beginners."
   ]
  },
  {
   "cell_type": "markdown",
   "id": "4f7ec5a3",
   "metadata": {
    "papermill": {
     "duration": 0.005653,
     "end_time": "2025-04-14T09:21:10.093227",
     "exception": false,
     "start_time": "2025-04-14T09:21:10.087574",
     "status": "completed"
    },
    "tags": []
   },
   "source": [
    "**Set Up:**\n",
    "Start by installing and importing the Python SDK. \n",
    "\n",
    "**Set Up API Key:**\n",
    "Use the API key under Kaggle Secret. It must be stored in the Kaggle Secret named \"GOOGLE_API_KEY.\"\n",
    "\n",
    "**Automated Retry:**\n",
    "Define a retry policy. The model might make multiple consecutive calls automatically."
   ]
  },
  {
   "cell_type": "code",
   "execution_count": 1,
   "id": "c6910807",
   "metadata": {
    "_cell_guid": "b1076dfc-b9ad-4769-8c92-a6c4dae69d19",
    "_uuid": "8f2839f25d086af736a60e9eeb907d3b93b6e0e5",
    "execution": {
     "iopub.execute_input": "2025-04-14T09:21:10.106804Z",
     "iopub.status.busy": "2025-04-14T09:21:10.106261Z",
     "iopub.status.idle": "2025-04-14T09:21:20.900283Z",
     "shell.execute_reply": "2025-04-14T09:21:20.899184Z"
    },
    "papermill": {
     "duration": 10.803095,
     "end_time": "2025-04-14T09:21:20.902254",
     "exception": false,
     "start_time": "2025-04-14T09:21:10.099159",
     "status": "completed"
    },
    "tags": []
   },
   "outputs": [
    {
     "name": "stdout",
     "output_type": "stream",
     "text": [
      "\u001b[2K   \u001b[90m━━━━━━━━━━━━━━━━━━━━━━━━━━━━━━━━━━━━━━━━\u001b[0m \u001b[32m144.7/144.7 kB\u001b[0m \u001b[31m4.7 MB/s\u001b[0m eta \u001b[36m0:00:00\u001b[0m\r\n",
      "\u001b[2K   \u001b[90m━━━━━━━━━━━━━━━━━━━━━━━━━━━━━━━━━━━━━━━━\u001b[0m \u001b[32m100.9/100.9 kB\u001b[0m \u001b[31m5.5 MB/s\u001b[0m eta \u001b[36m0:00:00\u001b[0m\r\n",
      "\u001b[?25h"
     ]
    }
   ],
   "source": [
    "from typing import Optional\n",
    "from datetime import datetime\n",
    "!pip uninstall -qqy jupyterlab  # Remove unused conflicting packages\n",
    "!pip install -U -q \"google-genai==1.7.0\"\n",
    "from google import genai\n",
    "from google.genai import types\n",
    "\n",
    "genai.__version__\n",
    "from kaggle_secrets import UserSecretsClient\n",
    "\n",
    "GOOGLE_API_KEY = UserSecretsClient().get_secret(\"GOOGLE_API_KEY\")\n",
    "from google.api_core import retry\n",
    "\n",
    "is_retriable = lambda e: (isinstance(e, genai.errors.APIError) and e.code in {429, 503})\n",
    "\n",
    "if not hasattr(genai.models.Models.generate_content, '__wrapped__'):\n",
    "  genai.models.Models.generate_content = retry.Retry(\n",
    "      predicate=is_retriable)(genai.models.Models.generate_content)"
   ]
  },
  {
   "cell_type": "markdown",
   "id": "3787099a",
   "metadata": {
    "papermill": {
     "duration": 0.005809,
     "end_time": "2025-04-14T09:21:20.914573",
     "exception": false,
     "start_time": "2025-04-14T09:21:20.908764",
     "status": "completed"
    },
    "tags": []
   },
   "source": [
    "# **Storing Information in a DB:**\n",
    "\n",
    "This code sets up a database named \"gym.db\" to help manage gym-related information. It creates several tables to store data about users, their preferences, workout logs, individual exercises, progress tracking, fitness goals, pre-defined workout routines, the exercises within those routines, which routines users are following, and records of interactions with a potential gym assistant bot."
   ]
  },
  {
   "cell_type": "code",
   "execution_count": 2,
   "id": "c119f464",
   "metadata": {
    "execution": {
     "iopub.execute_input": "2025-04-14T09:21:20.927755Z",
     "iopub.status.busy": "2025-04-14T09:21:20.927238Z",
     "iopub.status.idle": "2025-04-14T09:21:22.887671Z",
     "shell.execute_reply": "2025-04-14T09:21:22.886588Z"
    },
    "papermill": {
     "duration": 1.969221,
     "end_time": "2025-04-14T09:21:22.889631",
     "exception": false,
     "start_time": "2025-04-14T09:21:20.920410",
     "status": "completed"
    },
    "tags": []
   },
   "outputs": [],
   "source": [
    "%load_ext sql\n",
    "%sql sqlite:///gym.db"
   ]
  },
  {
   "cell_type": "code",
   "execution_count": 3,
   "id": "9ccf9aff",
   "metadata": {
    "execution": {
     "iopub.execute_input": "2025-04-14T09:21:22.903529Z",
     "iopub.status.busy": "2025-04-14T09:21:22.903037Z",
     "iopub.status.idle": "2025-04-14T09:21:23.039346Z",
     "shell.execute_reply": "2025-04-14T09:21:23.038300Z"
    },
    "papermill": {
     "duration": 0.145001,
     "end_time": "2025-04-14T09:21:23.041073",
     "exception": false,
     "start_time": "2025-04-14T09:21:22.896072",
     "status": "completed"
    },
    "tags": []
   },
   "outputs": [
    {
     "name": "stdout",
     "output_type": "stream",
     "text": [
      " * sqlite:///gym.db\n",
      "Done.\n",
      "Done.\n",
      "Done.\n",
      "Done.\n",
      "Done.\n",
      "Done.\n",
      "Done.\n",
      "Done.\n",
      "Done.\n",
      "Done.\n"
     ]
    },
    {
     "data": {
      "text/plain": [
       "[]"
      ]
     },
     "execution_count": 3,
     "metadata": {},
     "output_type": "execute_result"
    }
   ],
   "source": [
    "%%sql\n",
    "CREATE TABLE IF NOT EXISTS users (\n",
    "    user_id INTEGER PRIMARY KEY AUTOINCREMENT,\n",
    "    first_name VARCHAR(255) NOT NULL,\n",
    "    last_name VARCHAR(255) NOT NULL,\n",
    "    goal VARCHAR(255) NOT NULL\n",
    ");\n",
    "\n",
    "CREATE TABLE IF NOT EXISTS user_preferences (\n",
    "    preference_id INTEGER PRIMARY KEY AUTOINCREMENT,\n",
    "    user_id INTEGER NOT NULL,\n",
    "    unit_system VARCHAR(50) NOT NULL, -- e.g., Metric, Imperial\n",
    "    reminder_time INTEGER, -- in seconds before workout\n",
    "    FOREIGN KEY (user_id) REFERENCES users(user_id)\n",
    ");\n",
    "\n",
    "CREATE TABLE IF NOT EXISTS workouts (\n",
    "    workout_id INTEGER PRIMARY KEY AUTOINCREMENT,\n",
    "    user_id INTEGER NOT NULL,\n",
    "    note VARCHAR(255) NOT NULL,\n",
    "    date TEXT NOT NULL, -- ISO 8601 format (YYYY-MM-DD)\n",
    "    duration INTEGER, -- in minutes\n",
    "    FOREIGN KEY (user_id) REFERENCES users(user_id)\n",
    ");\n",
    "\n",
    "CREATE TABLE IF NOT EXISTS exercises_lookup (\n",
    "    exercise_id INTEGER PRIMARY KEY AUTOINCREMENT,\n",
    "    exercise_name VARCHAR(255) NOT NULL UNIQUE,\n",
    "    muscle_group VARCHAR(255) NOT NULL\n",
    ");\n",
    "\n",
    "CREATE TABLE IF NOT EXISTS exercises (\n",
    "    log_id INTEGER PRIMARY KEY AUTOINCREMENT,\n",
    "    workout_id INTEGER NOT NULL,\n",
    "    exercise_id INTEGER NOT NULL,\n",
    "    sets INTEGER NOT NULL,\n",
    "    weight INTEGER NOT NULL,\n",
    "    reps INTEGER NOT NULL,\n",
    "    FOREIGN KEY (workout_id) REFERENCES workouts(workout_id),\n",
    "    FOREIGN KEY (exercise_id) REFERENCES exercises_lookup(exercise_id)\n",
    ");\n",
    "\n",
    "CREATE TABLE IF NOT EXISTS progress (\n",
    "    progress_id INTEGER PRIMARY KEY AUTOINCREMENT,\n",
    "    user_id INTEGER NOT NULL,\n",
    "    exercise_id INTEGER NOT NULL,\n",
    "    date TEXT NOT NULL, -- ISO 8601 format (YYYY-MM-DD)\n",
    "    weight_lifted INTEGER NOT NULL,\n",
    "    reps_completed INTEGER NOT NULL,\n",
    "    sets_completed INTEGER NOT NULL,\n",
    "    FOREIGN KEY (user_id) REFERENCES users(user_id),\n",
    "    FOREIGN KEY (exercise_id) REFERENCES exercises_lookup(exercise_id)\n",
    ");\n",
    "\n",
    "CREATE TABLE IF NOT EXISTS goals (\n",
    "    goal_id INTEGER PRIMARY KEY AUTOINCREMENT,\n",
    "    user_id INTEGER NOT NULL,\n",
    "    goal_description TEXT NOT NULL,\n",
    "    target_date TEXT NOT NULL, -- ISO 8601 format (YYYY-MM-DD)\n",
    "    achieved INTEGER DEFAULT 0, -- 0 = False, 1 = True\n",
    "    FOREIGN KEY (user_id) REFERENCES users(user_id)\n",
    ");\n",
    "\n",
    "CREATE TABLE IF NOT EXISTS routines (\n",
    "    routine_id INTEGER PRIMARY KEY AUTOINCREMENT,\n",
    "    routine_name VARCHAR(255) NOT NULL,\n",
    "    description TEXT NOT NULL,\n",
    "    difficulty_level VARCHAR(50) NOT NULL -- e.g., Beginner, Intermediate, Advanced\n",
    ");\n",
    "\n",
    "CREATE TABLE IF NOT EXISTS routine_exercises (\n",
    "    routine_exercise_id INTEGER PRIMARY KEY AUTOINCREMENT,\n",
    "    routine_id INTEGER NOT NULL,\n",
    "    exercise_id INTEGER NOT NULL,\n",
    "    sets INTEGER NOT NULL,\n",
    "    reps INTEGER NOT NULL,\n",
    "    rest_time_seconds INTEGER NOT NULL, -- in seconds\n",
    "    FOREIGN KEY (routine_id) REFERENCES routines(routine_id),\n",
    "    FOREIGN KEY (exercise_id) REFERENCES exercises_lookup(exercise_id)\n",
    ");\n",
    "\n",
    "CREATE TABLE IF NOT EXISTS user_routines (\n",
    "    user_routine_id INTEGER PRIMARY KEY AUTOINCREMENT,\n",
    "    user_id INTEGER NOT NULL,\n",
    "    routine_id INTEGER NOT NULL,\n",
    "    start_date TEXT NOT NULL, -- ISO 8601 format (YYYY-MM-DD)\n",
    "    end_date TEXT, -- ISO 8601 format (YYYY-MM-DD)\n",
    "    FOREIGN KEY (user_id) REFERENCES users(user_id),\n",
    "    FOREIGN KEY (routine_id) REFERENCES routines(routine_id)\n",
    ");"
   ]
  },
  {
   "cell_type": "markdown",
   "id": "c9ea88d9",
   "metadata": {
    "papermill": {
     "duration": 0.005858,
     "end_time": "2025-04-14T09:21:23.053121",
     "exception": false,
     "start_time": "2025-04-14T09:21:23.047263",
     "status": "completed"
    },
    "tags": []
   },
   "source": [
    "# **Adding Exercises into the database**\n",
    "\n",
    "The problem I'm facing is that when you ask the bot for exercises, it tells you that there is no exercises in the database so I'm going to change that. \n"
   ]
  },
  {
   "cell_type": "code",
   "execution_count": 4,
   "id": "a2b44553",
   "metadata": {
    "execution": {
     "iopub.execute_input": "2025-04-14T09:21:23.066535Z",
     "iopub.status.busy": "2025-04-14T09:21:23.066231Z",
     "iopub.status.idle": "2025-04-14T09:21:23.163829Z",
     "shell.execute_reply": "2025-04-14T09:21:23.162803Z"
    },
    "papermill": {
     "duration": 0.106219,
     "end_time": "2025-04-14T09:21:23.165401",
     "exception": false,
     "start_time": "2025-04-14T09:21:23.059182",
     "status": "completed"
    },
    "tags": []
   },
   "outputs": [
    {
     "name": "stdout",
     "output_type": "stream",
     "text": [
      "<class 'pandas.core.frame.DataFrame'>\n",
      "RangeIndex: 2918 entries, 0 to 2917\n",
      "Data columns (total 9 columns):\n",
      " #   Column      Non-Null Count  Dtype  \n",
      "---  ------      --------------  -----  \n",
      " 0   Unnamed: 0  2918 non-null   int64  \n",
      " 1   Title       2918 non-null   object \n",
      " 2   Desc        1368 non-null   object \n",
      " 3   Type        2918 non-null   object \n",
      " 4   BodyPart    2918 non-null   object \n",
      " 5   Equipment   2886 non-null   object \n",
      " 6   Level       2918 non-null   object \n",
      " 7   Rating      1031 non-null   float64\n",
      " 8   RatingDesc  862 non-null    object \n",
      "dtypes: float64(1), int64(1), object(7)\n",
      "memory usage: 205.3+ KB\n"
     ]
    },
    {
     "data": {
      "text/html": [
       "<div>\n",
       "<style scoped>\n",
       "    .dataframe tbody tr th:only-of-type {\n",
       "        vertical-align: middle;\n",
       "    }\n",
       "\n",
       "    .dataframe tbody tr th {\n",
       "        vertical-align: top;\n",
       "    }\n",
       "\n",
       "    .dataframe thead th {\n",
       "        text-align: right;\n",
       "    }\n",
       "</style>\n",
       "<table border=\"1\" class=\"dataframe\">\n",
       "  <thead>\n",
       "    <tr style=\"text-align: right;\">\n",
       "      <th></th>\n",
       "      <th>Unnamed: 0</th>\n",
       "      <th>Rating</th>\n",
       "    </tr>\n",
       "  </thead>\n",
       "  <tbody>\n",
       "    <tr>\n",
       "      <th>count</th>\n",
       "      <td>2918.000000</td>\n",
       "      <td>1031.000000</td>\n",
       "    </tr>\n",
       "    <tr>\n",
       "      <th>mean</th>\n",
       "      <td>1458.500000</td>\n",
       "      <td>5.919690</td>\n",
       "    </tr>\n",
       "    <tr>\n",
       "      <th>std</th>\n",
       "      <td>842.498368</td>\n",
       "      <td>3.584607</td>\n",
       "    </tr>\n",
       "    <tr>\n",
       "      <th>min</th>\n",
       "      <td>0.000000</td>\n",
       "      <td>0.000000</td>\n",
       "    </tr>\n",
       "    <tr>\n",
       "      <th>25%</th>\n",
       "      <td>729.250000</td>\n",
       "      <td>3.000000</td>\n",
       "    </tr>\n",
       "    <tr>\n",
       "      <th>50%</th>\n",
       "      <td>1458.500000</td>\n",
       "      <td>7.900000</td>\n",
       "    </tr>\n",
       "    <tr>\n",
       "      <th>75%</th>\n",
       "      <td>2187.750000</td>\n",
       "      <td>8.700000</td>\n",
       "    </tr>\n",
       "    <tr>\n",
       "      <th>max</th>\n",
       "      <td>2917.000000</td>\n",
       "      <td>9.600000</td>\n",
       "    </tr>\n",
       "  </tbody>\n",
       "</table>\n",
       "</div>"
      ],
      "text/plain": [
       "        Unnamed: 0       Rating\n",
       "count  2918.000000  1031.000000\n",
       "mean   1458.500000     5.919690\n",
       "std     842.498368     3.584607\n",
       "min       0.000000     0.000000\n",
       "25%     729.250000     3.000000\n",
       "50%    1458.500000     7.900000\n",
       "75%    2187.750000     8.700000\n",
       "max    2917.000000     9.600000"
      ]
     },
     "execution_count": 4,
     "metadata": {},
     "output_type": "execute_result"
    }
   ],
   "source": [
    "import numpy as np\n",
    "import matplotlib.pyplot as plt\n",
    "import pandas as pd\n",
    "\n",
    "df = pd.read_csv(\"/kaggle/input/gym-exercise-data/megaGymDataset.csv\").copy()\n",
    "df.info()\n",
    "df.describe()"
   ]
  },
  {
   "cell_type": "code",
   "execution_count": 5,
   "id": "40f7a353",
   "metadata": {
    "execution": {
     "iopub.execute_input": "2025-04-14T09:21:23.179458Z",
     "iopub.status.busy": "2025-04-14T09:21:23.179126Z",
     "iopub.status.idle": "2025-04-14T09:21:23.194902Z",
     "shell.execute_reply": "2025-04-14T09:21:23.193876Z"
    },
    "papermill": {
     "duration": 0.024662,
     "end_time": "2025-04-14T09:21:23.196520",
     "exception": false,
     "start_time": "2025-04-14T09:21:23.171858",
     "status": "completed"
    },
    "tags": []
   },
   "outputs": [
    {
     "data": {
      "text/plain": [
       "Unnamed: 0       0\n",
       "Title            0\n",
       "Desc          1550\n",
       "Type             0\n",
       "BodyPart         0\n",
       "Equipment        0\n",
       "Level            0\n",
       "Rating        1887\n",
       "RatingDesc    2056\n",
       "dtype: int64"
      ]
     },
     "execution_count": 5,
     "metadata": {},
     "output_type": "execute_result"
    }
   ],
   "source": [
    "df.isnull().sum()\n",
    "df = df.dropna(thresh=6)\n",
    "df[\"Equipment\"] = df[\"Equipment\"].fillna(\"Unknown\")\n",
    "df[\"BodyPart\"]= df[\"BodyPart\"].fillna(\"General\")\n",
    "df.isnull().sum()"
   ]
  },
  {
   "cell_type": "code",
   "execution_count": 6,
   "id": "1aa8246d",
   "metadata": {
    "execution": {
     "iopub.execute_input": "2025-04-14T09:21:23.211201Z",
     "iopub.status.busy": "2025-04-14T09:21:23.210909Z",
     "iopub.status.idle": "2025-04-14T09:21:23.443405Z",
     "shell.execute_reply": "2025-04-14T09:21:23.442234Z"
    },
    "papermill": {
     "duration": 0.241665,
     "end_time": "2025-04-14T09:21:23.445030",
     "exception": false,
     "start_time": "2025-04-14T09:21:23.203365",
     "status": "completed"
    },
    "tags": []
   },
   "outputs": [
    {
     "name": "stdout",
     "output_type": "stream",
     "text": [
      "Added 2918 rows to the 'exercises_lookup' table.\n",
      "\n",
      "From the 'exercises_lookup' table:\n",
      "      exercise_id                                   exercise_name muscle_group\n",
      "0               1                          Partner plank band row   Abdominals\n",
      "1               2                    Banded crunch isometric hold   Abdominals\n",
      "2               3                           FYR Banded Plank Jack   Abdominals\n",
      "3               4                                   Banded crunch   Abdominals\n",
      "4               5                                          Crunch   Abdominals\n",
      "...           ...                                             ...          ...\n",
      "2904         2914                            EZ-bar skullcrusher-      Triceps\n",
      "2905         2915  Lying Close-Grip Barbell Triceps Press To Chin      Triceps\n",
      "2906         2916          EZ-Bar Skullcrusher - Gethin Variation      Triceps\n",
      "2907         2917                                TBS Skullcrusher      Triceps\n",
      "2908         2918                     30 Arms EZ-Bar Skullcrusher      Triceps\n",
      "\n",
      "[2909 rows x 3 columns]\n"
     ]
    }
   ],
   "source": [
    "import sqlite3\n",
    "DB_columns = df[['Title','BodyPart']].copy()\n",
    "DB_columns.rename(columns={'Title': 'exercise_name',\n",
    "                           'BodyPart': 'muscle_group'}, inplace=True)\n",
    "db_file = \"gym.db\"\n",
    "table_name = \"exercises_lookup\"\n",
    "try:\n",
    "    conn = sqlite3.connect(db_file)\n",
    "    cursor = conn.cursor()\n",
    "\n",
    "    for index, row in DB_columns.iterrows():\n",
    "        exercise_name = row['exercise_name']\n",
    "        muscle_group = row['muscle_group']\n",
    "        sql = \"INSERT OR IGNORE INTO {} (exercise_name, muscle_group) VALUES (?, ?)\".format(table_name)\n",
    "        cursor.execute(sql, (exercise_name, muscle_group))\n",
    "    conn.commit()\n",
    "    print(f\"Added {len(DB_columns)} rows to the '{table_name}' table.\")\n",
    "except sqlite3.Error as e:\n",
    "    print(f\"Error inserting data into '{table_name}': {e}\")\n",
    "finally:\n",
    "    if conn:\n",
    "        conn.close()\n",
    "\n",
    "try: \n",
    "    conn = sqlite3.connect(db_file)\n",
    "    sql = f\"SELECT * FROM {table_name}\"\n",
    "    df_from_db = pd.read_sql_query(sql, conn)\n",
    "    print(f\"\\nFrom the '{table_name}' table:\")\n",
    "    print(df_from_db)\n",
    "except sqlite3.Error as e:\n",
    "    print(f\"Error inserting data into '{table_name}': {e}\")\n",
    "finally:\n",
    "    if conn:\n",
    "        conn.close()"
   ]
  },
  {
   "cell_type": "markdown",
   "id": "bddcc4f2",
   "metadata": {
    "papermill": {
     "duration": 0.006508,
     "end_time": "2025-04-14T09:21:23.458414",
     "exception": false,
     "start_time": "2025-04-14T09:21:23.451906",
     "status": "completed"
    },
    "tags": []
   },
   "source": [
    "**Testing/Caching DB**"
   ]
  },
  {
   "cell_type": "code",
   "execution_count": 7,
   "id": "c1835a7c",
   "metadata": {
    "execution": {
     "iopub.execute_input": "2025-04-14T09:21:23.473103Z",
     "iopub.status.busy": "2025-04-14T09:21:23.472756Z",
     "iopub.status.idle": "2025-04-14T09:21:23.504125Z",
     "shell.execute_reply": "2025-04-14T09:21:23.503155Z"
    },
    "papermill": {
     "duration": 0.040497,
     "end_time": "2025-04-14T09:21:23.505558",
     "exception": false,
     "start_time": "2025-04-14T09:21:23.465061",
     "status": "completed"
    },
    "tags": []
   },
   "outputs": [
    {
     "name": "stdout",
     "output_type": "stream",
     "text": [
      " * sqlite:///gym.db\n",
      "Done.\n",
      "Done.\n"
     ]
    },
    {
     "data": {
      "text/plain": [
       "[]"
      ]
     },
     "execution_count": 7,
     "metadata": {},
     "output_type": "execute_result"
    }
   ],
   "source": [
    "%%sql\n",
    "CREATE TABLE IF NOT EXISTS user_agent_interactions (\n",
    "    interaction_id INTEGER PRIMARY KEY AUTOINCREMENT,\n",
    "    session_id INTEGER NOT NULL, \n",
    "    user_input TEXT NOT NULL, \n",
    "    agent_output TEXT NOT NULL, \n",
    "    timestamp DATETIME DEFAULT CURRENT_TIMESTAMP, \n",
    "    user_id INTEGER, \n",
    "    FOREIGN KEY (user_id) REFERENCES users(user_id)\n",
    ");\n",
    "\n",
    "CREATE TABLE IF NOT EXISTS session_context (\n",
    "    session_id INTEGER PRIMARY KEY,\n",
    "    user_id INTEGER, \n",
    "    context_data TEXT,\n",
    "    last_updated DATETIME DEFAULT CURRENT_TIMESTAMP,\n",
    "    FOREIGN KEY (user_id) REFERENCES users(user_id)\n",
    ");"
   ]
  },
  {
   "cell_type": "markdown",
   "id": "4efeb29b",
   "metadata": {
    "papermill": {
     "duration": 0.006569,
     "end_time": "2025-04-14T09:21:23.519100",
     "exception": false,
     "start_time": "2025-04-14T09:21:23.512531",
     "status": "completed"
    },
    "tags": []
   },
   "source": [
    "# **Python Functions for Interacting with the Gym Database**\n"
   ]
  },
  {
   "cell_type": "code",
   "execution_count": 8,
   "id": "c81e65a9",
   "metadata": {
    "execution": {
     "iopub.execute_input": "2025-04-14T09:21:23.535423Z",
     "iopub.status.busy": "2025-04-14T09:21:23.535068Z",
     "iopub.status.idle": "2025-04-14T09:21:23.557943Z",
     "shell.execute_reply": "2025-04-14T09:21:23.557022Z"
    },
    "papermill": {
     "duration": 0.033756,
     "end_time": "2025-04-14T09:21:23.559583",
     "exception": false,
     "start_time": "2025-04-14T09:21:23.525827",
     "status": "completed"
    },
    "tags": []
   },
   "outputs": [],
   "source": [
    "db_file = \"gym.db\"\n",
    "db_conn = sqlite3.connect(db_file)\n",
    "\n",
    "\"\"\"\n",
    "List Tables: list_tables() retrieves and returns a list of all \n",
    "tables present in the database.\n",
    "\"\"\"\n",
    "def list_tables() -> list[str]:\n",
    "    print(' DB CALL:list_tables()')\n",
    "    cursor=db_conn.cursor()\n",
    "    cursor.execute(\"SELECT name FROM sqlite_master WHERE type='table';\")\n",
    "    tables=cursor.fetchall()\n",
    "    return [t[0] for t in tables]\n",
    "    \n",
    "\"\"\"\n",
    "Describe Table Structure: describe_table(table_name) \n",
    "takes a table name as input and returns a list of tuples, \n",
    "where each tuple contains the column name and its data type for the specified table.\n",
    "\"\"\"\n",
    "def describe_table(table_name:str) -> list[tuple[str,str]]:\n",
    "    print(f'-DB CALL: describe_table({table_name})')\n",
    "    cursor=db_conn.cursor()\n",
    "    cursor.execute(f\"PRAGMA table_info({table_name});\")\n",
    "    schema=cursor.fetchall()\n",
    "    return [(col[1],col[2]) for col in schema]\n",
    "\n",
    "\"\"\"\n",
    "Execute Raw SQL Queries: execute_query(sql) allows you to execute any valid SQL query- \n",
    "-against the database and returns the results as a list of lists.\n",
    "\"\"\"\n",
    "def execute_query(sql:str) -> list[list[str]]:\n",
    "    print(f' -DB CALL: execute_query({sql})')\n",
    "    cursor=db_conn.cursor()\n",
    "    cursor.execute(sql)\n",
    "    return cursor.fetchall()\n",
    "\n",
    "\"\"\"\n",
    "Add New User: add_new_user(first_name, last_name, goal) inserts a new user record into-\n",
    "-the users table.\n",
    "\"\"\"\n",
    "def add_new_user(first_name: str, last_name: str, goal: str) -> None:\n",
    "    try:\n",
    "        db_conn = sqlite3.connect(db_file)\n",
    "        cursor = db_conn.cursor()\n",
    "        sql = \"INSERT INTO users (first_name, last_name, goal) VALUES (?, ?, ?)\"\n",
    "        cursor.execute(sql, (first_name, last_name, goal))\n",
    "        db_conn.commit()\n",
    "        print(f\"User {first_name} {last_name} added successfully with goal: {goal}\")\n",
    "    except sqlite3.Error as e:\n",
    "        printf(f\"Error adding user: {e}\")\n",
    "    finally:\n",
    "        if db_conn:\n",
    "            db_conn.close()\n",
    "\n",
    "\"\"\"\n",
    "Add User Preferences: add_user_preference(user_id, unit_system, reminder_time) adds or updates-\n",
    "-preferences for a specific user in the user_preferences table.\n",
    "\"\"\"\n",
    "def add_user_preference(user_id: int, unit_system: str, reminder_time: int) -> None:\n",
    "    try:\n",
    "        db_conn = sqlite3.connect(db_file)\n",
    "        cursor = db_conn.cursor()\n",
    "        sql = \"INSERT INTO user_preferences (user_id, unit_system, reminder_time) VALUES (?, ?, ?)\"\n",
    "        cursor.execute(sql, (user_id, unit_system, reminder_time))\n",
    "        db_conn.commit()\n",
    "        print(f\"Preferences added for user ID {user_id}: Unit System - {unit_system}, Reminder Time - {reminder_time}\")\n",
    "    except sqlite3.Error as e:\n",
    "        print(f\"Error adding user preference: {e}\")\n",
    "    finally:\n",
    "        if db_conn:\n",
    "            db_conn.close()\n",
    "\n",
    "\"\"\"\n",
    "Log Workout: log_workout(user_id, note, date, duration) records a new workout session for a user-\n",
    "-in the workouts table and returns the ID of the newly created workout.\n",
    "\"\"\"\n",
    "def log_workout(user_id: int, note: str, date: str, duration: int) -> int:\n",
    "    workout_id = -1\n",
    "    try:\n",
    "        db_conn = sqlite3.connect(db_file)\n",
    "        cursor = db_conn.cursor()\n",
    "        sql = \"INSERT INTO workouts (user_id, note, date, duration) VALUES (?, ?, ?, ?)\"\n",
    "        cursor.execute(sql, (user_id, note, date, duration))\n",
    "        db_conn.commit()\n",
    "        workout_id = cursor.lastrowid\n",
    "        print(f\"Workout logged for user ID {user_id} with ID: {workout_id}\")\n",
    "    except sqlite3.Error as e:\n",
    "        print(f\"Error logging workout: {e}\")\n",
    "    finally:\n",
    "        if db_conn:\n",
    "            db_conn.close()\n",
    "    return workout_id\n",
    "\n",
    "\"\"\"\n",
    "Add Exercise Log: add_exercise_log(workout_id, exercise_id, sets, weight, reps) records the details-\n",
    "-of a specific exercise performed during a workout in the exercises table.\n",
    "\"\"\"\n",
    "def add_exercise_log(workout_id: int, exercise_id: int, sets: int, weight: int, reps: int) -> None:\n",
    "    \"\"\"Adds an exercise log to the 'exercises' table.\"\"\"\n",
    "    try:\n",
    "        db_conn = sqlite3.connect(db_file)\n",
    "        cursor = db_conn.cursor()\n",
    "        sql = \"INSERT INTO exercises (workout_id, exercise_id, sets, weight, reps) VALUES (?, ?, ?, ?, ?)\"\n",
    "        cursor.execute(sql, (workout_id, exercise_id, sets, weight, reps))\n",
    "        db_conn.commit()\n",
    "        print(f\"Exercise logged for workout ID {workout_id}, exercise ID {exercise_id}: Sets - {sets}, Weight - {weight}, Reps - {reps}\")\n",
    "    except sqlite3.Error as e:\n",
    "        print(f\"Error adding exercise log: {e}\")\n",
    "    finally:\n",
    "        if db_conn:\n",
    "            db_conn.close()\n",
    "\n",
    "\"\"\"\n",
    "Add Progress: add_progress(user_id, exercise_id, date, weight_lifted, reps_completed, sets_completed)-\n",
    "-logs the progress made by a user on a specific exercise over time in the progress table.\n",
    "\"\"\"\n",
    "def add_progress(user_id: int, exercise_id: int, date: str, weight_lifted: int, reps_completed: int, sets_completed: int) -> None:\n",
    "    try:\n",
    "        db_conn = sqlite3.connect(db_file)\n",
    "        cursor = db_conn.cursor()\n",
    "        sql = \"INSERT INTO progress (user_id, exercise_id, date, weight_lifted, reps_completed, sets_completed) VALUES (?, ?, ?, ?, ?, ?)\"\n",
    "        cursor.execute(sql, (user_id, exercise_id, date, weight_lifted, reps_completed, sets_completed))\n",
    "        db_conn.commit()\n",
    "        print(f\"Progress added for user {user_id}, exercise {exercise_id} on {date}: Weight - {weight_lifted}, Reps - {reps_completed}, Sets - {sets_completed}\")\n",
    "    except sqlite3.Error as e:\n",
    "        print(f\"Error adding progress: {e}\")\n",
    "    finally:\n",
    "        if db_conn:\n",
    "            db_conn.close()\n",
    "            \n",
    "\"\"\"\n",
    "Add Goal: add_goal(user_id, goal_description, target_date, achieved) adds a new fitness goal for a user in the goals table.\n",
    "\"\"\"\n",
    "def add_goal(user_id: int, goal_description: str, target_date: str, achieved: int) -> None:\n",
    "    try:\n",
    "        db_conn = sqlite3.connect(db_file)\n",
    "        cursor = db_conn.cursor()\n",
    "        sql = \"INSERT INTO goals (user_id, goal_description, target_date, achieved) VALUES (?, ?, ?, ?)\"\n",
    "        cursor.execute(sql, (user_id, goal_description, target_date, achieved))\n",
    "        db_conn.commit()\n",
    "        print(f\"Goal added for user {user_id}: {goal_description} (Target: {target_date}, Achieved: {achieved})\")\n",
    "    except sqlite3.Error as e:\n",
    "        print(f\"Error adding goal: {e}\")\n",
    "    finally:\n",
    "        if db_conn:\n",
    "            db_conn.close()\n",
    "\n",
    "\"\"\"\n",
    "Add Routine: add_routine(routine_name, description, difficulty_level) creates a new predefined workout routine in the routines-\n",
    "-table and returns the ID of the new routine.\n",
    "\"\"\"\n",
    "def add_routine(routine_name: str, description: str, difficulty_level: str) -> int:\n",
    "    routine_id = -1\n",
    "    try:\n",
    "        db_conn = sqlite3.connect(db_file)\n",
    "        cursor = db_conn.cursor()\n",
    "        sql = \"INSERT INTO routines (routine_name, description, difficulty_level) VALUES (?, ?, ?)\"\n",
    "        cursor.execute(sql, (routine_name, description, difficulty_level))\n",
    "        db_conn.commit()\n",
    "        routine_id = cursor.lastrowid\n",
    "        print(f\"Routine added: {routine_name} (ID: {routine_id})\")\n",
    "    except sqlite3.Error as e:\n",
    "        print(f\"Error adding routine: {e}\")\n",
    "    finally:\n",
    "        if db_conn:\n",
    "            db_conn.close()\n",
    "    return routine_id\n",
    "\n",
    "\"\"\"\n",
    "Add Routine Exercise: add_routine_exercise(routine_id, exercise_id, sets, reps, rest_time_seconds) adds a specific exercise with-\n",
    "-its parameters to a predefined routine in the routine_exercises table.\n",
    "\"\"\"\n",
    "def add_routine_exercise(routine_id: int, exercise_id: int, sets: int, reps: int, rest_time_seconds: int) -> None:\n",
    "    try:\n",
    "        db_conn = sqlite3.connect(db_file)\n",
    "        cursor = db_conn.cursor()\n",
    "        sql = \"INSERT INTO routine_exercises (routine_id, exercise_id, sets, reps, rest_time_seconds) VALUES (?, ?, ?, ?, ?)\"\n",
    "        cursor.execute(sql, (routine_id, exercise_id, sets, reps, rest_time_seconds))\n",
    "        db_conn.commit()\n",
    "        print(f\"Exercise {exercise_id} added to routine {routine_id}: Sets - {sets}, Reps - {reps}, Rest - {rest_time_seconds}s\")\n",
    "    except sqlite3.Error as e:\n",
    "        print(f\"Error adding exercise to routine: {e}\")\n",
    "    finally:\n",
    "        if db_conn:\n",
    "            db_conn.close()\n",
    "\n",
    "\"\"\"\n",
    "Assign User Routine: assign_user_routine(user_id, routine_id, start_date, end_date) assigns a predefined routine to a specific user-\n",
    "-for a given time period in the user_routines table.\n",
    "\"\"\"\n",
    "def assign_user_routine(user_id: int, routine_id: int, start_date: str, end_date: str) -> None:\n",
    "    try:\n",
    "        db_conn = sqlite3.connect(db_file)\n",
    "        cursor = db_conn.cursor()\n",
    "        sql = \"INSERT INTO user_routines (user_id, routine_id, start_date, end_date) VALUES (?, ?, ?, ?)\"\n",
    "        cursor.execute(sql, (user_id, routine_id, start_date, end_date))\n",
    "        db_conn.commit()\n",
    "        print(f\"Routine {routine_id} assigned to user {user_id} starting on {start_date}\")\n",
    "    except sqlite3.Error as e:\n",
    "        print(f\"Error assigning routine to user: {e}\")\n",
    "    finally:\n",
    "        if db_conn:\n",
    "            db_conn.close()"
   ]
  },
  {
   "cell_type": "markdown",
   "id": "ff4a5e1a",
   "metadata": {
    "papermill": {
     "duration": 0.007053,
     "end_time": "2025-04-14T09:21:23.574050",
     "exception": false,
     "start_time": "2025-04-14T09:21:23.566997",
     "status": "completed"
    },
    "tags": []
   },
   "source": [
    "# **Testing Function/Context Caching** "
   ]
  },
  {
   "cell_type": "code",
   "execution_count": 9,
   "id": "2efe924a",
   "metadata": {
    "execution": {
     "iopub.execute_input": "2025-04-14T09:21:23.589029Z",
     "iopub.status.busy": "2025-04-14T09:21:23.588652Z",
     "iopub.status.idle": "2025-04-14T09:21:23.594125Z",
     "shell.execute_reply": "2025-04-14T09:21:23.593290Z"
    },
    "papermill": {
     "duration": 0.014715,
     "end_time": "2025-04-14T09:21:23.595581",
     "exception": false,
     "start_time": "2025-04-14T09:21:23.580866",
     "status": "completed"
    },
    "tags": []
   },
   "outputs": [],
   "source": [
    "\"\"\"\n",
    "Log User-Agent Interaction: log_user_agent_interaction(session_id, user_input, agent_output, user_id) records interactions between a-\n",
    "-user and a potential gym assistant bot in the user_agent_interactions table.\n",
    "\"\"\"           \n",
    "def log_user_agent_interaction(session_id: int, user_input: str, agent_output: str, user_id: int) -> None:\n",
    "    try:\n",
    "        db_conn = sqlite3.connect(db_file)\n",
    "        cursor = db_conn.cursor()\n",
    "        sql = \"\"\"\n",
    "        INSERT INTO user_agent_interactions (session_id, user_input, agent_output, user_id)\n",
    "        VALUES (?, ?, ?, ?)\n",
    "        \"\"\"\n",
    "        cursor.execute(sql, (session_id, user_input, agent_output, user_id))\n",
    "        db_conn.commit()\n",
    "        print(f\"Interaction logged for session ID {session_id}: User Input - '{user_input}', Agent Output - '{agent_output}'\")\n",
    "    except sqlite3.Error as e:\n",
    "        print(f\"Error logging user-agent interaction: {e}\")\n",
    "    finally:\n",
    "        if db_conn:\n",
    "            db_conn.close()\n",
    "\n"
   ]
  },
  {
   "cell_type": "markdown",
   "id": "eeb24623",
   "metadata": {
    "papermill": {
     "duration": 0.00663,
     "end_time": "2025-04-14T09:21:23.609245",
     "exception": false,
     "start_time": "2025-04-14T09:21:23.602615",
     "status": "completed"
    },
    "tags": []
   },
   "source": [
    "# **Answering Basic Gym Questions:**"
   ]
  },
  {
   "cell_type": "code",
   "execution_count": 10,
   "id": "9b6ef1e0",
   "metadata": {
    "execution": {
     "iopub.execute_input": "2025-04-14T09:21:23.624502Z",
     "iopub.status.busy": "2025-04-14T09:21:23.624139Z",
     "iopub.status.idle": "2025-04-14T09:21:23.630985Z",
     "shell.execute_reply": "2025-04-14T09:21:23.630151Z"
    },
    "papermill": {
     "duration": 0.016293,
     "end_time": "2025-04-14T09:21:23.632418",
     "exception": false,
     "start_time": "2025-04-14T09:21:23.616125",
     "status": "completed"
    },
    "tags": []
   },
   "outputs": [],
   "source": [
    "db_tools = [list_tables, describe_table, execute_query, add_new_user, add_user_preference, log_workout, add_exercise_log, add_progress, add_goal, add_routine, add_routine_exercise, assign_user_routine, log_user_agent_interaction]\n",
    "\n",
    "instruction = \"\"\"\n",
    "INSTRUCTIONS:\n",
    "1. (You are a helpful chatbot that can interact with an SQL database as a personal gym helper.)\n",
    "2. (You will take the users' questions related to their fitness journey. If the request involves retrieving information about their goals, past workouts, stored preferences, routines, or progress, you will turn it into an SQL query using the tools available. If the request involves logging new data related to these areas, you will use dedicated functions to add this information to the appropriate tables in the database.)\n",
    "3. (You will filter out non-ethical, NSFW content, and non-English content. You will respond with a statement saying that the message is non-appropriate.)\n",
    "4. (You are a personal gym helper, so you will act professionally, provide safe and effective guidance, and respond in professional English.)\n",
    "5. (When formulating SQL queries, focus on retrieving information relevant to the user's fitness goals, workout history, preferences, and available routines.)\n",
    "6. (Prioritize using the describe_table tool to understand the schema of relevant tables before executing queries, especially when the user's request is specific.)\n",
    "7. (Present the data retrieved from the database in a user-friendly format within your response.)\n",
    "8. (If the user asks for recommendations (e.g., exercises, routines), you can use the database to provide suggestions based on their goals and potentially difficulty levels, if available. For more detailed information about the recommended items, you will provide general knowledge.)\n",
    "9. (If a returning user is identified (based on their name), you will automatically retrieve and mention their current fitness goal. You will avoid asking for their name and goal again unless they indicate a change.)\n",
    "10. (You will utilize functions like add_new_user, add_user_preference, log_workout, add_exercise_log, add_progress, add_goal, add_routine, add_routine_exercise, and assign_user_routine to store new user data, preferences, workouts, exercises within workouts, progress updates, goals, routines, exercises within routines, and assigned user routines in the database when the user provides this information.)\n",
    "11. After processing each user query and generating a response (agent_output), you will use the log_user_agent_interaction function to record the interaction. Ensure you have access to the session_id (which should be maintained throughout the user's session) and the user_id. The user_input will be the user's query.\n",
    "\n",
    "**Context Caching Implementation:**\n",
    "\n",
    "12. **Context Management:** You will implement context caching to remember information within the current user session. This context will be stored and retrieved from a table named `session_context` (schema provided below). The `session_id` will be the primary key for this table, allowing you to store and retrieve information specific to each ongoing conversation.\n",
    "\n",
    "   ```sql\n",
    "   CREATE TABLE IF NOT EXISTS session_context (\n",
    "       session_id INTEGER PRIMARY KEY,\n",
    "       user_id INTEGER, -- Link to the user if identified\n",
    "       context_data TEXT, -- Store context as JSON\n",
    "       last_updated DATETIME DEFAULT CURRENT_TIMESTAMP,\n",
    "       FOREIGN KEY (user_id) REFERENCES users(user_id)\n",
    "   );\n",
    "   \n",
    "EXAMPLES:\n",
    "Example 1: New User Interaction\n",
    "User Query: \"Hi, I’m new here. My name is Alex Johnson.\"\n",
    "\n",
    "Desired Agent Behavior:\n",
    "The agent will check the users table for a record with the first name \"Alex\" and last name \"Johnson\".\n",
    "Since this is a new user, no record will be found.\n",
    "The agent will respond with:\n",
    "\"Thank you, Alex Johnson! It seems you're new here. What is your primary fitness goal? (e.g., lose weight, build muscle, improve endurance)\"\n",
    "\n",
    "Example 2: Returning User Interaction\n",
    "User Query:\n",
    "\"Hey, I’m Sarah Davis.\"\n",
    "\n",
    "Desired Agent Behavior:\n",
    "The agent will check the users table for a record with the first name \"Sarah\" and last name \"Davis\".\n",
    "A record is found, and the goal field indicates \"Build Muscle\".\n",
    "The agent will respond with:\n",
    "\"Welcome back, Sarah! I see your current goal is to Build Muscle. How can I assist you today?\"\n",
    "\n",
    "3: Logging a Workout\n",
    "User Query:\n",
    "\"I just finished a workout. It lasted 60 minutes, and I focused on upper body exercises. Can you log that for me?\"\n",
    "\n",
    "Desired Agent Behavior:\n",
    "The agent will identify the user based on prior interaction or stored session data.\n",
    "Using the log_workout(user_id, note, date, duration) function, the agent will log the workout with details such as today's date, a note about upper body exercises, and the duration of 60 minutes.\n",
    "The agent will respond with:\n",
    "\"Great job! I’ve logged your 60-minute upper body workout for today. Keep pushing yourself—you’re doing amazing!\"\n",
    "\n",
    "Example 4: Adding Preferences\n",
    "User Query:\n",
    "\"I prefer using metric units, and I’d like reminders at 7 AM.\"\n",
    "\n",
    "Desired Agent Behavior:\n",
    "The agent will use the add_user_preference(user_id, unit_system, reminder_time) function to store the user’s preferences.\n",
    "The agent will respond with:\n",
    "\"Got it! I’ve set your preferences to use metric units and send reminders at 7 AM. Let me know if there’s anything else you’d like to customize!\"\n",
    "\n",
    "Example 5: Exercise Recommendations\n",
    "User Query:\n",
    "\"What are some good exercises to improve my endurance?\"\n",
    "\n",
    "Desired Agent Behavior:\n",
    "The agent will query the database for exercises tagged with \"endurance\" or similar goals.\n",
    "If no specific data exists in the database, the agent will provide general recommendations based on its knowledge.\n",
    "The agent will respond with:\n",
    "\"To improve endurance, I recommend incorporating exercises like running, cycling, swimming, or high-intensity interval training (HIIT). These activities are excellent for building stamina over time. Let me know if you'd like help creating a routine around these exercises!\"\n",
    "\n",
    "Example 6: Filtering Non-Appropriate Content\n",
    "User Query:\n",
    "\n",
    "\"Why do you always give useless advice? This is garbage!\"\n",
    "Desired Agent Behavior:\n",
    "The agent will filter out the inappropriate tone and respond professionally.\n",
    "The agent will respond with:\n",
    "\"I’m sorry to hear that you’re feeling frustrated. My goal is to provide helpful and actionable advice. Could you clarify what you’re looking for so I can assist you better?\"\n",
    "\n",
    "Example 7: Motivational Message\n",
    "User Query:\n",
    "\"I’m feeling unmotivated today.\"\n",
    "\n",
    "Desired Agent Behavior:\n",
    "The agent will recognize the user’s sentiment and respond with encouragement.\n",
    "The agent will respond with:\n",
    "\"It’s completely normal to have off days—what matters is that you’re here and willing to push forward. Even small steps today can lead to big results tomorrow. You’ve got this!\"\n",
    "\n",
    "START WITH:\n",
    "1. {introduction}\n",
    "🤖 Welcome to Your Personal Gym Helper! 💪\n",
    "\n",
    "I’m here to guide you safely and effectively on your fitness journey. Whether you’re just starting out or looking to refine your routine, I’ll provide clear, actionable advice tailored to your goals.\n",
    "\n",
    "Safety is my top priority—always listen to your body and consult a professional if needed.\n",
    "\n",
    "Let’s get started! 😊\n",
    "\n",
    "To personalize your experience, could you please provide your first and last name?\n",
    "2. After receiving their first and last name, you will:\n",
    "    a. Use `execute_query` on the `users` table to find their record based on the provided first and last name.\n",
    "    b. If a record is found, retrieve their `goal` from the database and respond with something like: \"Welcome back, [First Name]! I see your current goal is [Goal]. How can I assist you today?\"\n",
    "    c. If no record is found, respond with: \"Thank you, [First Name] [Last Name]! It seems you're new here. What is your primary fitness goal? (e.g., lose weight, build muscle, improve endurance)\"\n",
    "3. After understanding their goal (new user) or confirming it (returning user), you will:\n",
    "    a. If the user is new (identified in step 2c), use the `add_new_user(first_name, last_name, goal)` function to add their information to the `users` table in the database.\n",
    "    b. Ask follow-up questions to gather more context. Based on their responses, you will:\n",
    "        i. If they provide preferences (e.g., unit system, reminder time), use the `add_user_preference(user_id, unit_system, reminder_time)` function to store this data. Ensure you have the `user_id`.\n",
    "        ii. If they provide details of a past workout (e.g., date, duration, notes), use the `log_workout(user_id, note, date, duration)` function to record it and potentially get the `workout_id`.\n",
    "        iii. If they provide details of exercises performed within a workout (e.g., sets, reps, weight, exercise name), use `add_exercise_log(workout_id, exercise_id, sets, weight, reps)`. You might need to look up the `exercise_id` from the `exercises_lookup` table first.\n",
    "        iv. If they provide progress updates on specific exercises (e.g., weight lifted, reps completed), use `add_progress(user_id, exercise_id, date, weight_lifted, reps_completed, sets_completed)`.\n",
    "        v. If they set new fitness goals with target dates, use `add_goal(user_id, goal_description, target_date)`.\n",
    "        vi. If they inquire about or want to create routines, and provide routine details (name, description, difficulty), use `add_routine(routine_name, description, difficulty_level)` and `add_routine_exercise(routine_id, exercise_id, sets, reps, rest_time_seconds)`.\n",
    "        vii. If they want to start a specific routine, use `assign_user_routine(user_id, routine_id, start_date, end_date)`.\n",
    "    c. Continue asking relevant follow-up questions to understand their needs better.\n",
    "4. Based on their requests and the data in the database, utilize the database tools (primarily `execute_query`) to retrieve and provide relevant information.\n",
    "5. If the user asks a general fitness or nutrition question, provide a helpful and professional answer based on your general knowledge.\n",
    "6. If the user asks for variations on an exercise, provide some common and safe variations based on your knowledge.\n",
    "7. You can incorporate motivational messages periodically or in response to certain queries to encourage the user.\n",
    "8. You will filter out non-ethical, NSFW content, and non-English content. You will respond with a statement saying that the message is non-appropriate.\n",
    "\"\"\""
   ]
  },
  {
   "cell_type": "code",
   "execution_count": 11,
   "id": "61dc2033",
   "metadata": {
    "execution": {
     "iopub.execute_input": "2025-04-14T09:21:23.647535Z",
     "iopub.status.busy": "2025-04-14T09:21:23.647164Z",
     "iopub.status.idle": "2025-04-14T09:21:24.007399Z",
     "shell.execute_reply": "2025-04-14T09:21:24.006533Z"
    },
    "papermill": {
     "duration": 0.369966,
     "end_time": "2025-04-14T09:21:24.009299",
     "exception": false,
     "start_time": "2025-04-14T09:21:23.639333",
     "status": "completed"
    },
    "tags": []
   },
   "outputs": [],
   "source": [
    "client = genai.Client(api_key=GOOGLE_API_KEY)\n",
    "\n",
    "chat = client.chats.create(\n",
    "    model=\"gemini-2.0-flash\",\n",
    "    config=types.GenerateContentConfig(\n",
    "        system_instruction=instruction,\n",
    "        tools=db_tools,\n",
    "    ),\n",
    ")"
   ]
  },
  {
   "cell_type": "markdown",
   "id": "a0cca66b",
   "metadata": {
    "papermill": {
     "duration": 0.006638,
     "end_time": "2025-04-14T09:21:24.022887",
     "exception": false,
     "start_time": "2025-04-14T09:21:24.016249",
     "status": "completed"
    },
    "tags": []
   },
   "source": [
    "**Test Cases (with different names)**"
   ]
  },
  {
   "cell_type": "code",
   "execution_count": 12,
   "id": "8c698c2c",
   "metadata": {
    "execution": {
     "iopub.execute_input": "2025-04-14T09:21:24.038088Z",
     "iopub.status.busy": "2025-04-14T09:21:24.037753Z",
     "iopub.status.idle": "2025-04-14T09:21:24.041960Z",
     "shell.execute_reply": "2025-04-14T09:21:24.040990Z"
    },
    "papermill": {
     "duration": 0.013525,
     "end_time": "2025-04-14T09:21:24.043491",
     "exception": false,
     "start_time": "2025-04-14T09:21:24.029966",
     "status": "completed"
    },
    "tags": []
   },
   "outputs": [],
   "source": [
    "test1 = [\n",
    "    \"Hi, I'm new here. My name is John Doe\", \n",
    "    \"I want to build muscle. Also, I prefer imperial units and would like a reminder 15 minutes before my workouts.\", \n",
    "    \"I did a chest workout today. It lasted for 45 minutes. I did 3 sets of 8 reps of bench press at 150 lbs and 3 sets of 10 reps of dumbbell flyes at 30 lbs.\", \n",
    "    \"Actually, my main goal has shifted. I now want to focus on improving my endurance for a marathon I'm planning.\", \n",
    "    \"Do you have any beginner routines focused on endurance?\" , \n",
    "    \"This is really ButtHole advice!\"\n",
    "]\n",
    "\n",
    "test2 = [\n",
    "    \"Hi, I'm new here. My name is Kelly Bluebook\", \n",
    "    \"I want to build muscle. Also, I prefer imperial units and would like a reminder 15 minutes before my workouts.\", \n",
    "    \"I did a chest workout today. It lasted for 45 minutes. I did 3 sets of 8 reps of bench press at 150 lbs and 3 sets of 10 reps of dumbbell flyes at 30 lbs.\", \n",
    "    \"Actually, my main goal has shifted. I now want to focus on improving my endurance for a marathon I'm planning.\", \n",
    "    \"Do you have any beginner routines focused on endurance?\" , \n",
    "    \"This is really ButtHole advice!\"\n",
    "]"
   ]
  },
  {
   "cell_type": "markdown",
   "id": "c8a58090",
   "metadata": {
    "papermill": {
     "duration": 0.006911,
     "end_time": "2025-04-14T09:21:24.057920",
     "exception": false,
     "start_time": "2025-04-14T09:21:24.051009",
     "status": "completed"
    },
    "tags": []
   },
   "source": [
    "**Test 1**"
   ]
  },
  {
   "cell_type": "code",
   "execution_count": 13,
   "id": "eaa767f6",
   "metadata": {
    "execution": {
     "iopub.execute_input": "2025-04-14T09:21:24.073180Z",
     "iopub.status.busy": "2025-04-14T09:21:24.072830Z",
     "iopub.status.idle": "2025-04-14T09:21:30.810731Z",
     "shell.execute_reply": "2025-04-14T09:21:30.809510Z"
    },
    "papermill": {
     "duration": 6.748111,
     "end_time": "2025-04-14T09:21:30.813017",
     "exception": false,
     "start_time": "2025-04-14T09:21:24.064906",
     "status": "completed"
    },
    "tags": []
   },
   "outputs": [
    {
     "name": "stdout",
     "output_type": "stream",
     "text": [
      "🤖 Welcome to Your Personal Gym Helper! 💪\n",
      "\n",
      "I’m here to guide you safely and effectively on your fitness journey. Whether you’re just starting out or looking to refine your routine, I’ll provide clear, actionable advice tailored to your goals.\n",
      "\n",
      "Safety is my top priority—always listen to your body and consult a professional if needed.\n",
      "\n",
      "Let’s get started! 😊\n",
      "\n",
      "To personalize your experience, could you please provide your first and last name?\n",
      "\n",
      "Thank you, John Doe! It seems you're new here. What is your primary fitness goal? (e.g., lose weight, build muscle, improve endurance)\n",
      "\n",
      "User John Doe added successfully with goal: Build Muscle\n",
      "Thank you, John Doe! It seems you're new here. Your goal is to build muscle. I've added you to the system.\n",
      "\n",
      "Now, let's get you set up with your preferences and log that workout.\n",
      "\n",
      "First, what time would you like your workout reminders? Please provide the hour in 24-hour format (e.g., 07 for 7 AM, 19 for 7 PM).\n",
      "\n",
      "Preferences added for user ID 1: Unit System - imperial, Reminder Time - 7\n",
      "Thank you, John! I've updated your goal to improving endurance and set your unit preference to imperial.\n",
      "\n",
      "Now, let's log that chest workout from today. I'll need a bit more information to log the workout and the exercises you performed.\n",
      "\n",
      "Could you please provide the exact date of the workout (YYYY-MM-DD)? Also, what time would you like your workout reminders? Please provide the hour in 24-hour format (e.g., 07 for 7 AM, 19 for 7 PM).\n",
      "\n",
      "I don't have any routines stored that are specifically tagged as beginner routines focused on endurance. However, I can suggest some general exercises to improve your endurance for marathon training.\n",
      "\n",
      "Based on general fitness knowledge, here's what I recommend:\n",
      "\n",
      "*   **Running:** Start with a mix of short, easy runs and longer, slower-paced runs to build your base mileage.\n",
      "*   **Interval Training:** Incorporate interval workouts to improve your speed and cardiovascular fitness.\n",
      "*   **Cross-Training:** Add activities like cycling, swimming, or brisk walking to reduce the risk of overuse injuries and work different muscle groups.\n",
      "*   **Strength Training:** Focus on exercises that strengthen your legs and core, such as squats, lunges, and planks.\n",
      "\n",
      "Would you like me to help you create a more detailed routine based on these suggestions?\n",
      "\n",
      "I'm sorry to hear that you're feeling frustrated. My goal is to provide helpful and actionable advice. Could you clarify what you’re looking for so I can assist you better?\n",
      "\n"
     ]
    }
   ],
   "source": [
    "for i in range(len(test1)):\n",
    "    response = chat.send_message(test1[i])\n",
    "    print(response.text)"
   ]
  },
  {
   "cell_type": "markdown",
   "id": "c2a4f134",
   "metadata": {
    "papermill": {
     "duration": 0.007391,
     "end_time": "2025-04-14T09:21:30.833798",
     "exception": false,
     "start_time": "2025-04-14T09:21:30.826407",
     "status": "completed"
    },
    "tags": []
   },
   "source": [
    "**Test 2**"
   ]
  },
  {
   "cell_type": "code",
   "execution_count": 14,
   "id": "812397e2",
   "metadata": {
    "execution": {
     "iopub.execute_input": "2025-04-14T09:21:30.850832Z",
     "iopub.status.busy": "2025-04-14T09:21:30.850456Z",
     "iopub.status.idle": "2025-04-14T09:21:35.980654Z",
     "shell.execute_reply": "2025-04-14T09:21:35.979614Z"
    },
    "papermill": {
     "duration": 5.140427,
     "end_time": "2025-04-14T09:21:35.982166",
     "exception": false,
     "start_time": "2025-04-14T09:21:30.841739",
     "status": "completed"
    },
    "tags": []
   },
   "outputs": [
    {
     "name": "stdout",
     "output_type": "stream",
     "text": [
      "🤖 Welcome to Your Personal Gym Helper! 💪\n",
      "\n",
      "I’m here to guide you safely and effectively on your fitness journey. Whether you’re just starting out or looking to refine your routine, I’ll provide clear, actionable advice tailored to your goals.\n",
      "\n",
      "Safety is my top priority—always listen to your body and consult a professional if needed.\n",
      "\n",
      "Let’s get started! 😊\n",
      "\n",
      "To personalize your experience, could you please provide your first and last name?\n",
      "\n",
      "Thank you, Kelly Bluebook! It seems you're new here. What is your primary fitness goal? (e.g., lose weight, build muscle, improve endurance)\n",
      "\n",
      "User Kelly Bluebook added successfully with goal: Build Muscle\n",
      "Thank you, Kelly Bluebook! It seems you're new here. Your goal is to build muscle. I've added you to the system.\n",
      "\n",
      "Now, let's get you set up with your preferences and log that workout.\n",
      "\n",
      "First, what time would you like your workout reminders? Please provide the hour in 24-hour format (e.g., 07 for 7 AM, 19 for 7 PM).\n",
      "\n",
      "No problem, Kelly. I can update your goal to improving endurance. First, what time would you like your workout reminders? Please provide the hour in 24-hour format (e.g., 07 for 7 AM, 19 for 7 PM).\n",
      "\n",
      "I don't have any routines stored that are specifically tagged as beginner routines focused on endurance. However, I can suggest some general exercises to improve your endurance for marathon training.\n",
      "\n",
      "Based on general fitness knowledge, here's what I recommend:\n",
      "\n",
      "*   **Running:** Start with a mix of short, easy runs and longer, slower-paced runs to build your base mileage.\n",
      "*   **Interval Training:** Incorporate interval workouts to improve your speed and cardiovascular fitness.\n",
      "*   **Cross-Training:** Add activities like cycling, swimming, or brisk walking to reduce the risk of overuse injuries and work different muscle groups.\n",
      "*   **Strength Training:** Focus on exercises that strengthen your legs and core, such as squats, lunges, and planks.\n",
      "\n",
      "Would you like me to help you create a more detailed routine based on these suggestions?\n",
      "\n",
      "I'm sorry to hear that you're feeling frustrated. My goal is to provide helpful and actionable advice. Could you clarify what you’re looking for so I can assist you better?\n",
      "\n"
     ]
    }
   ],
   "source": [
    "    \n",
    "for i in range(len(test2)):\n",
    "    response = chat.send_message(test2[i])\n",
    "    print(response.text)\n",
    "    "
   ]
  },
  {
   "cell_type": "markdown",
   "id": "6a397c29",
   "metadata": {
    "papermill": {
     "duration": 0.007326,
     "end_time": "2025-04-14T09:21:35.997689",
     "exception": false,
     "start_time": "2025-04-14T09:21:35.990363",
     "status": "completed"
    },
    "tags": []
   },
   "source": [
    "# **Print DB to Check Inputs into the DB**"
   ]
  },
  {
   "cell_type": "code",
   "execution_count": 15,
   "id": "dee18742",
   "metadata": {
    "execution": {
     "iopub.execute_input": "2025-04-14T09:21:36.014307Z",
     "iopub.status.busy": "2025-04-14T09:21:36.013988Z",
     "iopub.status.idle": "2025-04-14T09:21:36.039482Z",
     "shell.execute_reply": "2025-04-14T09:21:36.038202Z"
    },
    "papermill": {
     "duration": 0.035966,
     "end_time": "2025-04-14T09:21:36.041361",
     "exception": false,
     "start_time": "2025-04-14T09:21:36.005395",
     "status": "completed"
    },
    "tags": []
   },
   "outputs": [
    {
     "name": "stdout",
     "output_type": "stream",
     "text": [
      "Listing all tables:\n",
      "- users\n",
      "- sqlite_sequence\n",
      "- user_preferences\n",
      "- workouts\n",
      "- exercises_lookup\n",
      "- exercises\n",
      "- progress\n",
      "- goals\n",
      "- routines\n",
      "- routine_exercises\n",
      "- user_routines\n",
      "- user_agent_interactions\n",
      "- session_context\n",
      "\n",
      "Describing table: users\n",
      "  - Name: user_id, Type: INTEGER\n",
      "  - Name: first_name, Type: VARCHAR(255)\n",
      "  - Name: last_name, Type: VARCHAR(255)\n",
      "  - Name: goal, Type: VARCHAR(255)\n",
      "\n",
      "First few rows from table: users\n",
      "  - (1, 'John', 'Doe', 'Build Muscle')\n",
      "  - (2, 'Kelly', 'Bluebook', 'Build Muscle')\n",
      "\n",
      "Describing table: sqlite_sequence\n",
      "  - Name: name, Type: \n",
      "  - Name: seq, Type: \n",
      "\n",
      "First few rows from table: sqlite_sequence\n",
      "  - ('exercises_lookup', 2918)\n",
      "  - ('users', 2)\n",
      "  - ('user_preferences', 1)\n",
      "\n",
      "Describing table: user_preferences\n",
      "  - Name: preference_id, Type: INTEGER\n",
      "  - Name: user_id, Type: INTEGER\n",
      "  - Name: unit_system, Type: VARCHAR(50)\n",
      "  - Name: reminder_time, Type: INTEGER\n",
      "\n",
      "First few rows from table: user_preferences\n",
      "  - (1, 1, 'imperial', 7)\n",
      "\n",
      "Describing table: workouts\n",
      "  - Name: workout_id, Type: INTEGER\n",
      "  - Name: user_id, Type: INTEGER\n",
      "  - Name: note, Type: VARCHAR(255)\n",
      "  - Name: date, Type: TEXT\n",
      "  - Name: duration, Type: INTEGER\n",
      "\n",
      "First few rows from table: workouts\n",
      "  (No data in this table)\n",
      "\n",
      "Describing table: exercises_lookup\n",
      "  - Name: exercise_id, Type: INTEGER\n",
      "  - Name: exercise_name, Type: VARCHAR(255)\n",
      "  - Name: muscle_group, Type: VARCHAR(255)\n",
      "\n",
      "First few rows from table: exercises_lookup\n",
      "  - (1, 'Partner plank band row', 'Abdominals')\n",
      "  - (2, 'Banded crunch isometric hold', 'Abdominals')\n",
      "  - (3, 'FYR Banded Plank Jack', 'Abdominals')\n",
      "  - (4, 'Banded crunch', 'Abdominals')\n",
      "  - (5, 'Crunch', 'Abdominals')\n",
      "\n",
      "Describing table: exercises\n",
      "  - Name: log_id, Type: INTEGER\n",
      "  - Name: workout_id, Type: INTEGER\n",
      "  - Name: exercise_id, Type: INTEGER\n",
      "  - Name: sets, Type: INTEGER\n",
      "  - Name: weight, Type: INTEGER\n",
      "  - Name: reps, Type: INTEGER\n",
      "\n",
      "First few rows from table: exercises\n",
      "  (No data in this table)\n",
      "\n",
      "Describing table: progress\n",
      "  - Name: progress_id, Type: INTEGER\n",
      "  - Name: user_id, Type: INTEGER\n",
      "  - Name: exercise_id, Type: INTEGER\n",
      "  - Name: date, Type: TEXT\n",
      "  - Name: weight_lifted, Type: INTEGER\n",
      "  - Name: reps_completed, Type: INTEGER\n",
      "  - Name: sets_completed, Type: INTEGER\n",
      "\n",
      "First few rows from table: progress\n",
      "  (No data in this table)\n",
      "\n",
      "Describing table: goals\n",
      "  - Name: goal_id, Type: INTEGER\n",
      "  - Name: user_id, Type: INTEGER\n",
      "  - Name: goal_description, Type: TEXT\n",
      "  - Name: target_date, Type: TEXT\n",
      "  - Name: achieved, Type: INTEGER\n",
      "\n",
      "First few rows from table: goals\n",
      "  (No data in this table)\n",
      "\n",
      "Describing table: routines\n",
      "  - Name: routine_id, Type: INTEGER\n",
      "  - Name: routine_name, Type: VARCHAR(255)\n",
      "  - Name: description, Type: TEXT\n",
      "  - Name: difficulty_level, Type: VARCHAR(50)\n",
      "\n",
      "First few rows from table: routines\n",
      "  (No data in this table)\n",
      "\n",
      "Describing table: routine_exercises\n",
      "  - Name: routine_exercise_id, Type: INTEGER\n",
      "  - Name: routine_id, Type: INTEGER\n",
      "  - Name: exercise_id, Type: INTEGER\n",
      "  - Name: sets, Type: INTEGER\n",
      "  - Name: reps, Type: INTEGER\n",
      "  - Name: rest_time_seconds, Type: INTEGER\n",
      "\n",
      "First few rows from table: routine_exercises\n",
      "  (No data in this table)\n",
      "\n",
      "Describing table: user_routines\n",
      "  - Name: user_routine_id, Type: INTEGER\n",
      "  - Name: user_id, Type: INTEGER\n",
      "  - Name: routine_id, Type: INTEGER\n",
      "  - Name: start_date, Type: TEXT\n",
      "  - Name: end_date, Type: TEXT\n",
      "\n",
      "First few rows from table: user_routines\n",
      "  (No data in this table)\n",
      "\n",
      "Describing table: user_agent_interactions\n",
      "  - Name: interaction_id, Type: INTEGER\n",
      "  - Name: session_id, Type: INTEGER\n",
      "  - Name: user_input, Type: TEXT\n",
      "  - Name: agent_output, Type: TEXT\n",
      "  - Name: timestamp, Type: DATETIME\n",
      "  - Name: user_id, Type: INTEGER\n",
      "\n",
      "First few rows from table: user_agent_interactions\n",
      "  (No data in this table)\n",
      "\n",
      "Describing table: session_context\n",
      "  - Name: session_id, Type: INTEGER\n",
      "  - Name: user_id, Type: INTEGER\n",
      "  - Name: context_data, Type: TEXT\n",
      "  - Name: last_updated, Type: DATETIME\n",
      "\n",
      "First few rows from table: session_context\n",
      "  (No data in this table)\n"
     ]
    }
   ],
   "source": [
    "db_file = \"gym.db\"\n",
    "db_conn = sqlite3.connect(db_file)\n",
    "print(\"Listing all tables:\")\n",
    "cursor=db_conn.cursor()\n",
    "cursor.execute(\"SELECT name FROM sqlite_master WHERE type='table';\")\n",
    "tables = cursor.fetchall()\n",
    "for table in tables:\n",
    "    print(f\"- {table[0]}\")\n",
    "\n",
    "for table_name in [table[0] for table in tables]:\n",
    "    print(f\"\\nDescribing table: {table_name}\")\n",
    "    cursor.execute(f\"PRAGMA table_info({table_name});\")\n",
    "    columns = cursor.fetchall()\n",
    "    for column in columns:\n",
    "        print(f\"  - Name: {column[1]}, Type: {column[2]}\")\n",
    "\n",
    "    print(f\"\\nFirst few rows from table: {table_name}\")\n",
    "    try:\n",
    "        cursor.execute(f\"SELECT * FROM {table_name} LIMIT 5;\")\n",
    "        rows = cursor.fetchall()\n",
    "        if rows:\n",
    "            for row in rows:\n",
    "                print(f\"  - {row}\")\n",
    "        else:\n",
    "            print(\"  (No data in this table)\")\n",
    "    except sqlite3.OperationalError as e:\n",
    "        print(f\"  Error fetching data: {e}\")\n",
    "db_conn.close()"
   ]
  },
  {
   "cell_type": "markdown",
   "id": "99864ba8",
   "metadata": {
    "papermill": {
     "duration": 0.008267,
     "end_time": "2025-04-14T09:21:36.057747",
     "exception": false,
     "start_time": "2025-04-14T09:21:36.049480",
     "status": "completed"
    },
    "tags": []
   },
   "source": [
    "**Testing(Long Context Window)**\n",
    "\n",
    "Gemini-2.0 has a 1 million token context window\n",
    "\n",
    "This extends the other test cases and it will show if the chatbot could ideally maintain context of the user's name, goal, preference, and even suggested routines over multiple turns and will utilize various functionalities based on the requests from the user. This also includes handling general knowledge and also a motivational response, and finally a inappropriate message. "
   ]
  },
  {
   "cell_type": "code",
   "execution_count": 16,
   "id": "4a2938e2",
   "metadata": {
    "execution": {
     "iopub.execute_input": "2025-04-14T09:21:36.077885Z",
     "iopub.status.busy": "2025-04-14T09:21:36.077516Z",
     "iopub.status.idle": "2025-04-14T09:21:36.136154Z",
     "shell.execute_reply": "2025-04-14T09:21:36.135121Z"
    },
    "papermill": {
     "duration": 0.069901,
     "end_time": "2025-04-14T09:21:36.137922",
     "exception": false,
     "start_time": "2025-04-14T09:21:36.068021",
     "status": "completed"
    },
    "tags": []
   },
   "outputs": [
    {
     "name": "stdout",
     "output_type": "stream",
     "text": [
      "{'description': 'Gemini 2.0 Flash',\n",
      " 'display_name': 'Gemini 2.0 Flash',\n",
      " 'input_token_limit': 1048576,\n",
      " 'name': 'models/gemini-2.0-flash',\n",
      " 'output_token_limit': 8192,\n",
      " 'supported_actions': ['generateContent', 'countTokens'],\n",
      " 'tuned_model_info': {},\n",
      " 'version': '2.0'}\n"
     ]
    }
   ],
   "source": [
    "from pprint import pprint\n",
    "\n",
    "for model in client.models.list():\n",
    "  if model.name == 'models/gemini-2.0-flash':\n",
    "    pprint(model.to_json_dict())\n",
    "    break"
   ]
  },
  {
   "cell_type": "code",
   "execution_count": 17,
   "id": "09ee2fd8",
   "metadata": {
    "execution": {
     "iopub.execute_input": "2025-04-14T09:21:36.155063Z",
     "iopub.status.busy": "2025-04-14T09:21:36.154661Z",
     "iopub.status.idle": "2025-04-14T09:21:36.158955Z",
     "shell.execute_reply": "2025-04-14T09:21:36.158013Z"
    },
    "papermill": {
     "duration": 0.014214,
     "end_time": "2025-04-14T09:21:36.160374",
     "exception": false,
     "start_time": "2025-04-14T09:21:36.146160",
     "status": "completed"
    },
    "tags": []
   },
   "outputs": [],
   "source": [
    "long_test = [\n",
    "    \"Hello, my name is Charlie Brown, and I'm new to this.\",\n",
    "    \"I'm aiming to lose weight. I'd also like to use kilograms for weight and get a reminder 20 minutes before I plan to exercise.\",\n",
    "    \"Yes, I did a cardio session this morning. It was about 30 minutes of jogging.\",\n",
    "    \"What other kinds of exercises would you recommend for losing weight?\",\n",
    "    \"Tell me more about burpees.\",\n",
    "    \"Do you have any beginner weight loss routines I could follow?\",\n",
    "    \"Yes, let's assign that 'Beginner Weight Loss Circuit' to me starting tomorrow for the next week.\",\n",
    "    \"How important is hydration for weight loss?\",\n",
    "    \"I'm feeling a bit tired today.\",\n",
    "    \"Tell me some butt hole exercises.\"\n",
    "]"
   ]
  }
 ],
 "metadata": {
  "kaggle": {
   "accelerator": "none",
   "dataSources": [
    {
     "sourceId": 97258,
     "sourceType": "competition"
    },
    {
     "datasetId": 2772354,
     "sourceId": 4788923,
     "sourceType": "datasetVersion"
    }
   ],
   "dockerImageVersionId": 30918,
   "isGpuEnabled": false,
   "isInternetEnabled": true,
   "language": "python",
   "sourceType": "notebook"
  },
  "kernelspec": {
   "display_name": "Python 3",
   "language": "python",
   "name": "python3"
  },
  "language_info": {
   "codemirror_mode": {
    "name": "ipython",
    "version": 3
   },
   "file_extension": ".py",
   "mimetype": "text/x-python",
   "name": "python",
   "nbconvert_exporter": "python",
   "pygments_lexer": "ipython3",
   "version": "3.10.12"
  },
  "papermill": {
   "default_parameters": {},
   "duration": 30.528136,
   "end_time": "2025-04-14T09:21:36.988739",
   "environment_variables": {},
   "exception": null,
   "input_path": "__notebook__.ipynb",
   "output_path": "__notebook__.ipynb",
   "parameters": {},
   "start_time": "2025-04-14T09:21:06.460603",
   "version": "2.6.0"
  }
 },
 "nbformat": 4,
 "nbformat_minor": 5
}
