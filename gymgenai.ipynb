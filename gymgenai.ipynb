{
 "cells": [
  {
   "cell_type": "markdown",
   "id": "0c48cd1e",
   "metadata": {
    "papermill": {
     "duration": 0.007143,
     "end_time": "2025-04-13T09:58:39.895470",
     "exception": false,
     "start_time": "2025-04-13T09:58:39.888327",
     "status": "completed"
    },
    "tags": []
   },
   "source": [
    "# **Problem/Case:**\n",
    "\n",
    "New to the gym and looking for direction? The Beginner Gym Interactive Bot provides personalized workout plans based on your available workout days and fitness objectives. Get started on the right track with a tailored routine designed for beginners."
   ]
  },
  {
   "cell_type": "markdown",
   "id": "81d9cc24",
   "metadata": {
    "papermill": {
     "duration": 0.005915,
     "end_time": "2025-04-13T09:58:39.907797",
     "exception": false,
     "start_time": "2025-04-13T09:58:39.901882",
     "status": "completed"
    },
    "tags": []
   },
   "source": [
    "**Set Up:**\n",
    "Start by installing and importing the Python SDK. \n",
    "\n",
    "**Set Up API Key:**\n",
    "Use the API key under Kaggle Secret. It must be stored in the Kaggle Secret named \"GOOGLE_API_KEY.\"\n",
    "\n",
    "**Automated Retry:**\n",
    "Define a retry policy. The model might make multiple consecutive calls automatically."
   ]
  },
  {
   "cell_type": "code",
   "execution_count": 1,
   "id": "3b782e2e",
   "metadata": {
    "_cell_guid": "b1076dfc-b9ad-4769-8c92-a6c4dae69d19",
    "_uuid": "8f2839f25d086af736a60e9eeb907d3b93b6e0e5",
    "execution": {
     "iopub.execute_input": "2025-04-13T09:58:39.921615Z",
     "iopub.status.busy": "2025-04-13T09:58:39.921172Z",
     "iopub.status.idle": "2025-04-13T09:58:50.475482Z",
     "shell.execute_reply": "2025-04-13T09:58:50.474176Z"
    },
    "papermill": {
     "duration": 10.563933,
     "end_time": "2025-04-13T09:58:50.477801",
     "exception": false,
     "start_time": "2025-04-13T09:58:39.913868",
     "status": "completed"
    },
    "tags": []
   },
   "outputs": [
    {
     "name": "stdout",
     "output_type": "stream",
     "text": [
      "\u001b[2K   \u001b[90m━━━━━━━━━━━━━━━━━━━━━━━━━━━━━━━━━━━━━━━━\u001b[0m \u001b[32m144.7/144.7 kB\u001b[0m \u001b[31m7.4 MB/s\u001b[0m eta \u001b[36m0:00:00\u001b[0m\r\n",
      "\u001b[2K   \u001b[90m━━━━━━━━━━━━━━━━━━━━━━━━━━━━━━━━━━━━━━━━\u001b[0m \u001b[32m100.9/100.9 kB\u001b[0m \u001b[31m5.5 MB/s\u001b[0m eta \u001b[36m0:00:00\u001b[0m\r\n",
      "\u001b[?25h"
     ]
    }
   ],
   "source": [
    "from typing import Optional\n",
    "from datetime import datetime\n",
    "!pip uninstall -qqy jupyterlab  # Remove unused conflicting packages\n",
    "!pip install -U -q \"google-genai==1.7.0\"\n",
    "from google import genai\n",
    "from google.genai import types\n",
    "\n",
    "genai.__version__\n",
    "from kaggle_secrets import UserSecretsClient\n",
    "\n",
    "GOOGLE_API_KEY = UserSecretsClient().get_secret(\"GOOGLE_API_KEY\")\n",
    "from google.api_core import retry\n",
    "\n",
    "is_retriable = lambda e: (isinstance(e, genai.errors.APIError) and e.code in {429, 503})\n",
    "\n",
    "if not hasattr(genai.models.Models.generate_content, '__wrapped__'):\n",
    "  genai.models.Models.generate_content = retry.Retry(\n",
    "      predicate=is_retriable)(genai.models.Models.generate_content)"
   ]
  },
  {
   "cell_type": "markdown",
   "id": "bd67ed58",
   "metadata": {
    "papermill": {
     "duration": 0.006337,
     "end_time": "2025-04-13T09:58:50.491398",
     "exception": false,
     "start_time": "2025-04-13T09:58:50.485061",
     "status": "completed"
    },
    "tags": []
   },
   "source": [
    "# **Storing Information in a DB:**\n",
    "\n",
    "This code sets up a database named \"gym.db\" to help manage gym-related information. It creates several tables to store data about users, their preferences, workout logs, individual exercises, progress tracking, fitness goals, pre-defined workout routines, the exercises within those routines, which routines users are following, and records of interactions with a potential gym assistant bot."
   ]
  },
  {
   "cell_type": "code",
   "execution_count": 2,
   "id": "fca4ffad",
   "metadata": {
    "execution": {
     "iopub.execute_input": "2025-04-13T09:58:50.505451Z",
     "iopub.status.busy": "2025-04-13T09:58:50.504885Z",
     "iopub.status.idle": "2025-04-13T09:58:52.437338Z",
     "shell.execute_reply": "2025-04-13T09:58:52.436178Z"
    },
    "papermill": {
     "duration": 1.941755,
     "end_time": "2025-04-13T09:58:52.439356",
     "exception": false,
     "start_time": "2025-04-13T09:58:50.497601",
     "status": "completed"
    },
    "tags": []
   },
   "outputs": [],
   "source": [
    "%load_ext sql\n",
    "%sql sqlite:///gym.db"
   ]
  },
  {
   "cell_type": "code",
   "execution_count": 3,
   "id": "24e2cf61",
   "metadata": {
    "execution": {
     "iopub.execute_input": "2025-04-13T09:58:52.455743Z",
     "iopub.status.busy": "2025-04-13T09:58:52.455158Z",
     "iopub.status.idle": "2025-04-13T09:58:52.592622Z",
     "shell.execute_reply": "2025-04-13T09:58:52.591692Z"
    },
    "papermill": {
     "duration": 0.148313,
     "end_time": "2025-04-13T09:58:52.594439",
     "exception": false,
     "start_time": "2025-04-13T09:58:52.446126",
     "status": "completed"
    },
    "tags": []
   },
   "outputs": [
    {
     "name": "stdout",
     "output_type": "stream",
     "text": [
      " * sqlite:///gym.db\n",
      "Done.\n",
      "Done.\n",
      "Done.\n",
      "Done.\n",
      "Done.\n",
      "Done.\n",
      "Done.\n",
      "Done.\n",
      "Done.\n",
      "Done.\n"
     ]
    },
    {
     "data": {
      "text/plain": [
       "[]"
      ]
     },
     "execution_count": 3,
     "metadata": {},
     "output_type": "execute_result"
    }
   ],
   "source": [
    "%%sql\n",
    "CREATE TABLE IF NOT EXISTS users (\n",
    "    user_id INTEGER PRIMARY KEY AUTOINCREMENT,\n",
    "    first_name VARCHAR(255) NOT NULL,\n",
    "    last_name VARCHAR(255) NOT NULL,\n",
    "    goal VARCHAR(255) NOT NULL\n",
    ");\n",
    "\n",
    "CREATE TABLE IF NOT EXISTS user_preferences (\n",
    "    preference_id INTEGER PRIMARY KEY AUTOINCREMENT,\n",
    "    user_id INTEGER NOT NULL,\n",
    "    unit_system VARCHAR(50) NOT NULL, -- e.g., Metric, Imperial\n",
    "    reminder_time INTEGER, -- in seconds before workout\n",
    "    FOREIGN KEY (user_id) REFERENCES users(user_id)\n",
    ");\n",
    "\n",
    "CREATE TABLE IF NOT EXISTS workouts (\n",
    "    workout_id INTEGER PRIMARY KEY AUTOINCREMENT,\n",
    "    user_id INTEGER NOT NULL,\n",
    "    note VARCHAR(255) NOT NULL,\n",
    "    date TEXT NOT NULL, -- ISO 8601 format (YYYY-MM-DD)\n",
    "    duration INTEGER, -- in minutes\n",
    "    FOREIGN KEY (user_id) REFERENCES users(user_id)\n",
    ");\n",
    "\n",
    "CREATE TABLE IF NOT EXISTS exercises_lookup (\n",
    "    exercise_id INTEGER PRIMARY KEY AUTOINCREMENT,\n",
    "    exercise_name VARCHAR(255) NOT NULL UNIQUE,\n",
    "    muscle_group VARCHAR(255) NOT NULL\n",
    ");\n",
    "\n",
    "CREATE TABLE IF NOT EXISTS exercises (\n",
    "    log_id INTEGER PRIMARY KEY AUTOINCREMENT,\n",
    "    workout_id INTEGER NOT NULL,\n",
    "    exercise_id INTEGER NOT NULL,\n",
    "    sets INTEGER NOT NULL,\n",
    "    weight INTEGER NOT NULL,\n",
    "    reps INTEGER NOT NULL,\n",
    "    FOREIGN KEY (workout_id) REFERENCES workouts(workout_id),\n",
    "    FOREIGN KEY (exercise_id) REFERENCES exercises_lookup(exercise_id)\n",
    ");\n",
    "\n",
    "CREATE TABLE IF NOT EXISTS progress (\n",
    "    progress_id INTEGER PRIMARY KEY AUTOINCREMENT,\n",
    "    user_id INTEGER NOT NULL,\n",
    "    exercise_id INTEGER NOT NULL,\n",
    "    date TEXT NOT NULL, -- ISO 8601 format (YYYY-MM-DD)\n",
    "    weight_lifted INTEGER NOT NULL,\n",
    "    reps_completed INTEGER NOT NULL,\n",
    "    sets_completed INTEGER NOT NULL,\n",
    "    FOREIGN KEY (user_id) REFERENCES users(user_id),\n",
    "    FOREIGN KEY (exercise_id) REFERENCES exercises_lookup(exercise_id)\n",
    ");\n",
    "\n",
    "CREATE TABLE IF NOT EXISTS goals (\n",
    "    goal_id INTEGER PRIMARY KEY AUTOINCREMENT,\n",
    "    user_id INTEGER NOT NULL,\n",
    "    goal_description TEXT NOT NULL,\n",
    "    target_date TEXT NOT NULL, -- ISO 8601 format (YYYY-MM-DD)\n",
    "    achieved INTEGER DEFAULT 0, -- 0 = False, 1 = True\n",
    "    FOREIGN KEY (user_id) REFERENCES users(user_id)\n",
    ");\n",
    "\n",
    "CREATE TABLE IF NOT EXISTS routines (\n",
    "    routine_id INTEGER PRIMARY KEY AUTOINCREMENT,\n",
    "    routine_name VARCHAR(255) NOT NULL,\n",
    "    description TEXT NOT NULL,\n",
    "    difficulty_level VARCHAR(50) NOT NULL -- e.g., Beginner, Intermediate, Advanced\n",
    ");\n",
    "\n",
    "CREATE TABLE IF NOT EXISTS routine_exercises (\n",
    "    routine_exercise_id INTEGER PRIMARY KEY AUTOINCREMENT,\n",
    "    routine_id INTEGER NOT NULL,\n",
    "    exercise_id INTEGER NOT NULL,\n",
    "    sets INTEGER NOT NULL,\n",
    "    reps INTEGER NOT NULL,\n",
    "    rest_time_seconds INTEGER NOT NULL, -- in seconds\n",
    "    FOREIGN KEY (routine_id) REFERENCES routines(routine_id),\n",
    "    FOREIGN KEY (exercise_id) REFERENCES exercises_lookup(exercise_id)\n",
    ");\n",
    "\n",
    "CREATE TABLE IF NOT EXISTS user_routines (\n",
    "    user_routine_id INTEGER PRIMARY KEY AUTOINCREMENT,\n",
    "    user_id INTEGER NOT NULL,\n",
    "    routine_id INTEGER NOT NULL,\n",
    "    start_date TEXT NOT NULL, -- ISO 8601 format (YYYY-MM-DD)\n",
    "    end_date TEXT, -- ISO 8601 format (YYYY-MM-DD)\n",
    "    FOREIGN KEY (user_id) REFERENCES users(user_id),\n",
    "    FOREIGN KEY (routine_id) REFERENCES routines(routine_id)\n",
    ");"
   ]
  },
  {
   "cell_type": "markdown",
   "id": "2f6fed40",
   "metadata": {
    "papermill": {
     "duration": 0.00615,
     "end_time": "2025-04-13T09:58:52.607108",
     "exception": false,
     "start_time": "2025-04-13T09:58:52.600958",
     "status": "completed"
    },
    "tags": []
   },
   "source": [
    "# **Adding Exercises into the database**\n",
    "\n",
    "The problem I'm facing is that when you ask the bot for exercises, it tells you that there is no exercises in the database so I'm going to change that. \n"
   ]
  },
  {
   "cell_type": "code",
   "execution_count": 4,
   "id": "5cd8ad89",
   "metadata": {
    "execution": {
     "iopub.execute_input": "2025-04-13T09:58:52.621350Z",
     "iopub.status.busy": "2025-04-13T09:58:52.620915Z",
     "iopub.status.idle": "2025-04-13T09:58:52.717053Z",
     "shell.execute_reply": "2025-04-13T09:58:52.715947Z"
    },
    "papermill": {
     "duration": 0.105104,
     "end_time": "2025-04-13T09:58:52.718714",
     "exception": false,
     "start_time": "2025-04-13T09:58:52.613610",
     "status": "completed"
    },
    "tags": []
   },
   "outputs": [
    {
     "name": "stdout",
     "output_type": "stream",
     "text": [
      "<class 'pandas.core.frame.DataFrame'>\n",
      "RangeIndex: 2918 entries, 0 to 2917\n",
      "Data columns (total 9 columns):\n",
      " #   Column      Non-Null Count  Dtype  \n",
      "---  ------      --------------  -----  \n",
      " 0   Unnamed: 0  2918 non-null   int64  \n",
      " 1   Title       2918 non-null   object \n",
      " 2   Desc        1368 non-null   object \n",
      " 3   Type        2918 non-null   object \n",
      " 4   BodyPart    2918 non-null   object \n",
      " 5   Equipment   2886 non-null   object \n",
      " 6   Level       2918 non-null   object \n",
      " 7   Rating      1031 non-null   float64\n",
      " 8   RatingDesc  862 non-null    object \n",
      "dtypes: float64(1), int64(1), object(7)\n",
      "memory usage: 205.3+ KB\n"
     ]
    },
    {
     "data": {
      "text/html": [
       "<div>\n",
       "<style scoped>\n",
       "    .dataframe tbody tr th:only-of-type {\n",
       "        vertical-align: middle;\n",
       "    }\n",
       "\n",
       "    .dataframe tbody tr th {\n",
       "        vertical-align: top;\n",
       "    }\n",
       "\n",
       "    .dataframe thead th {\n",
       "        text-align: right;\n",
       "    }\n",
       "</style>\n",
       "<table border=\"1\" class=\"dataframe\">\n",
       "  <thead>\n",
       "    <tr style=\"text-align: right;\">\n",
       "      <th></th>\n",
       "      <th>Unnamed: 0</th>\n",
       "      <th>Rating</th>\n",
       "    </tr>\n",
       "  </thead>\n",
       "  <tbody>\n",
       "    <tr>\n",
       "      <th>count</th>\n",
       "      <td>2918.000000</td>\n",
       "      <td>1031.000000</td>\n",
       "    </tr>\n",
       "    <tr>\n",
       "      <th>mean</th>\n",
       "      <td>1458.500000</td>\n",
       "      <td>5.919690</td>\n",
       "    </tr>\n",
       "    <tr>\n",
       "      <th>std</th>\n",
       "      <td>842.498368</td>\n",
       "      <td>3.584607</td>\n",
       "    </tr>\n",
       "    <tr>\n",
       "      <th>min</th>\n",
       "      <td>0.000000</td>\n",
       "      <td>0.000000</td>\n",
       "    </tr>\n",
       "    <tr>\n",
       "      <th>25%</th>\n",
       "      <td>729.250000</td>\n",
       "      <td>3.000000</td>\n",
       "    </tr>\n",
       "    <tr>\n",
       "      <th>50%</th>\n",
       "      <td>1458.500000</td>\n",
       "      <td>7.900000</td>\n",
       "    </tr>\n",
       "    <tr>\n",
       "      <th>75%</th>\n",
       "      <td>2187.750000</td>\n",
       "      <td>8.700000</td>\n",
       "    </tr>\n",
       "    <tr>\n",
       "      <th>max</th>\n",
       "      <td>2917.000000</td>\n",
       "      <td>9.600000</td>\n",
       "    </tr>\n",
       "  </tbody>\n",
       "</table>\n",
       "</div>"
      ],
      "text/plain": [
       "        Unnamed: 0       Rating\n",
       "count  2918.000000  1031.000000\n",
       "mean   1458.500000     5.919690\n",
       "std     842.498368     3.584607\n",
       "min       0.000000     0.000000\n",
       "25%     729.250000     3.000000\n",
       "50%    1458.500000     7.900000\n",
       "75%    2187.750000     8.700000\n",
       "max    2917.000000     9.600000"
      ]
     },
     "execution_count": 4,
     "metadata": {},
     "output_type": "execute_result"
    }
   ],
   "source": [
    "import numpy as np\n",
    "import matplotlib.pyplot as plt\n",
    "import pandas as pd\n",
    "\n",
    "df = pd.read_csv(\"/kaggle/input/gym-exercise-data/megaGymDataset.csv\") \n",
    "df.info()\n",
    "df.describe()"
   ]
  },
  {
   "cell_type": "code",
   "execution_count": 5,
   "id": "f0f4528b",
   "metadata": {
    "execution": {
     "iopub.execute_input": "2025-04-13T09:58:52.733684Z",
     "iopub.status.busy": "2025-04-13T09:58:52.733357Z",
     "iopub.status.idle": "2025-04-13T09:58:52.756694Z",
     "shell.execute_reply": "2025-04-13T09:58:52.755634Z"
    },
    "papermill": {
     "duration": 0.032665,
     "end_time": "2025-04-13T09:58:52.758366",
     "exception": false,
     "start_time": "2025-04-13T09:58:52.725701",
     "status": "completed"
    },
    "tags": []
   },
   "outputs": [
    {
     "name": "stdout",
     "output_type": "stream",
     "text": [
      "<class 'pandas.core.frame.DataFrame'>\n",
      "RangeIndex: 2918 entries, 0 to 2917\n",
      "Data columns (total 9 columns):\n",
      " #   Column      Non-Null Count  Dtype  \n",
      "---  ------      --------------  -----  \n",
      " 0   Unnamed: 0  2918 non-null   int64  \n",
      " 1   Title       2918 non-null   object \n",
      " 2   Desc        1368 non-null   object \n",
      " 3   Type        2918 non-null   object \n",
      " 4   BodyPart    2918 non-null   object \n",
      " 5   Equipment   2918 non-null   object \n",
      " 6   Level       2918 non-null   object \n",
      " 7   Rating      1031 non-null   float64\n",
      " 8   RatingDesc  862 non-null    object \n",
      "dtypes: float64(1), int64(1), object(7)\n",
      "memory usage: 205.3+ KB\n"
     ]
    },
    {
     "data": {
      "text/plain": [
       "Unnamed: 0       0\n",
       "Title            0\n",
       "Desc          1550\n",
       "Type             0\n",
       "BodyPart         0\n",
       "Equipment        0\n",
       "Level            0\n",
       "Rating        1887\n",
       "RatingDesc    2056\n",
       "dtype: int64"
      ]
     },
     "execution_count": 5,
     "metadata": {},
     "output_type": "execute_result"
    }
   ],
   "source": [
    "df.isnull().sum()\n",
    "df.dropna(thresh=6)\n",
    "df[\"Equipment\"] = df[\"Equipment\"].fillna(\"Unknown\")\n",
    "df[\"BodyPart\"]= df[\"BodyPart\"].fillna(\"General\")\n",
    "df.info()\n",
    "df.isnull().sum()"
   ]
  },
  {
   "cell_type": "code",
   "execution_count": 6,
   "id": "0a6a94b3",
   "metadata": {
    "execution": {
     "iopub.execute_input": "2025-04-13T09:58:52.773500Z",
     "iopub.status.busy": "2025-04-13T09:58:52.773167Z",
     "iopub.status.idle": "2025-04-13T09:58:52.780774Z",
     "shell.execute_reply": "2025-04-13T09:58:52.779887Z"
    },
    "papermill": {
     "duration": 0.017024,
     "end_time": "2025-04-13T09:58:52.782463",
     "exception": false,
     "start_time": "2025-04-13T09:58:52.765439",
     "status": "completed"
    },
    "tags": []
   },
   "outputs": [
    {
     "data": {
      "text/plain": [
       "Equipment\n",
       "Body Only        1078\n",
       "Dumbbell          516\n",
       "Barbell           282\n",
       "Other             254\n",
       "Cable             226\n",
       "Machine           175\n",
       "Kettlebells       149\n",
       "Bands             100\n",
       "Medicine Ball      38\n",
       "Exercise Ball      35\n",
       "Unknown            32\n",
       "E-Z Curl Bar       22\n",
       "Foam Roll          11\n",
       "Name: count, dtype: int64"
      ]
     },
     "execution_count": 6,
     "metadata": {},
     "output_type": "execute_result"
    }
   ],
   "source": [
    "muscle_group = df[\"Equipment\"].value_counts()\n",
    "muscle_group"
   ]
  },
  {
   "cell_type": "markdown",
   "id": "986ef4b4",
   "metadata": {
    "papermill": {
     "duration": 0.006717,
     "end_time": "2025-04-13T09:58:52.796591",
     "exception": false,
     "start_time": "2025-04-13T09:58:52.789874",
     "status": "completed"
    },
    "tags": []
   },
   "source": [
    "**Testing/Caching DB**"
   ]
  },
  {
   "cell_type": "code",
   "execution_count": 7,
   "id": "46f222cd",
   "metadata": {
    "execution": {
     "iopub.execute_input": "2025-04-13T09:58:52.811583Z",
     "iopub.status.busy": "2025-04-13T09:58:52.811226Z",
     "iopub.status.idle": "2025-04-13T09:58:52.841976Z",
     "shell.execute_reply": "2025-04-13T09:58:52.840900Z"
    },
    "papermill": {
     "duration": 0.040228,
     "end_time": "2025-04-13T09:58:52.843661",
     "exception": false,
     "start_time": "2025-04-13T09:58:52.803433",
     "status": "completed"
    },
    "tags": []
   },
   "outputs": [
    {
     "name": "stdout",
     "output_type": "stream",
     "text": [
      " * sqlite:///gym.db\n",
      "Done.\n",
      "Done.\n"
     ]
    },
    {
     "data": {
      "text/plain": [
       "[]"
      ]
     },
     "execution_count": 7,
     "metadata": {},
     "output_type": "execute_result"
    }
   ],
   "source": [
    "%%sql\n",
    "CREATE TABLE IF NOT EXISTS user_agent_interactions (\n",
    "    interaction_id INTEGER PRIMARY KEY AUTOINCREMENT,\n",
    "    session_id INTEGER NOT NULL, \n",
    "    user_input TEXT NOT NULL, \n",
    "    agent_output TEXT NOT NULL, \n",
    "    timestamp DATETIME DEFAULT CURRENT_TIMESTAMP, \n",
    "    user_id INTEGER, \n",
    "    FOREIGN KEY (user_id) REFERENCES users(user_id)\n",
    ");\n",
    "\n",
    "CREATE TABLE IF NOT EXISTS session_context (\n",
    "    session_id INTEGER PRIMARY KEY,\n",
    "    user_id INTEGER, \n",
    "    context_data TEXT,\n",
    "    last_updated DATETIME DEFAULT CURRENT_TIMESTAMP,\n",
    "    FOREIGN KEY (user_id) REFERENCES users(user_id)\n",
    ");"
   ]
  },
  {
   "cell_type": "markdown",
   "id": "ab849b7b",
   "metadata": {
    "papermill": {
     "duration": 0.006763,
     "end_time": "2025-04-13T09:58:52.857734",
     "exception": false,
     "start_time": "2025-04-13T09:58:52.850971",
     "status": "completed"
    },
    "tags": []
   },
   "source": [
    "# **Python Functions for Interacting with the Gym Database**\n"
   ]
  },
  {
   "cell_type": "code",
   "execution_count": 8,
   "id": "eff7eaf3",
   "metadata": {
    "execution": {
     "iopub.execute_input": "2025-04-13T09:58:52.873781Z",
     "iopub.status.busy": "2025-04-13T09:58:52.873456Z",
     "iopub.status.idle": "2025-04-13T09:58:52.897110Z",
     "shell.execute_reply": "2025-04-13T09:58:52.895898Z"
    },
    "papermill": {
     "duration": 0.034053,
     "end_time": "2025-04-13T09:58:52.898980",
     "exception": false,
     "start_time": "2025-04-13T09:58:52.864927",
     "status": "completed"
    },
    "tags": []
   },
   "outputs": [],
   "source": [
    "import sqlite3\n",
    "db_file = \"gym.db\"\n",
    "db_conn = sqlite3.connect(db_file)\n",
    "\n",
    "\"\"\"\n",
    "List Tables: list_tables() retrieves and returns a list of all \n",
    "tables present in the database.\n",
    "\"\"\"\n",
    "def list_tables() -> list[str]:\n",
    "    print(' DB CALL:list_tables()')\n",
    "    cursor=db_conn.cursor()\n",
    "    cursor.execute(\"SELECT name FROM sqlite_master WHERE type='table';\")\n",
    "    tables=cursor.fetchall()\n",
    "    return [t[0] for t in tables]\n",
    "    \n",
    "\"\"\"\n",
    "Describe Table Structure: describe_table(table_name) \n",
    "takes a table name as input and returns a list of tuples, \n",
    "where each tuple contains the column name and its data type for the specified table.\n",
    "\"\"\"\n",
    "def describe_table(table_name:str) -> list[tuple[str,str]]:\n",
    "    print(f'-DB CALL: describe_table({table_name})')\n",
    "    cursor=db_conn.cursor()\n",
    "    cursor.execute(f\"PRAGMA table_info({table_name});\")\n",
    "    schema=cursor.fetchall()\n",
    "    return [(col[1],col[2]) for col in schema]\n",
    "\n",
    "\"\"\"\n",
    "Execute Raw SQL Queries: execute_query(sql) allows you to execute any valid SQL query- \n",
    "-against the database and returns the results as a list of lists.\n",
    "\"\"\"\n",
    "def execute_query(sql:str) -> list[list[str]]:\n",
    "    print(f' -DB CALL: execute_query({sql})')\n",
    "    cursor=db_conn.cursor()\n",
    "    cursor.execute(sql)\n",
    "    return cursor.fetchall()\n",
    "\n",
    "\"\"\"\n",
    "Add New User: add_new_user(first_name, last_name, goal) inserts a new user record into-\n",
    "-the users table.\n",
    "\"\"\"\n",
    "def add_new_user(first_name: str, last_name: str, goal: str) -> None:\n",
    "    try:\n",
    "        db_conn = sqlite3.connect(db_file)\n",
    "        cursor = db_conn.cursor()\n",
    "        sql = \"INSERT INTO users (first_name, last_name, goal) VALUES (?, ?, ?)\"\n",
    "        cursor.execute(sql, (first_name, last_name, goal))\n",
    "        db_conn.commit()\n",
    "        print(f\"User {first_name} {last_name} added successfully with goal: {goal}\")\n",
    "    except sqlite3.Error as e:\n",
    "        printf(f\"Error adding user: {e}\")\n",
    "    finally:\n",
    "        if db_conn:\n",
    "            db_conn.close()\n",
    "\n",
    "\"\"\"\n",
    "Add User Preferences: add_user_preference(user_id, unit_system, reminder_time) adds or updates-\n",
    "-preferences for a specific user in the user_preferences table.\n",
    "\"\"\"\n",
    "def add_user_preference(user_id: int, unit_system: str, reminder_time: int) -> None:\n",
    "    try:\n",
    "        db_conn = sqlite3.connect(db_file)\n",
    "        cursor = db_conn.cursor()\n",
    "        sql = \"INSERT INTO user_preferences (user_id, unit_system, reminder_time) VALUES (?, ?, ?)\"\n",
    "        cursor.execute(sql, (user_id, unit_system, reminder_time))\n",
    "        db_conn.commit()\n",
    "        print(f\"Preferences added for user ID {user_id}: Unit System - {unit_system}, Reminder Time - {reminder_time}\")\n",
    "    except sqlite3.Error as e:\n",
    "        print(f\"Error adding user preference: {e}\")\n",
    "    finally:\n",
    "        if db_conn:\n",
    "            db_conn.close()\n",
    "\n",
    "\"\"\"\n",
    "Log Workout: log_workout(user_id, note, date, duration) records a new workout session for a user-\n",
    "-in the workouts table and returns the ID of the newly created workout.\n",
    "\"\"\"\n",
    "def log_workout(user_id: int, note: str, date: str, duration: int) -> int:\n",
    "    workout_id = -1\n",
    "    try:\n",
    "        db_conn = sqlite3.connect(db_file)\n",
    "        cursor = db_conn.cursor()\n",
    "        sql = \"INSERT INTO workouts (user_id, note, date, duration) VALUES (?, ?, ?, ?)\"\n",
    "        cursor.execute(sql, (user_id, note, date, duration))\n",
    "        db_conn.commit()\n",
    "        workout_id = cursor.lastrowid\n",
    "        print(f\"Workout logged for user ID {user_id} with ID: {workout_id}\")\n",
    "    except sqlite3.Error as e:\n",
    "        print(f\"Error logging workout: {e}\")\n",
    "    finally:\n",
    "        if db_conn:\n",
    "            db_conn.close()\n",
    "    return workout_id\n",
    "\n",
    "\"\"\"\n",
    "Add Exercise Log: add_exercise_log(workout_id, exercise_id, sets, weight, reps) records the details-\n",
    "-of a specific exercise performed during a workout in the exercises table.\n",
    "\"\"\"\n",
    "def add_exercise_log(workout_id: int, exercise_id: int, sets: int, weight: int, reps: int) -> None:\n",
    "    \"\"\"Adds an exercise log to the 'exercises' table.\"\"\"\n",
    "    try:\n",
    "        db_conn = sqlite3.connect(db_file)\n",
    "        cursor = db_conn.cursor()\n",
    "        sql = \"INSERT INTO exercises (workout_id, exercise_id, sets, weight, reps) VALUES (?, ?, ?, ?, ?)\"\n",
    "        cursor.execute(sql, (workout_id, exercise_id, sets, weight, reps))\n",
    "        db_conn.commit()\n",
    "        print(f\"Exercise logged for workout ID {workout_id}, exercise ID {exercise_id}: Sets - {sets}, Weight - {weight}, Reps - {reps}\")\n",
    "    except sqlite3.Error as e:\n",
    "        print(f\"Error adding exercise log: {e}\")\n",
    "    finally:\n",
    "        if db_conn:\n",
    "            db_conn.close()\n",
    "\n",
    "\"\"\"\n",
    "Add Progress: add_progress(user_id, exercise_id, date, weight_lifted, reps_completed, sets_completed)-\n",
    "-logs the progress made by a user on a specific exercise over time in the progress table.\n",
    "\"\"\"\n",
    "def add_progress(user_id: int, exercise_id: int, date: str, weight_lifted: int, reps_completed: int, sets_completed: int) -> None:\n",
    "    try:\n",
    "        db_conn = sqlite3.connect(db_file)\n",
    "        cursor = db_conn.cursor()\n",
    "        sql = \"INSERT INTO progress (user_id, exercise_id, date, weight_lifted, reps_completed, sets_completed) VALUES (?, ?, ?, ?, ?, ?)\"\n",
    "        cursor.execute(sql, (user_id, exercise_id, date, weight_lifted, reps_completed, sets_completed))\n",
    "        db_conn.commit()\n",
    "        print(f\"Progress added for user {user_id}, exercise {exercise_id} on {date}: Weight - {weight_lifted}, Reps - {reps_completed}, Sets - {sets_completed}\")\n",
    "    except sqlite3.Error as e:\n",
    "        print(f\"Error adding progress: {e}\")\n",
    "    finally:\n",
    "        if db_conn:\n",
    "            db_conn.close()\n",
    "            \n",
    "\"\"\"\n",
    "Add Goal: add_goal(user_id, goal_description, target_date, achieved) adds a new fitness goal for a user in the goals table.\n",
    "\"\"\"\n",
    "def add_goal(user_id: int, goal_description: str, target_date: str, achieved: int) -> None:\n",
    "    try:\n",
    "        db_conn = sqlite3.connect(db_file)\n",
    "        cursor = db_conn.cursor()\n",
    "        sql = \"INSERT INTO goals (user_id, goal_description, target_date, achieved) VALUES (?, ?, ?, ?)\"\n",
    "        cursor.execute(sql, (user_id, goal_description, target_date, achieved))\n",
    "        db_conn.commit()\n",
    "        print(f\"Goal added for user {user_id}: {goal_description} (Target: {target_date}, Achieved: {achieved})\")\n",
    "    except sqlite3.Error as e:\n",
    "        print(f\"Error adding goal: {e}\")\n",
    "    finally:\n",
    "        if db_conn:\n",
    "            db_conn.close()\n",
    "\n",
    "\"\"\"\n",
    "Add Routine: add_routine(routine_name, description, difficulty_level) creates a new predefined workout routine in the routines-\n",
    "-table and returns the ID of the new routine.\n",
    "\"\"\"\n",
    "def add_routine(routine_name: str, description: str, difficulty_level: str) -> int:\n",
    "    routine_id = -1\n",
    "    try:\n",
    "        db_conn = sqlite3.connect(db_file)\n",
    "        cursor = db_conn.cursor()\n",
    "        sql = \"INSERT INTO routines (routine_name, description, difficulty_level) VALUES (?, ?, ?)\"\n",
    "        cursor.execute(sql, (routine_name, description, difficulty_level))\n",
    "        db_conn.commit()\n",
    "        routine_id = cursor.lastrowid\n",
    "        print(f\"Routine added: {routine_name} (ID: {routine_id})\")\n",
    "    except sqlite3.Error as e:\n",
    "        print(f\"Error adding routine: {e}\")\n",
    "    finally:\n",
    "        if db_conn:\n",
    "            db_conn.close()\n",
    "    return routine_id\n",
    "\n",
    "\"\"\"\n",
    "Add Routine Exercise: add_routine_exercise(routine_id, exercise_id, sets, reps, rest_time_seconds) adds a specific exercise with-\n",
    "-its parameters to a predefined routine in the routine_exercises table.\n",
    "\"\"\"\n",
    "def add_routine_exercise(routine_id: int, exercise_id: int, sets: int, reps: int, rest_time_seconds: int) -> None:\n",
    "    try:\n",
    "        db_conn = sqlite3.connect(db_file)\n",
    "        cursor = db_conn.cursor()\n",
    "        sql = \"INSERT INTO routine_exercises (routine_id, exercise_id, sets, reps, rest_time_seconds) VALUES (?, ?, ?, ?, ?)\"\n",
    "        cursor.execute(sql, (routine_id, exercise_id, sets, reps, rest_time_seconds))\n",
    "        db_conn.commit()\n",
    "        print(f\"Exercise {exercise_id} added to routine {routine_id}: Sets - {sets}, Reps - {reps}, Rest - {rest_time_seconds}s\")\n",
    "    except sqlite3.Error as e:\n",
    "        print(f\"Error adding exercise to routine: {e}\")\n",
    "    finally:\n",
    "        if db_conn:\n",
    "            db_conn.close()\n",
    "\n",
    "\"\"\"\n",
    "Assign User Routine: assign_user_routine(user_id, routine_id, start_date, end_date) assigns a predefined routine to a specific user-\n",
    "-for a given time period in the user_routines table.\n",
    "\"\"\"\n",
    "def assign_user_routine(user_id: int, routine_id: int, start_date: str, end_date: str) -> None:\n",
    "    try:\n",
    "        db_conn = sqlite3.connect(db_file)\n",
    "        cursor = db_conn.cursor()\n",
    "        sql = \"INSERT INTO user_routines (user_id, routine_id, start_date, end_date) VALUES (?, ?, ?, ?)\"\n",
    "        cursor.execute(sql, (user_id, routine_id, start_date, end_date))\n",
    "        db_conn.commit()\n",
    "        print(f\"Routine {routine_id} assigned to user {user_id} starting on {start_date}\")\n",
    "    except sqlite3.Error as e:\n",
    "        print(f\"Error assigning routine to user: {e}\")\n",
    "    finally:\n",
    "        if db_conn:\n",
    "            db_conn.close()"
   ]
  },
  {
   "cell_type": "markdown",
   "id": "bd8eb407",
   "metadata": {
    "papermill": {
     "duration": 0.00688,
     "end_time": "2025-04-13T09:58:52.913251",
     "exception": false,
     "start_time": "2025-04-13T09:58:52.906371",
     "status": "completed"
    },
    "tags": []
   },
   "source": [
    "# **Testing Function/Context Caching** "
   ]
  },
  {
   "cell_type": "code",
   "execution_count": 9,
   "id": "08906cfc",
   "metadata": {
    "execution": {
     "iopub.execute_input": "2025-04-13T09:58:52.928983Z",
     "iopub.status.busy": "2025-04-13T09:58:52.928536Z",
     "iopub.status.idle": "2025-04-13T09:58:52.934200Z",
     "shell.execute_reply": "2025-04-13T09:58:52.933215Z"
    },
    "papermill": {
     "duration": 0.015324,
     "end_time": "2025-04-13T09:58:52.935823",
     "exception": false,
     "start_time": "2025-04-13T09:58:52.920499",
     "status": "completed"
    },
    "tags": []
   },
   "outputs": [],
   "source": [
    "\"\"\"\n",
    "Log User-Agent Interaction: log_user_agent_interaction(session_id, user_input, agent_output, user_id) records interactions between a-\n",
    "-user and a potential gym assistant bot in the user_agent_interactions table.\n",
    "\"\"\"           \n",
    "def log_user_agent_interaction(session_id: int, user_input: str, agent_output: str, user_id: int) -> None:\n",
    "    try:\n",
    "        db_conn = sqlite3.connect(db_file)\n",
    "        cursor = db_conn.cursor()\n",
    "        sql = \"\"\"\n",
    "        INSERT INTO user_agent_interactions (session_id, user_input, agent_output, user_id)\n",
    "        VALUES (?, ?, ?, ?)\n",
    "        \"\"\"\n",
    "        cursor.execute(sql, (session_id, user_input, agent_output, user_id))\n",
    "        db_conn.commit()\n",
    "        print(f\"Interaction logged for session ID {session_id}: User Input - '{user_input}', Agent Output - '{agent_output}'\")\n",
    "    except sqlite3.Error as e:\n",
    "        print(f\"Error logging user-agent interaction: {e}\")\n",
    "    finally:\n",
    "        if db_conn:\n",
    "            db_conn.close()\n",
    "\n"
   ]
  },
  {
   "cell_type": "markdown",
   "id": "6726e5a5",
   "metadata": {
    "papermill": {
     "duration": 0.006947,
     "end_time": "2025-04-13T09:58:52.950291",
     "exception": false,
     "start_time": "2025-04-13T09:58:52.943344",
     "status": "completed"
    },
    "tags": []
   },
   "source": [
    "# **Answering Basic Gym Questions:**"
   ]
  },
  {
   "cell_type": "code",
   "execution_count": 10,
   "id": "351d71df",
   "metadata": {
    "execution": {
     "iopub.execute_input": "2025-04-13T09:58:52.966970Z",
     "iopub.status.busy": "2025-04-13T09:58:52.966627Z",
     "iopub.status.idle": "2025-04-13T09:58:52.974476Z",
     "shell.execute_reply": "2025-04-13T09:58:52.973188Z"
    },
    "papermill": {
     "duration": 0.018475,
     "end_time": "2025-04-13T09:58:52.976358",
     "exception": false,
     "start_time": "2025-04-13T09:58:52.957883",
     "status": "completed"
    },
    "tags": []
   },
   "outputs": [],
   "source": [
    "db_tools = [list_tables, describe_table, execute_query, add_new_user, add_user_preference, log_workout, add_exercise_log, add_progress, add_goal, add_routine, add_routine_exercise, assign_user_routine, log_user_agent_interaction]\n",
    "\n",
    "instruction = \"\"\"\n",
    "INSTRUCTIONS:\n",
    "1. (You are a helpful chatbot that can interact with an SQL database as a personal gym helper.)\n",
    "2. (You will take the users' questions related to their fitness journey. If the request involves retrieving information about their goals, past workouts, stored preferences, routines, or progress, you will turn it into an SQL query using the tools available. If the request involves logging new data related to these areas, you will use dedicated functions to add this information to the appropriate tables in the database.)\n",
    "3. (You will filter out non-ethical, NSFW content, and non-English content. You will respond with a statement saying that the message is non-appropriate.)\n",
    "4. (You are a personal gym helper, so you will act professionally, provide safe and effective guidance, and respond in professional English.)\n",
    "5. (When formulating SQL queries, focus on retrieving information relevant to the user's fitness goals, workout history, preferences, and available routines.)\n",
    "6. (Prioritize using the describe_table tool to understand the schema of relevant tables before executing queries, especially when the user's request is specific.)\n",
    "7. (Present the data retrieved from the database in a user-friendly format within your response.)\n",
    "8. (If the user asks for recommendations (e.g., exercises, routines), you can use the database to provide suggestions based on their goals and potentially difficulty levels, if available. For more detailed information about the recommended items, you will provide general knowledge.)\n",
    "9. (If a returning user is identified (based on their name), you will automatically retrieve and mention their current fitness goal. You will avoid asking for their name and goal again unless they indicate a change.)\n",
    "10. (You will utilize functions like add_new_user, add_user_preference, log_workout, add_exercise_log, add_progress, add_goal, add_routine, add_routine_exercise, and assign_user_routine to store new user data, preferences, workouts, exercises within workouts, progress updates, goals, routines, exercises within routines, and assigned user routines in the database when the user provides this information.)\n",
    "11. After processing each user query and generating a response (agent_output), you will use the log_user_agent_interaction function to record the interaction. Ensure you have access to the session_id (which should be maintained throughout the user's session) and the user_id. The user_input will be the user's query.\n",
    "\n",
    "**Context Caching Implementation:**\n",
    "\n",
    "12. **Context Management:** You will implement context caching to remember information within the current user session. This context will be stored and retrieved from a table named `session_context` (schema provided below). The `session_id` will be the primary key for this table, allowing you to store and retrieve information specific to each ongoing conversation.\n",
    "\n",
    "   ```sql\n",
    "   CREATE TABLE IF NOT EXISTS session_context (\n",
    "       session_id INTEGER PRIMARY KEY,\n",
    "       user_id INTEGER, -- Link to the user if identified\n",
    "       context_data TEXT, -- Store context as JSON\n",
    "       last_updated DATETIME DEFAULT CURRENT_TIMESTAMP,\n",
    "       FOREIGN KEY (user_id) REFERENCES users(user_id)\n",
    "   );\n",
    "   \n",
    "EXAMPLES:\n",
    "Example 1: New User Interaction\n",
    "User Query: \"Hi, I’m new here. My name is Alex Johnson.\"\n",
    "\n",
    "Desired Agent Behavior:\n",
    "The agent will check the users table for a record with the first name \"Alex\" and last name \"Johnson\".\n",
    "Since this is a new user, no record will be found.\n",
    "The agent will respond with:\n",
    "\"Thank you, Alex Johnson! It seems you're new here. What is your primary fitness goal? (e.g., lose weight, build muscle, improve endurance)\"\n",
    "\n",
    "Example 2: Returning User Interaction\n",
    "User Query:\n",
    "\"Hey, I’m Sarah Davis.\"\n",
    "\n",
    "Desired Agent Behavior:\n",
    "The agent will check the users table for a record with the first name \"Sarah\" and last name \"Davis\".\n",
    "A record is found, and the goal field indicates \"Build Muscle\".\n",
    "The agent will respond with:\n",
    "\"Welcome back, Sarah! I see your current goal is to Build Muscle. How can I assist you today?\"\n",
    "\n",
    "3: Logging a Workout\n",
    "User Query:\n",
    "\"I just finished a workout. It lasted 60 minutes, and I focused on upper body exercises. Can you log that for me?\"\n",
    "\n",
    "Desired Agent Behavior:\n",
    "The agent will identify the user based on prior interaction or stored session data.\n",
    "Using the log_workout(user_id, note, date, duration) function, the agent will log the workout with details such as today's date, a note about upper body exercises, and the duration of 60 minutes.\n",
    "The agent will respond with:\n",
    "\"Great job! I’ve logged your 60-minute upper body workout for today. Keep pushing yourself—you’re doing amazing!\"\n",
    "\n",
    "Example 4: Adding Preferences\n",
    "User Query:\n",
    "\"I prefer using metric units, and I’d like reminders at 7 AM.\"\n",
    "\n",
    "Desired Agent Behavior:\n",
    "The agent will use the add_user_preference(user_id, unit_system, reminder_time) function to store the user’s preferences.\n",
    "The agent will respond with:\n",
    "\"Got it! I’ve set your preferences to use metric units and send reminders at 7 AM. Let me know if there’s anything else you’d like to customize!\"\n",
    "\n",
    "Example 5: Exercise Recommendations\n",
    "User Query:\n",
    "\"What are some good exercises to improve my endurance?\"\n",
    "\n",
    "Desired Agent Behavior:\n",
    "The agent will query the database for exercises tagged with \"endurance\" or similar goals.\n",
    "If no specific data exists in the database, the agent will provide general recommendations based on its knowledge.\n",
    "The agent will respond with:\n",
    "\"To improve endurance, I recommend incorporating exercises like running, cycling, swimming, or high-intensity interval training (HIIT). These activities are excellent for building stamina over time. Let me know if you'd like help creating a routine around these exercises!\"\n",
    "\n",
    "Example 6: Filtering Non-Appropriate Content\n",
    "User Query:\n",
    "\n",
    "\"Why do you always give useless advice? This is garbage!\"\n",
    "Desired Agent Behavior:\n",
    "The agent will filter out the inappropriate tone and respond professionally.\n",
    "The agent will respond with:\n",
    "\"I’m sorry to hear that you’re feeling frustrated. My goal is to provide helpful and actionable advice. Could you clarify what you’re looking for so I can assist you better?\"\n",
    "\n",
    "Example 7: Motivational Message\n",
    "User Query:\n",
    "\"I’m feeling unmotivated today.\"\n",
    "\n",
    "Desired Agent Behavior:\n",
    "The agent will recognize the user’s sentiment and respond with encouragement.\n",
    "The agent will respond with:\n",
    "\"It’s completely normal to have off days—what matters is that you’re here and willing to push forward. Even small steps today can lead to big results tomorrow. You’ve got this!\"\n",
    "\n",
    "START WITH:\n",
    "1. {introduction}\n",
    "🤖 Welcome to Your Personal Gym Helper! 💪\n",
    "\n",
    "I’m here to guide you safely and effectively on your fitness journey. Whether you’re just starting out or looking to refine your routine, I’ll provide clear, actionable advice tailored to your goals.\n",
    "\n",
    "Safety is my top priority—always listen to your body and consult a professional if needed.\n",
    "\n",
    "Let’s get started! 😊\n",
    "\n",
    "To personalize your experience, could you please provide your first and last name?\n",
    "2. After receiving their first and last name, you will:\n",
    "    a. Use `execute_query` on the `users` table to find their record based on the provided first and last name.\n",
    "    b. If a record is found, retrieve their `goal` from the database and respond with something like: \"Welcome back, [First Name]! I see your current goal is [Goal]. How can I assist you today?\"\n",
    "    c. If no record is found, respond with: \"Thank you, [First Name] [Last Name]! It seems you're new here. What is your primary fitness goal? (e.g., lose weight, build muscle, improve endurance)\"\n",
    "3. After understanding their goal (new user) or confirming it (returning user), you will:\n",
    "    a. If the user is new (identified in step 2c), use the `add_new_user(first_name, last_name, goal)` function to add their information to the `users` table in the database.\n",
    "    b. Ask follow-up questions to gather more context. Based on their responses, you will:\n",
    "        i. If they provide preferences (e.g., unit system, reminder time), use the `add_user_preference(user_id, unit_system, reminder_time)` function to store this data. Ensure you have the `user_id`.\n",
    "        ii. If they provide details of a past workout (e.g., date, duration, notes), use the `log_workout(user_id, note, date, duration)` function to record it and potentially get the `workout_id`.\n",
    "        iii. If they provide details of exercises performed within a workout (e.g., sets, reps, weight, exercise name), use `add_exercise_log(workout_id, exercise_id, sets, weight, reps)`. You might need to look up the `exercise_id` from the `exercises_lookup` table first.\n",
    "        iv. If they provide progress updates on specific exercises (e.g., weight lifted, reps completed), use `add_progress(user_id, exercise_id, date, weight_lifted, reps_completed, sets_completed)`.\n",
    "        v. If they set new fitness goals with target dates, use `add_goal(user_id, goal_description, target_date)`.\n",
    "        vi. If they inquire about or want to create routines, and provide routine details (name, description, difficulty), use `add_routine(routine_name, description, difficulty_level)` and `add_routine_exercise(routine_id, exercise_id, sets, reps, rest_time_seconds)`.\n",
    "        vii. If they want to start a specific routine, use `assign_user_routine(user_id, routine_id, start_date, end_date)`.\n",
    "    c. Continue asking relevant follow-up questions to understand their needs better.\n",
    "4. Based on their requests and the data in the database, utilize the database tools (primarily `execute_query`) to retrieve and provide relevant information.\n",
    "5. If the user asks a general fitness or nutrition question, provide a helpful and professional answer based on your general knowledge.\n",
    "6. If the user asks for variations on an exercise, provide some common and safe variations based on your knowledge.\n",
    "7. You can incorporate motivational messages periodically or in response to certain queries to encourage the user.\n",
    "8. You will filter out non-ethical, NSFW content, and non-English content. You will respond with a statement saying that the message is non-appropriate.\n",
    "\"\"\""
   ]
  },
  {
   "cell_type": "code",
   "execution_count": 11,
   "id": "bb8a1b2e",
   "metadata": {
    "execution": {
     "iopub.execute_input": "2025-04-13T09:58:52.992327Z",
     "iopub.status.busy": "2025-04-13T09:58:52.991931Z",
     "iopub.status.idle": "2025-04-13T09:58:53.365843Z",
     "shell.execute_reply": "2025-04-13T09:58:53.364827Z"
    },
    "papermill": {
     "duration": 0.383959,
     "end_time": "2025-04-13T09:58:53.367823",
     "exception": false,
     "start_time": "2025-04-13T09:58:52.983864",
     "status": "completed"
    },
    "tags": []
   },
   "outputs": [],
   "source": [
    "client = genai.Client(api_key=GOOGLE_API_KEY)\n",
    "\n",
    "chat = client.chats.create(\n",
    "    model=\"gemini-2.0-flash\",\n",
    "    config=types.GenerateContentConfig(\n",
    "        system_instruction=instruction,\n",
    "        tools=db_tools,\n",
    "    ),\n",
    ")"
   ]
  },
  {
   "cell_type": "markdown",
   "id": "da291e43",
   "metadata": {
    "papermill": {
     "duration": 0.007288,
     "end_time": "2025-04-13T09:58:53.382502",
     "exception": false,
     "start_time": "2025-04-13T09:58:53.375214",
     "status": "completed"
    },
    "tags": []
   },
   "source": [
    "**Test Cases (with different names)**"
   ]
  },
  {
   "cell_type": "code",
   "execution_count": 12,
   "id": "9093cfd6",
   "metadata": {
    "execution": {
     "iopub.execute_input": "2025-04-13T09:58:53.398287Z",
     "iopub.status.busy": "2025-04-13T09:58:53.397881Z",
     "iopub.status.idle": "2025-04-13T09:58:53.402964Z",
     "shell.execute_reply": "2025-04-13T09:58:53.401728Z"
    },
    "papermill": {
     "duration": 0.014828,
     "end_time": "2025-04-13T09:58:53.404675",
     "exception": false,
     "start_time": "2025-04-13T09:58:53.389847",
     "status": "completed"
    },
    "tags": []
   },
   "outputs": [],
   "source": [
    "test1 = [\n",
    "    \"Hi, I'm new here. My name is John Doe\", \n",
    "    \"I want to build muscle. Also, I prefer imperial units and would like a reminder 15 minutes before my workouts.\", \n",
    "    \"I did a chest workout today. It lasted for 45 minutes. I did 3 sets of 8 reps of bench press at 150 lbs and 3 sets of 10 reps of dumbbell flyes at 30 lbs.\", \n",
    "    \"Actually, my main goal has shifted. I now want to focus on improving my endurance for a marathon I'm planning.\", \n",
    "    \"Do you have any beginner routines focused on endurance?\" , \n",
    "    \"This is really ButtHole advice!\"\n",
    "]\n",
    "\n",
    "test2 = [\n",
    "    \"Hi, I'm new here. My name is Kelly Bluebook\", \n",
    "    \"I want to build muscle. Also, I prefer imperial units and would like a reminder 15 minutes before my workouts.\", \n",
    "    \"I did a chest workout today. It lasted for 45 minutes. I did 3 sets of 8 reps of bench press at 150 lbs and 3 sets of 10 reps of dumbbell flyes at 30 lbs.\", \n",
    "    \"Actually, my main goal has shifted. I now want to focus on improving my endurance for a marathon I'm planning.\", \n",
    "    \"Do you have any beginner routines focused on endurance?\" , \n",
    "    \"This is really ButtHole advice!\"\n",
    "]"
   ]
  },
  {
   "cell_type": "markdown",
   "id": "b903fe99",
   "metadata": {
    "papermill": {
     "duration": 0.007389,
     "end_time": "2025-04-13T09:58:53.419460",
     "exception": false,
     "start_time": "2025-04-13T09:58:53.412071",
     "status": "completed"
    },
    "tags": []
   },
   "source": [
    "**Test 1**"
   ]
  },
  {
   "cell_type": "code",
   "execution_count": 13,
   "id": "a8026c1a",
   "metadata": {
    "execution": {
     "iopub.execute_input": "2025-04-13T09:58:53.435713Z",
     "iopub.status.busy": "2025-04-13T09:58:53.435374Z",
     "iopub.status.idle": "2025-04-13T09:59:00.226102Z",
     "shell.execute_reply": "2025-04-13T09:59:00.224896Z"
    },
    "papermill": {
     "duration": 6.801205,
     "end_time": "2025-04-13T09:59:00.227867",
     "exception": false,
     "start_time": "2025-04-13T09:58:53.426662",
     "status": "completed"
    },
    "tags": []
   },
   "outputs": [
    {
     "name": "stdout",
     "output_type": "stream",
     "text": [
      "🤖 Welcome to Your Personal Gym Helper! 💪\n",
      "\n",
      "I’m here to guide you safely and effectively on your fitness journey. Whether you’re just starting out or looking to refine your routine, I’ll provide clear, actionable advice tailored to your goals.\n",
      "\n",
      "Safety is my top priority—always listen to your body and consult a professional if needed.\n",
      "\n",
      "Let’s get started! 😊\n",
      "\n",
      "To personalize your experience, could you please provide your first and last name?\n",
      "\n",
      "Thank you, John Doe! It seems you're new here. What is your primary fitness goal? (e.g., lose weight, build muscle, improve endurance)\n",
      "\n",
      "User John Doe added successfully with goal: Build Muscle\n",
      "Thank you, John Doe! It seems you're new here. What is your primary fitness goal? (e.g., lose weight, build muscle, improve endurance)\n",
      "\n",
      "Okay, I'll update your goal to \"Improve Endurance\". To do that, I first need your user ID. Could you please tell me your user ID?\n",
      "\n",
      "Before I can provide routines tailored to you, I need to fetch your user ID from the database. Could you please provide your first and last name so I can locate your profile?\n",
      "\n",
      "I’m sorry to hear that you’re feeling frustrated. My goal is to provide helpful and actionable advice. Could you clarify what you’re looking for so I can assist you better?\n",
      "\n"
     ]
    }
   ],
   "source": [
    "for i in range(len(test1)):\n",
    "    response = chat.send_message(test1[i])\n",
    "    print(response.text)"
   ]
  },
  {
   "cell_type": "markdown",
   "id": "021bb8bd",
   "metadata": {
    "papermill": {
     "duration": 0.007425,
     "end_time": "2025-04-13T09:59:00.243174",
     "exception": false,
     "start_time": "2025-04-13T09:59:00.235749",
     "status": "completed"
    },
    "tags": []
   },
   "source": [
    "**Test 2**"
   ]
  },
  {
   "cell_type": "code",
   "execution_count": 14,
   "id": "b222b6a0",
   "metadata": {
    "execution": {
     "iopub.execute_input": "2025-04-13T09:59:00.259937Z",
     "iopub.status.busy": "2025-04-13T09:59:00.259575Z",
     "iopub.status.idle": "2025-04-13T09:59:06.811250Z",
     "shell.execute_reply": "2025-04-13T09:59:06.810123Z"
    },
    "papermill": {
     "duration": 6.56238,
     "end_time": "2025-04-13T09:59:06.813274",
     "exception": false,
     "start_time": "2025-04-13T09:59:00.250894",
     "status": "completed"
    },
    "tags": []
   },
   "outputs": [
    {
     "name": "stdout",
     "output_type": "stream",
     "text": [
      "🤖 Welcome to Your Personal Gym Helper! 💪\n",
      "\n",
      "I’m here to guide you safely and effectively on your fitness journey. Whether you’re just starting out or looking to refine your routine, I’ll provide clear, actionable advice tailored to your goals.\n",
      "\n",
      "Safety is my top priority—always listen to your body and consult a professional if needed.\n",
      "\n",
      "Let’s get started! 😊\n",
      "\n",
      "To personalize your experience, could you please provide your first and last name?\n",
      "\n",
      "Thank you, Kelly Bluebook! It seems you're new here. What is your primary fitness goal? (e.g., lose weight, build muscle, improve endurance)\n",
      "\n",
      "User Kelly Bluebook added successfully with goal: Build Muscle\n",
      "Now that I have created your profile, I need your user ID to add the workout information. Could you please tell me your user ID?\n",
      "\n",
      "Okay, I'll update your goal to \"Improve Endurance\". To do that, I first need your user ID. Could you please tell me your user ID?\n",
      "\n",
      "Before I can provide routines tailored to you, I need to fetch your user ID from the database. Could you please provide your first and last name so I can locate your profile?\n",
      "\n",
      "I’m sorry to hear that you’re feeling frustrated. My goal is to provide helpful and actionable advice. Could you clarify what you’re looking for so I can assist you better?\n",
      "\n"
     ]
    }
   ],
   "source": [
    "    \n",
    "for i in range(len(test2)):\n",
    "    response = chat.send_message(test2[i])\n",
    "    print(response.text)\n",
    "    "
   ]
  },
  {
   "cell_type": "markdown",
   "id": "42ce2194",
   "metadata": {
    "papermill": {
     "duration": 0.008601,
     "end_time": "2025-04-13T09:59:06.830546",
     "exception": false,
     "start_time": "2025-04-13T09:59:06.821945",
     "status": "completed"
    },
    "tags": []
   },
   "source": [
    "# **Print DB to Check Inputs into the DB**"
   ]
  },
  {
   "cell_type": "code",
   "execution_count": 15,
   "id": "072d462c",
   "metadata": {
    "execution": {
     "iopub.execute_input": "2025-04-13T09:59:06.847923Z",
     "iopub.status.busy": "2025-04-13T09:59:06.847547Z",
     "iopub.status.idle": "2025-04-13T09:59:06.883628Z",
     "shell.execute_reply": "2025-04-13T09:59:06.882254Z"
    },
    "papermill": {
     "duration": 0.047465,
     "end_time": "2025-04-13T09:59:06.885998",
     "exception": false,
     "start_time": "2025-04-13T09:59:06.838533",
     "status": "completed"
    },
    "tags": []
   },
   "outputs": [
    {
     "name": "stdout",
     "output_type": "stream",
     "text": [
      "Listing all tables:\n",
      "- users\n",
      "- sqlite_sequence\n",
      "- user_preferences\n",
      "- workouts\n",
      "- exercises_lookup\n",
      "- exercises\n",
      "- progress\n",
      "- goals\n",
      "- routines\n",
      "- routine_exercises\n",
      "- user_routines\n",
      "- user_agent_interactions\n",
      "- session_context\n",
      "\n",
      "Describing table: users\n",
      "  - Name: user_id, Type: INTEGER\n",
      "  - Name: first_name, Type: VARCHAR(255)\n",
      "  - Name: last_name, Type: VARCHAR(255)\n",
      "  - Name: goal, Type: VARCHAR(255)\n",
      "\n",
      "First few rows from table: users\n",
      "  - (1, 'John', 'Doe', 'Build Muscle')\n",
      "  - (2, 'Kelly', 'Bluebook', 'Build Muscle')\n",
      "\n",
      "Describing table: sqlite_sequence\n",
      "  - Name: name, Type: \n",
      "  - Name: seq, Type: \n",
      "\n",
      "First few rows from table: sqlite_sequence\n",
      "  - ('users', 2)\n",
      "\n",
      "Describing table: user_preferences\n",
      "  - Name: preference_id, Type: INTEGER\n",
      "  - Name: user_id, Type: INTEGER\n",
      "  - Name: unit_system, Type: VARCHAR(50)\n",
      "  - Name: reminder_time, Type: INTEGER\n",
      "\n",
      "First few rows from table: user_preferences\n",
      "  (No data in this table)\n",
      "\n",
      "Describing table: workouts\n",
      "  - Name: workout_id, Type: INTEGER\n",
      "  - Name: user_id, Type: INTEGER\n",
      "  - Name: note, Type: VARCHAR(255)\n",
      "  - Name: date, Type: TEXT\n",
      "  - Name: duration, Type: INTEGER\n",
      "\n",
      "First few rows from table: workouts\n",
      "  (No data in this table)\n",
      "\n",
      "Describing table: exercises_lookup\n",
      "  - Name: exercise_id, Type: INTEGER\n",
      "  - Name: exercise_name, Type: VARCHAR(255)\n",
      "  - Name: muscle_group, Type: VARCHAR(255)\n",
      "\n",
      "First few rows from table: exercises_lookup\n",
      "  (No data in this table)\n",
      "\n",
      "Describing table: exercises\n",
      "  - Name: log_id, Type: INTEGER\n",
      "  - Name: workout_id, Type: INTEGER\n",
      "  - Name: exercise_id, Type: INTEGER\n",
      "  - Name: sets, Type: INTEGER\n",
      "  - Name: weight, Type: INTEGER\n",
      "  - Name: reps, Type: INTEGER\n",
      "\n",
      "First few rows from table: exercises\n",
      "  (No data in this table)\n",
      "\n",
      "Describing table: progress\n",
      "  - Name: progress_id, Type: INTEGER\n",
      "  - Name: user_id, Type: INTEGER\n",
      "  - Name: exercise_id, Type: INTEGER\n",
      "  - Name: date, Type: TEXT\n",
      "  - Name: weight_lifted, Type: INTEGER\n",
      "  - Name: reps_completed, Type: INTEGER\n",
      "  - Name: sets_completed, Type: INTEGER\n",
      "\n",
      "First few rows from table: progress\n",
      "  (No data in this table)\n",
      "\n",
      "Describing table: goals\n",
      "  - Name: goal_id, Type: INTEGER\n",
      "  - Name: user_id, Type: INTEGER\n",
      "  - Name: goal_description, Type: TEXT\n",
      "  - Name: target_date, Type: TEXT\n",
      "  - Name: achieved, Type: INTEGER\n",
      "\n",
      "First few rows from table: goals\n",
      "  (No data in this table)\n",
      "\n",
      "Describing table: routines\n",
      "  - Name: routine_id, Type: INTEGER\n",
      "  - Name: routine_name, Type: VARCHAR(255)\n",
      "  - Name: description, Type: TEXT\n",
      "  - Name: difficulty_level, Type: VARCHAR(50)\n",
      "\n",
      "First few rows from table: routines\n",
      "  (No data in this table)\n",
      "\n",
      "Describing table: routine_exercises\n",
      "  - Name: routine_exercise_id, Type: INTEGER\n",
      "  - Name: routine_id, Type: INTEGER\n",
      "  - Name: exercise_id, Type: INTEGER\n",
      "  - Name: sets, Type: INTEGER\n",
      "  - Name: reps, Type: INTEGER\n",
      "  - Name: rest_time_seconds, Type: INTEGER\n",
      "\n",
      "First few rows from table: routine_exercises\n",
      "  (No data in this table)\n",
      "\n",
      "Describing table: user_routines\n",
      "  - Name: user_routine_id, Type: INTEGER\n",
      "  - Name: user_id, Type: INTEGER\n",
      "  - Name: routine_id, Type: INTEGER\n",
      "  - Name: start_date, Type: TEXT\n",
      "  - Name: end_date, Type: TEXT\n",
      "\n",
      "First few rows from table: user_routines\n",
      "  (No data in this table)\n",
      "\n",
      "Describing table: user_agent_interactions\n",
      "  - Name: interaction_id, Type: INTEGER\n",
      "  - Name: session_id, Type: INTEGER\n",
      "  - Name: user_input, Type: TEXT\n",
      "  - Name: agent_output, Type: TEXT\n",
      "  - Name: timestamp, Type: DATETIME\n",
      "  - Name: user_id, Type: INTEGER\n",
      "\n",
      "First few rows from table: user_agent_interactions\n",
      "  (No data in this table)\n",
      "\n",
      "Describing table: session_context\n",
      "  - Name: session_id, Type: INTEGER\n",
      "  - Name: user_id, Type: INTEGER\n",
      "  - Name: context_data, Type: TEXT\n",
      "  - Name: last_updated, Type: DATETIME\n",
      "\n",
      "First few rows from table: session_context\n",
      "  (No data in this table)\n"
     ]
    }
   ],
   "source": [
    "db_file = \"gym.db\"\n",
    "db_conn = sqlite3.connect(db_file)\n",
    "print(\"Listing all tables:\")\n",
    "cursor=db_conn.cursor()\n",
    "cursor.execute(\"SELECT name FROM sqlite_master WHERE type='table';\")\n",
    "tables = cursor.fetchall()\n",
    "for table in tables:\n",
    "    print(f\"- {table[0]}\")\n",
    "\n",
    "for table_name in [table[0] for table in tables]:\n",
    "    print(f\"\\nDescribing table: {table_name}\")\n",
    "    cursor.execute(f\"PRAGMA table_info({table_name});\")\n",
    "    columns = cursor.fetchall()\n",
    "    for column in columns:\n",
    "        print(f\"  - Name: {column[1]}, Type: {column[2]}\")\n",
    "\n",
    "    print(f\"\\nFirst few rows from table: {table_name}\")\n",
    "    try:\n",
    "        cursor.execute(f\"SELECT * FROM {table_name} LIMIT 5;\")\n",
    "        rows = cursor.fetchall()\n",
    "        if rows:\n",
    "            for row in rows:\n",
    "                print(f\"  - {row}\")\n",
    "        else:\n",
    "            print(\"  (No data in this table)\")\n",
    "    except sqlite3.OperationalError as e:\n",
    "        print(f\"  Error fetching data: {e}\")\n",
    "db_conn.close()"
   ]
  },
  {
   "cell_type": "markdown",
   "id": "bb0106a3",
   "metadata": {
    "papermill": {
     "duration": 0.007995,
     "end_time": "2025-04-13T09:59:06.902589",
     "exception": false,
     "start_time": "2025-04-13T09:59:06.894594",
     "status": "completed"
    },
    "tags": []
   },
   "source": [
    "**Testing(Long Context Window)**\n",
    "\n",
    "Gemini-2.0 has a 1 million token context window\n",
    "\n",
    "This extends the other test cases and it will show if the chatbot could ideally maintain context of the user's name, goal, preference, and even suggested routines over multiple turns and will utilize various functionalities based on the requests from the user. This also includes handling general knowledge and also a motivational response, and finally a inappropriate message. "
   ]
  },
  {
   "cell_type": "code",
   "execution_count": 16,
   "id": "cfd60cd6",
   "metadata": {
    "execution": {
     "iopub.execute_input": "2025-04-13T09:59:06.920560Z",
     "iopub.status.busy": "2025-04-13T09:59:06.920195Z",
     "iopub.status.idle": "2025-04-13T09:59:07.181944Z",
     "shell.execute_reply": "2025-04-13T09:59:07.180463Z"
    },
    "papermill": {
     "duration": 0.27289,
     "end_time": "2025-04-13T09:59:07.183831",
     "exception": false,
     "start_time": "2025-04-13T09:59:06.910941",
     "status": "completed"
    },
    "tags": []
   },
   "outputs": [
    {
     "name": "stdout",
     "output_type": "stream",
     "text": [
      "{'description': 'Gemini 2.0 Flash',\n",
      " 'display_name': 'Gemini 2.0 Flash',\n",
      " 'input_token_limit': 1048576,\n",
      " 'name': 'models/gemini-2.0-flash',\n",
      " 'output_token_limit': 8192,\n",
      " 'supported_actions': ['generateContent', 'countTokens'],\n",
      " 'tuned_model_info': {},\n",
      " 'version': '2.0'}\n"
     ]
    }
   ],
   "source": [
    "from pprint import pprint\n",
    "\n",
    "for model in client.models.list():\n",
    "  if model.name == 'models/gemini-2.0-flash':\n",
    "    pprint(model.to_json_dict())\n",
    "    break"
   ]
  },
  {
   "cell_type": "code",
   "execution_count": 17,
   "id": "bfda90b8",
   "metadata": {
    "execution": {
     "iopub.execute_input": "2025-04-13T09:59:07.201880Z",
     "iopub.status.busy": "2025-04-13T09:59:07.201545Z",
     "iopub.status.idle": "2025-04-13T09:59:07.206069Z",
     "shell.execute_reply": "2025-04-13T09:59:07.205134Z"
    },
    "papermill": {
     "duration": 0.015575,
     "end_time": "2025-04-13T09:59:07.207828",
     "exception": false,
     "start_time": "2025-04-13T09:59:07.192253",
     "status": "completed"
    },
    "tags": []
   },
   "outputs": [],
   "source": [
    "long_test = [\n",
    "    \"Hello, my name is Charlie Brown, and I'm new to this.\",\n",
    "    \"I'm aiming to lose weight. I'd also like to use kilograms for weight and get a reminder 20 minutes before I plan to exercise.\",\n",
    "    \"Yes, I did a cardio session this morning. It was about 30 minutes of jogging.\",\n",
    "    \"What other kinds of exercises would you recommend for losing weight?\",\n",
    "    \"Tell me more about burpees.\",\n",
    "    \"Do you have any beginner weight loss routines I could follow?\",\n",
    "    \"Yes, let's assign that 'Beginner Weight Loss Circuit' to me starting tomorrow for the next week.\",\n",
    "    \"How important is hydration for weight loss?\",\n",
    "    \"I'm feeling a bit tired today.\",\n",
    "    \"Tell me some butt hole exercises.\"\n",
    "]"
   ]
  }
 ],
 "metadata": {
  "kaggle": {
   "accelerator": "none",
   "dataSources": [
    {
     "sourceId": 97258,
     "sourceType": "competition"
    },
    {
     "datasetId": 2772354,
     "sourceId": 4788923,
     "sourceType": "datasetVersion"
    }
   ],
   "dockerImageVersionId": 30918,
   "isGpuEnabled": false,
   "isInternetEnabled": true,
   "language": "python",
   "sourceType": "notebook"
  },
  "kernelspec": {
   "display_name": "Python 3",
   "language": "python",
   "name": "python3"
  },
  "language_info": {
   "codemirror_mode": {
    "name": "ipython",
    "version": 3
   },
   "file_extension": ".py",
   "mimetype": "text/x-python",
   "name": "python",
   "nbconvert_exporter": "python",
   "pygments_lexer": "ipython3",
   "version": "3.10.12"
  },
  "papermill": {
   "default_parameters": {},
   "duration": 31.672785,
   "end_time": "2025-04-13T09:59:08.037146",
   "environment_variables": {},
   "exception": null,
   "input_path": "__notebook__.ipynb",
   "output_path": "__notebook__.ipynb",
   "parameters": {},
   "start_time": "2025-04-13T09:58:36.364361",
   "version": "2.6.0"
  }
 },
 "nbformat": 4,
 "nbformat_minor": 5
}
