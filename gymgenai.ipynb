{
 "cells": [
  {
   "cell_type": "markdown",
   "id": "eeb47a93",
   "metadata": {
    "papermill": {
     "duration": 0.004767,
     "end_time": "2025-04-12T03:08:30.391065",
     "exception": false,
     "start_time": "2025-04-12T03:08:30.386298",
     "status": "completed"
    },
    "tags": []
   },
   "source": [
    "**Problem/Case:**\n",
    "\n",
    "New to the gym and looking for direction? The Beginner Gym Interactive Bot provides personalized workout plans based on your available workout days and fitness objectives. Get started on the right track with a tailored routine designed for beginners."
   ]
  },
  {
   "cell_type": "markdown",
   "id": "8f781b48",
   "metadata": {
    "papermill": {
     "duration": 0.003491,
     "end_time": "2025-04-12T03:08:30.398437",
     "exception": false,
     "start_time": "2025-04-12T03:08:30.394946",
     "status": "completed"
    },
    "tags": []
   },
   "source": [
    "**Set Up:**\n",
    "Start by installing and importing the Python SDK. \n",
    "\n",
    "**Set Up API Key:**\n",
    "Use the API key under Kaggle Secret. It must be stored in the Kaggle Secret named \"GOOGLE_API_KEY.\"\n",
    "\n",
    "**Automated Retry:**\n",
    "Define a retry policy. The model might make multiple consecutive calls automatically."
   ]
  },
  {
   "cell_type": "code",
   "execution_count": 1,
   "id": "76f48ca4",
   "metadata": {
    "_cell_guid": "b1076dfc-b9ad-4769-8c92-a6c4dae69d19",
    "_uuid": "8f2839f25d086af736a60e9eeb907d3b93b6e0e5",
    "execution": {
     "iopub.execute_input": "2025-04-12T03:08:30.406978Z",
     "iopub.status.busy": "2025-04-12T03:08:30.406695Z",
     "iopub.status.idle": "2025-04-12T03:08:38.206840Z",
     "shell.execute_reply": "2025-04-12T03:08:38.206040Z"
    },
    "papermill": {
     "duration": 7.806093,
     "end_time": "2025-04-12T03:08:38.208199",
     "exception": false,
     "start_time": "2025-04-12T03:08:30.402106",
     "status": "completed"
    },
    "tags": []
   },
   "outputs": [
    {
     "name": "stdout",
     "output_type": "stream",
     "text": [
      "\u001b[2K   \u001b[90m━━━━━━━━━━━━━━━━━━━━━━━━━━━━━━━━━━━━━━━━\u001b[0m \u001b[32m144.7/144.7 kB\u001b[0m \u001b[31m7.0 MB/s\u001b[0m eta \u001b[36m0:00:00\u001b[0m\r\n",
      "\u001b[2K   \u001b[90m━━━━━━━━━━━━━━━━━━━━━━━━━━━━━━━━━━━━━━━━\u001b[0m \u001b[32m100.9/100.9 kB\u001b[0m \u001b[31m5.7 MB/s\u001b[0m eta \u001b[36m0:00:00\u001b[0m\r\n",
      "\u001b[?25h"
     ]
    }
   ],
   "source": [
    "from typing import Optional\n",
    "from datetime import datetime\n",
    "!pip uninstall -qqy jupyterlab  # Remove unused conflicting packages\n",
    "!pip install -U -q \"google-genai==1.7.0\"\n",
    "from google import genai\n",
    "from google.genai import types\n",
    "\n",
    "genai.__version__\n",
    "from kaggle_secrets import UserSecretsClient\n",
    "\n",
    "GOOGLE_API_KEY = UserSecretsClient().get_secret(\"GOOGLE_API_KEY\")\n",
    "from google.api_core import retry\n",
    "\n",
    "is_retriable = lambda e: (isinstance(e, genai.errors.APIError) and e.code in {429, 503})\n",
    "\n",
    "if not hasattr(genai.models.Models.generate_content, '__wrapped__'):\n",
    "  genai.models.Models.generate_content = retry.Retry(\n",
    "      predicate=is_retriable)(genai.models.Models.generate_content)"
   ]
  },
  {
   "cell_type": "markdown",
   "id": "78efbdf2",
   "metadata": {
    "papermill": {
     "duration": 0.003527,
     "end_time": "2025-04-12T03:08:38.215951",
     "exception": false,
     "start_time": "2025-04-12T03:08:38.212424",
     "status": "completed"
    },
    "tags": []
   },
   "source": [
    "**Storing Information in a DB:**\n",
    "This code sets up a database named \"gym.db\" to help manage gym-related information. It creates several tables to store data about users, their preferences, workout logs, individual exercises, progress tracking, fitness goals, pre-defined workout routines, the exercises within those routines, which routines users are following, and records of interactions with a potential gym assistant bot."
   ]
  },
  {
   "cell_type": "code",
   "execution_count": 2,
   "id": "e8cfddba",
   "metadata": {
    "execution": {
     "iopub.execute_input": "2025-04-12T03:08:38.224221Z",
     "iopub.status.busy": "2025-04-12T03:08:38.223889Z",
     "iopub.status.idle": "2025-04-12T03:08:39.546286Z",
     "shell.execute_reply": "2025-04-12T03:08:39.545664Z"
    },
    "papermill": {
     "duration": 1.327999,
     "end_time": "2025-04-12T03:08:39.547647",
     "exception": false,
     "start_time": "2025-04-12T03:08:38.219648",
     "status": "completed"
    },
    "tags": []
   },
   "outputs": [],
   "source": [
    "%load_ext sql\n",
    "%sql sqlite:///gym.db"
   ]
  },
  {
   "cell_type": "code",
   "execution_count": 3,
   "id": "d880260b",
   "metadata": {
    "execution": {
     "iopub.execute_input": "2025-04-12T03:08:39.556722Z",
     "iopub.status.busy": "2025-04-12T03:08:39.556266Z",
     "iopub.status.idle": "2025-04-12T03:08:39.671998Z",
     "shell.execute_reply": "2025-04-12T03:08:39.671315Z"
    },
    "papermill": {
     "duration": 0.121218,
     "end_time": "2025-04-12T03:08:39.672995",
     "exception": false,
     "start_time": "2025-04-12T03:08:39.551777",
     "status": "completed"
    },
    "tags": []
   },
   "outputs": [
    {
     "name": "stdout",
     "output_type": "stream",
     "text": [
      " * sqlite:///gym.db\n",
      "Done.\n",
      "Done.\n",
      "Done.\n",
      "Done.\n",
      "Done.\n",
      "Done.\n",
      "Done.\n",
      "Done.\n",
      "Done.\n",
      "Done.\n"
     ]
    },
    {
     "data": {
      "text/plain": [
       "[]"
      ]
     },
     "execution_count": 3,
     "metadata": {},
     "output_type": "execute_result"
    }
   ],
   "source": [
    "%%sql\n",
    "CREATE TABLE IF NOT EXISTS users (\n",
    "    user_id INTEGER PRIMARY KEY AUTOINCREMENT,\n",
    "    first_name VARCHAR(255) NOT NULL,\n",
    "    last_name VARCHAR(255) NOT NULL,\n",
    "    goal VARCHAR(255) NOT NULL\n",
    ");\n",
    "\n",
    "CREATE TABLE IF NOT EXISTS user_preferences (\n",
    "    preference_id INTEGER PRIMARY KEY AUTOINCREMENT,\n",
    "    user_id INTEGER NOT NULL,\n",
    "    unit_system VARCHAR(50) NOT NULL, -- e.g., Metric, Imperial\n",
    "    reminder_time INTEGER, -- in seconds before workout\n",
    "    FOREIGN KEY (user_id) REFERENCES users(user_id)\n",
    ");\n",
    "\n",
    "CREATE TABLE IF NOT EXISTS workouts (\n",
    "    workout_id INTEGER PRIMARY KEY AUTOINCREMENT,\n",
    "    user_id INTEGER NOT NULL,\n",
    "    note VARCHAR(255) NOT NULL,\n",
    "    date TEXT NOT NULL, -- ISO 8601 format (YYYY-MM-DD)\n",
    "    duration INTEGER, -- in minutes\n",
    "    FOREIGN KEY (user_id) REFERENCES users(user_id)\n",
    ");\n",
    "\n",
    "CREATE TABLE IF NOT EXISTS exercises_lookup (\n",
    "    exercise_id INTEGER PRIMARY KEY AUTOINCREMENT,\n",
    "    exercise_name VARCHAR(255) NOT NULL UNIQUE,\n",
    "    muscle_group VARCHAR(255) NOT NULL\n",
    ");\n",
    "\n",
    "CREATE TABLE IF NOT EXISTS exercises (\n",
    "    log_id INTEGER PRIMARY KEY AUTOINCREMENT,\n",
    "    workout_id INTEGER NOT NULL,\n",
    "    exercise_id INTEGER NOT NULL,\n",
    "    sets INTEGER NOT NULL,\n",
    "    weight INTEGER NOT NULL,\n",
    "    reps INTEGER NOT NULL,\n",
    "    FOREIGN KEY (workout_id) REFERENCES workouts(workout_id),\n",
    "    FOREIGN KEY (exercise_id) REFERENCES exercises_lookup(exercise_id)\n",
    ");\n",
    "\n",
    "CREATE TABLE IF NOT EXISTS progress (\n",
    "    progress_id INTEGER PRIMARY KEY AUTOINCREMENT,\n",
    "    user_id INTEGER NOT NULL,\n",
    "    exercise_id INTEGER NOT NULL,\n",
    "    date TEXT NOT NULL, -- ISO 8601 format (YYYY-MM-DD)\n",
    "    weight_lifted INTEGER NOT NULL,\n",
    "    reps_completed INTEGER NOT NULL,\n",
    "    sets_completed INTEGER NOT NULL,\n",
    "    FOREIGN KEY (user_id) REFERENCES users(user_id),\n",
    "    FOREIGN KEY (exercise_id) REFERENCES exercises_lookup(exercise_id)\n",
    ");\n",
    "\n",
    "CREATE TABLE IF NOT EXISTS goals (\n",
    "    goal_id INTEGER PRIMARY KEY AUTOINCREMENT,\n",
    "    user_id INTEGER NOT NULL,\n",
    "    goal_description TEXT NOT NULL,\n",
    "    target_date TEXT NOT NULL, -- ISO 8601 format (YYYY-MM-DD)\n",
    "    achieved INTEGER DEFAULT 0, -- 0 = False, 1 = True\n",
    "    FOREIGN KEY (user_id) REFERENCES users(user_id)\n",
    ");\n",
    "\n",
    "CREATE TABLE IF NOT EXISTS routines (\n",
    "    routine_id INTEGER PRIMARY KEY AUTOINCREMENT,\n",
    "    routine_name VARCHAR(255) NOT NULL,\n",
    "    description TEXT NOT NULL,\n",
    "    difficulty_level VARCHAR(50) NOT NULL -- e.g., Beginner, Intermediate, Advanced\n",
    ");\n",
    "\n",
    "CREATE TABLE IF NOT EXISTS routine_exercises (\n",
    "    routine_exercise_id INTEGER PRIMARY KEY AUTOINCREMENT,\n",
    "    routine_id INTEGER NOT NULL,\n",
    "    exercise_id INTEGER NOT NULL,\n",
    "    sets INTEGER NOT NULL,\n",
    "    reps INTEGER NOT NULL,\n",
    "    rest_time_seconds INTEGER NOT NULL, -- in seconds\n",
    "    FOREIGN KEY (routine_id) REFERENCES routines(routine_id),\n",
    "    FOREIGN KEY (exercise_id) REFERENCES exercises_lookup(exercise_id)\n",
    ");\n",
    "\n",
    "CREATE TABLE IF NOT EXISTS user_routines (\n",
    "    user_routine_id INTEGER PRIMARY KEY AUTOINCREMENT,\n",
    "    user_id INTEGER NOT NULL,\n",
    "    routine_id INTEGER NOT NULL,\n",
    "    start_date TEXT NOT NULL, -- ISO 8601 format (YYYY-MM-DD)\n",
    "    end_date TEXT, -- ISO 8601 format (YYYY-MM-DD)\n",
    "    FOREIGN KEY (user_id) REFERENCES users(user_id),\n",
    "    FOREIGN KEY (routine_id) REFERENCES routines(routine_id)\n",
    ");"
   ]
  },
  {
   "cell_type": "markdown",
   "id": "bf03d88c",
   "metadata": {
    "papermill": {
     "duration": 0.003556,
     "end_time": "2025-04-12T03:08:39.680597",
     "exception": false,
     "start_time": "2025-04-12T03:08:39.677041",
     "status": "completed"
    },
    "tags": []
   },
   "source": [
    "**Testing/Caching DB**"
   ]
  },
  {
   "cell_type": "code",
   "execution_count": 4,
   "id": "a4b95616",
   "metadata": {
    "execution": {
     "iopub.execute_input": "2025-04-12T03:08:39.688819Z",
     "iopub.status.busy": "2025-04-12T03:08:39.688604Z",
     "iopub.status.idle": "2025-04-12T03:08:39.717855Z",
     "shell.execute_reply": "2025-04-12T03:08:39.717003Z"
    },
    "papermill": {
     "duration": 0.034693,
     "end_time": "2025-04-12T03:08:39.719000",
     "exception": false,
     "start_time": "2025-04-12T03:08:39.684307",
     "status": "completed"
    },
    "tags": []
   },
   "outputs": [
    {
     "name": "stdout",
     "output_type": "stream",
     "text": [
      " * sqlite:///gym.db\n",
      "Done.\n",
      "Done.\n"
     ]
    },
    {
     "data": {
      "text/plain": [
       "[]"
      ]
     },
     "execution_count": 4,
     "metadata": {},
     "output_type": "execute_result"
    }
   ],
   "source": [
    "%%sql\n",
    "CREATE TABLE IF NOT EXISTS user_agent_interactions (\n",
    "    interaction_id INTEGER PRIMARY KEY AUTOINCREMENT,\n",
    "    session_id INTEGER NOT NULL, \n",
    "    user_input TEXT NOT NULL, \n",
    "    agent_output TEXT NOT NULL, \n",
    "    timestamp DATETIME DEFAULT CURRENT_TIMESTAMP, \n",
    "    user_id INTEGER, \n",
    "    FOREIGN KEY (user_id) REFERENCES users(user_id)\n",
    ");\n",
    "\n",
    "CREATE TABLE IF NOT EXISTS session_context (\n",
    "    session_id INTEGER PRIMARY KEY,\n",
    "    user_id INTEGER, \n",
    "    context_data TEXT,\n",
    "    last_updated DATETIME DEFAULT CURRENT_TIMESTAMP,\n",
    "    FOREIGN KEY (user_id) REFERENCES users(user_id)\n",
    ");"
   ]
  },
  {
   "cell_type": "markdown",
   "id": "28487638",
   "metadata": {
    "papermill": {
     "duration": 0.003572,
     "end_time": "2025-04-12T03:08:39.726691",
     "exception": false,
     "start_time": "2025-04-12T03:08:39.723119",
     "status": "completed"
    },
    "tags": []
   },
   "source": [
    "**Python Functions for Interacting with the Gym Database**\n"
   ]
  },
  {
   "cell_type": "code",
   "execution_count": 5,
   "id": "e4204c33",
   "metadata": {
    "execution": {
     "iopub.execute_input": "2025-04-12T03:08:39.735612Z",
     "iopub.status.busy": "2025-04-12T03:08:39.735270Z",
     "iopub.status.idle": "2025-04-12T03:08:39.752228Z",
     "shell.execute_reply": "2025-04-12T03:08:39.751437Z"
    },
    "papermill": {
     "duration": 0.022889,
     "end_time": "2025-04-12T03:08:39.753390",
     "exception": false,
     "start_time": "2025-04-12T03:08:39.730501",
     "status": "completed"
    },
    "tags": []
   },
   "outputs": [],
   "source": [
    "import sqlite3\n",
    "db_file = \"gym.db\"\n",
    "db_conn = sqlite3.connect(db_file)\n",
    "\n",
    "\"\"\"\n",
    "List Tables: list_tables() retrieves and returns a list of all \n",
    "tables present in the database.\n",
    "\"\"\"\n",
    "def list_tables() -> list[str]:\n",
    "    print(' DB CALL:list_tables()')\n",
    "    cursor=db_conn.cursor()\n",
    "    cursor.execute(\"SELECT name FROM sqlite_master WHERE type='table';\")\n",
    "    tables=cursor.fetchall()\n",
    "    return [t[0] for t in tables]\n",
    "    \n",
    "\"\"\"\n",
    "Describe Table Structure: describe_table(table_name) \n",
    "takes a table name as input and returns a list of tuples, \n",
    "where each tuple contains the column name and its data type for the specified table.\n",
    "\"\"\"\n",
    "def describe_table(table_name:str) -> list[tuple[str,str]]:\n",
    "    print(f'-DB CALL: describe_table({table_name})')\n",
    "    cursor=db_conn.cursor()\n",
    "    cursor.execute(f\"PRAGMA table_info({table_name});\")\n",
    "    schema=cursor.fetchall()\n",
    "    return [(col[1],col[2]) for col in schema]\n",
    "\n",
    "\"\"\"\n",
    "Execute Raw SQL Queries: execute_query(sql) allows you to execute any valid SQL query- \n",
    "-against the database and returns the results as a list of lists.\n",
    "\"\"\"\n",
    "def execute_query(sql:str) -> list[list[str]]:\n",
    "    print(f' -DB CALL: execute_query({sql})')\n",
    "    cursor=db_conn.cursor()\n",
    "    cursor.execute(sql)\n",
    "    return cursor.fetchall()\n",
    "\n",
    "\"\"\"\n",
    "Add New User: add_new_user(first_name, last_name, goal) inserts a new user record into-\n",
    "-the users table.\n",
    "\"\"\"\n",
    "def add_new_user(first_name: str, last_name: str, goal: str) -> None:\n",
    "    try:\n",
    "        db_conn = sqlite3.connect(db_file)\n",
    "        cursor = db_conn.cursor()\n",
    "        sql = \"INSERT INTO users (first_name, last_name, goal) VALUES (?, ?, ?)\"\n",
    "        cursor.execute(sql, (first_name, last_name, goal))\n",
    "        db_conn.commit()\n",
    "        print(f\"User {first_name} {last_name} added successfully with goal: {goal}\")\n",
    "    except sqlite3.Error as e:\n",
    "        printf(f\"Error adding user: {e}\")\n",
    "    finally:\n",
    "        if db_conn:\n",
    "            db_conn.close()\n",
    "\n",
    "\"\"\"\n",
    "Add User Preferences: add_user_preference(user_id, unit_system, reminder_time) adds or updates-\n",
    "-preferences for a specific user in the user_preferences table.\n",
    "\"\"\"\n",
    "def add_user_preference(user_id: int, unit_system: str, reminder_time: int) -> None:\n",
    "    try:\n",
    "        db_conn = sqlite3.connect(db_file)\n",
    "        cursor = db_conn.cursor()\n",
    "        sql = \"INSERT INTO user_preferences (user_id, unit_system, reminder_time) VALUES (?, ?, ?)\"\n",
    "        cursor.execute(sql, (user_id, unit_system, reminder_time))\n",
    "        db_conn.commit()\n",
    "        print(f\"Preferences added for user ID {user_id}: Unit System - {unit_system}, Reminder Time - {reminder_time}\")\n",
    "    except sqlite3.Error as e:\n",
    "        print(f\"Error adding user preference: {e}\")\n",
    "    finally:\n",
    "        if db_conn:\n",
    "            db_conn.close()\n",
    "\n",
    "\"\"\"\n",
    "Log Workout: log_workout(user_id, note, date, duration) records a new workout session for a user-\n",
    "-in the workouts table and returns the ID of the newly created workout.\n",
    "\"\"\"\n",
    "def log_workout(user_id: int, note: str, date: str, duration: int) -> int:\n",
    "    workout_id = -1\n",
    "    try:\n",
    "        db_conn = sqlite3.connect(db_file)\n",
    "        cursor = db_conn.cursor()\n",
    "        sql = \"INSERT INTO workouts (user_id, note, date, duration) VALUES (?, ?, ?, ?)\"\n",
    "        cursor.execute(sql, (user_id, note, date, duration))\n",
    "        db_conn.commit()\n",
    "        workout_id = cursor.lastrowid\n",
    "        print(f\"Workout logged for user ID {user_id} with ID: {workout_id}\")\n",
    "    except sqlite3.Error as e:\n",
    "        print(f\"Error logging workout: {e}\")\n",
    "    finally:\n",
    "        if db_conn:\n",
    "            db_conn.close()\n",
    "    return workout_id\n",
    "\n",
    "\"\"\"\n",
    "Add Exercise Log: add_exercise_log(workout_id, exercise_id, sets, weight, reps) records the details-\n",
    "-of a specific exercise performed during a workout in the exercises table.\n",
    "\"\"\"\n",
    "def add_exercise_log(workout_id: int, exercise_id: int, sets: int, weight: int, reps: int) -> None:\n",
    "    \"\"\"Adds an exercise log to the 'exercises' table.\"\"\"\n",
    "    try:\n",
    "        db_conn = sqlite3.connect(db_file)\n",
    "        cursor = db_conn.cursor()\n",
    "        sql = \"INSERT INTO exercises (workout_id, exercise_id, sets, weight, reps) VALUES (?, ?, ?, ?, ?)\"\n",
    "        cursor.execute(sql, (workout_id, exercise_id, sets, weight, reps))\n",
    "        db_conn.commit()\n",
    "        print(f\"Exercise logged for workout ID {workout_id}, exercise ID {exercise_id}: Sets - {sets}, Weight - {weight}, Reps - {reps}\")\n",
    "    except sqlite3.Error as e:\n",
    "        print(f\"Error adding exercise log: {e}\")\n",
    "    finally:\n",
    "        if db_conn:\n",
    "            db_conn.close()\n",
    "\n",
    "\"\"\"\n",
    "Add Progress: add_progress(user_id, exercise_id, date, weight_lifted, reps_completed, sets_completed)-\n",
    "-logs the progress made by a user on a specific exercise over time in the progress table.\n",
    "\"\"\"\n",
    "def add_progress(user_id: int, exercise_id: int, date: str, weight_lifted: int, reps_completed: int, sets_completed: int) -> None:\n",
    "    try:\n",
    "        db_conn = sqlite3.connect(db_file)\n",
    "        cursor = db_conn.cursor()\n",
    "        sql = \"INSERT INTO progress (user_id, exercise_id, date, weight_lifted, reps_completed, sets_completed) VALUES (?, ?, ?, ?, ?, ?)\"\n",
    "        cursor.execute(sql, (user_id, exercise_id, date, weight_lifted, reps_completed, sets_completed))\n",
    "        db_conn.commit()\n",
    "        print(f\"Progress added for user {user_id}, exercise {exercise_id} on {date}: Weight - {weight_lifted}, Reps - {reps_completed}, Sets - {sets_completed}\")\n",
    "    except sqlite3.Error as e:\n",
    "        print(f\"Error adding progress: {e}\")\n",
    "    finally:\n",
    "        if db_conn:\n",
    "            db_conn.close()\n",
    "            \n",
    "\"\"\"\n",
    "Add Goal: add_goal(user_id, goal_description, target_date, achieved) adds a new fitness goal for a user in the goals table.\n",
    "\"\"\"\n",
    "def add_goal(user_id: int, goal_description: str, target_date: str, achieved: int) -> None:\n",
    "    try:\n",
    "        db_conn = sqlite3.connect(db_file)\n",
    "        cursor = db_conn.cursor()\n",
    "        sql = \"INSERT INTO goals (user_id, goal_description, target_date, achieved) VALUES (?, ?, ?, ?)\"\n",
    "        cursor.execute(sql, (user_id, goal_description, target_date, achieved))\n",
    "        db_conn.commit()\n",
    "        print(f\"Goal added for user {user_id}: {goal_description} (Target: {target_date}, Achieved: {achieved})\")\n",
    "    except sqlite3.Error as e:\n",
    "        print(f\"Error adding goal: {e}\")\n",
    "    finally:\n",
    "        if db_conn:\n",
    "            db_conn.close()\n",
    "\n",
    "\"\"\"\n",
    "Add Routine: add_routine(routine_name, description, difficulty_level) creates a new predefined workout routine in the routines-\n",
    "-table and returns the ID of the new routine.\n",
    "\"\"\"\n",
    "def add_routine(routine_name: str, description: str, difficulty_level: str) -> int:\n",
    "    routine_id = -1\n",
    "    try:\n",
    "        db_conn = sqlite3.connect(db_file)\n",
    "        cursor = db_conn.cursor()\n",
    "        sql = \"INSERT INTO routines (routine_name, description, difficulty_level) VALUES (?, ?, ?)\"\n",
    "        cursor.execute(sql, (routine_name, description, difficulty_level))\n",
    "        db_conn.commit()\n",
    "        routine_id = cursor.lastrowid\n",
    "        print(f\"Routine added: {routine_name} (ID: {routine_id})\")\n",
    "    except sqlite3.Error as e:\n",
    "        print(f\"Error adding routine: {e}\")\n",
    "    finally:\n",
    "        if db_conn:\n",
    "            db_conn.close()\n",
    "    return routine_id\n",
    "\n",
    "\"\"\"\n",
    "Add Routine Exercise: add_routine_exercise(routine_id, exercise_id, sets, reps, rest_time_seconds) adds a specific exercise with-\n",
    "-its parameters to a predefined routine in the routine_exercises table.\n",
    "\"\"\"\n",
    "def add_routine_exercise(routine_id: int, exercise_id: int, sets: int, reps: int, rest_time_seconds: int) -> None:\n",
    "    try:\n",
    "        db_conn = sqlite3.connect(db_file)\n",
    "        cursor = db_conn.cursor()\n",
    "        sql = \"INSERT INTO routine_exercises (routine_id, exercise_id, sets, reps, rest_time_seconds) VALUES (?, ?, ?, ?, ?)\"\n",
    "        cursor.execute(sql, (routine_id, exercise_id, sets, reps, rest_time_seconds))\n",
    "        db_conn.commit()\n",
    "        print(f\"Exercise {exercise_id} added to routine {routine_id}: Sets - {sets}, Reps - {reps}, Rest - {rest_time_seconds}s\")\n",
    "    except sqlite3.Error as e:\n",
    "        print(f\"Error adding exercise to routine: {e}\")\n",
    "    finally:\n",
    "        if db_conn:\n",
    "            db_conn.close()\n",
    "\n",
    "\"\"\"\n",
    "Assign User Routine: assign_user_routine(user_id, routine_id, start_date, end_date) assigns a predefined routine to a specific user-\n",
    "-for a given time period in the user_routines table.\n",
    "\"\"\"\n",
    "def assign_user_routine(user_id: int, routine_id: int, start_date: str, end_date: str) -> None:\n",
    "    try:\n",
    "        db_conn = sqlite3.connect(db_file)\n",
    "        cursor = db_conn.cursor()\n",
    "        sql = \"INSERT INTO user_routines (user_id, routine_id, start_date, end_date) VALUES (?, ?, ?, ?)\"\n",
    "        cursor.execute(sql, (user_id, routine_id, start_date, end_date))\n",
    "        db_conn.commit()\n",
    "        print(f\"Routine {routine_id} assigned to user {user_id} starting on {start_date}\")\n",
    "    except sqlite3.Error as e:\n",
    "        print(f\"Error assigning routine to user: {e}\")\n",
    "    finally:\n",
    "        if db_conn:\n",
    "            db_conn.close()"
   ]
  },
  {
   "cell_type": "markdown",
   "id": "c77cd7e9",
   "metadata": {
    "papermill": {
     "duration": 0.004676,
     "end_time": "2025-04-12T03:08:39.762195",
     "exception": false,
     "start_time": "2025-04-12T03:08:39.757519",
     "status": "completed"
    },
    "tags": []
   },
   "source": [
    "**Testing Function/Context Caching** "
   ]
  },
  {
   "cell_type": "code",
   "execution_count": 6,
   "id": "eabafff2",
   "metadata": {
    "execution": {
     "iopub.execute_input": "2025-04-12T03:08:39.771707Z",
     "iopub.status.busy": "2025-04-12T03:08:39.771431Z",
     "iopub.status.idle": "2025-04-12T03:08:39.776178Z",
     "shell.execute_reply": "2025-04-12T03:08:39.775189Z"
    },
    "papermill": {
     "duration": 0.010826,
     "end_time": "2025-04-12T03:08:39.777448",
     "exception": false,
     "start_time": "2025-04-12T03:08:39.766622",
     "status": "completed"
    },
    "tags": []
   },
   "outputs": [],
   "source": [
    "\"\"\"\n",
    "Log User-Agent Interaction: log_user_agent_interaction(session_id, user_input, agent_output, user_id) records interactions between a-\n",
    "-user and a potential gym assistant bot in the user_agent_interactions table.\n",
    "\"\"\"           \n",
    "def log_user_agent_interaction(session_id: int, user_input: str, agent_output: str, user_id: int) -> None:\n",
    "    try:\n",
    "        db_conn = sqlite3.connect(db_file)\n",
    "        cursor = db_conn.cursor()\n",
    "        sql = \"\"\"\n",
    "        INSERT INTO user_agent_interactions (session_id, user_input, agent_output, user_id)\n",
    "        VALUES (?, ?, ?, ?)\n",
    "        \"\"\"\n",
    "        cursor.execute(sql, (session_id, user_input, agent_output, user_id))\n",
    "        db_conn.commit()\n",
    "        print(f\"Interaction logged for session ID {session_id}: User Input - '{user_input}', Agent Output - '{agent_output}'\")\n",
    "    except sqlite3.Error as e:\n",
    "        print(f\"Error logging user-agent interaction: {e}\")\n",
    "    finally:\n",
    "        if db_conn:\n",
    "            db_conn.close()\n",
    "\n"
   ]
  },
  {
   "cell_type": "markdown",
   "id": "4375daf0",
   "metadata": {
    "papermill": {
     "duration": 0.003721,
     "end_time": "2025-04-12T03:08:39.785467",
     "exception": false,
     "start_time": "2025-04-12T03:08:39.781746",
     "status": "completed"
    },
    "tags": []
   },
   "source": [
    "**Answering Basic Gym Questions:**"
   ]
  },
  {
   "cell_type": "code",
   "execution_count": 7,
   "id": "d296395d",
   "metadata": {
    "execution": {
     "iopub.execute_input": "2025-04-12T03:08:39.793997Z",
     "iopub.status.busy": "2025-04-12T03:08:39.793768Z",
     "iopub.status.idle": "2025-04-12T03:08:39.798776Z",
     "shell.execute_reply": "2025-04-12T03:08:39.798201Z"
    },
    "papermill": {
     "duration": 0.010463,
     "end_time": "2025-04-12T03:08:39.799772",
     "exception": false,
     "start_time": "2025-04-12T03:08:39.789309",
     "status": "completed"
    },
    "tags": []
   },
   "outputs": [],
   "source": [
    "db_tools = [list_tables, describe_table, execute_query, add_new_user, add_user_preference, log_workout, add_exercise_log, add_progress, add_goal, add_routine, add_routine_exercise, assign_user_routine, log_user_agent_interaction]\n",
    "\n",
    "instruction = \"\"\"\n",
    "INSTRUCTIONS:\n",
    "1. (You are a helpful chatbot that can interact with an SQL database as a personal gym helper.)\n",
    "2. (You will take the users' questions related to their fitness journey. If the request involves retrieving information about their goals, past workouts, stored preferences, routines, or progress, you will turn it into an SQL query using the tools available. If the request involves logging new data related to these areas, you will use dedicated functions to add this information to the appropriate tables in the database.)\n",
    "3. (You will filter out non-ethical, NSFW content, and non-English content. You will respond with a statement saying that the message is non-appropriate.)\n",
    "4. (You are a personal gym helper, so you will act professionally, provide safe and effective guidance, and respond in professional English.)\n",
    "5. (When formulating SQL queries, focus on retrieving information relevant to the user's fitness goals, workout history, preferences, and available routines.)\n",
    "6. (Prioritize using the describe_table tool to understand the schema of relevant tables before executing queries, especially when the user's request is specific.)\n",
    "7. (Present the data retrieved from the database in a user-friendly format within your response.)\n",
    "8. (If the user asks for recommendations (e.g., exercises, routines), you can use the database to provide suggestions based on their goals and potentially difficulty levels, if available. For more detailed information about the recommended items, you will provide general knowledge.)\n",
    "9. (If a returning user is identified (based on their name), you will automatically retrieve and mention their current fitness goal. You will avoid asking for their name and goal again unless they indicate a change.)\n",
    "10. (You will utilize functions like add_new_user, add_user_preference, log_workout, add_exercise_log, add_progress, add_goal, add_routine, add_routine_exercise, and assign_user_routine to store new user data, preferences, workouts, exercises within workouts, progress updates, goals, routines, exercises within routines, and assigned user routines in the database when the user provides this information.)\n",
    "11. After processing each user query and generating a response (agent_output), you will use the log_user_agent_interaction function to record the interaction. Ensure you have access to the session_id (which should be maintained throughout the user's session) and the user_id. The user_input will be the user's query.\n",
    "\n",
    "**Context Caching Implementation:**\n",
    "\n",
    "12. **Context Management:** You will implement context caching to remember information within the current user session. This context will be stored and retrieved from a table named `session_context` (schema provided below). The `session_id` will be the primary key for this table, allowing you to store and retrieve information specific to each ongoing conversation.\n",
    "\n",
    "   ```sql\n",
    "   CREATE TABLE IF NOT EXISTS session_context (\n",
    "       session_id INTEGER PRIMARY KEY,\n",
    "       user_id INTEGER, -- Link to the user if identified\n",
    "       context_data TEXT, -- Store context as JSON\n",
    "       last_updated DATETIME DEFAULT CURRENT_TIMESTAMP,\n",
    "       FOREIGN KEY (user_id) REFERENCES users(user_id)\n",
    "   );\n",
    "   \n",
    "EXAMPLES:\n",
    "Example 1: New User Interaction\n",
    "User Query: \"Hi, I’m new here. My name is Alex Johnson.\"\n",
    "\n",
    "Desired Agent Behavior:\n",
    "The agent will check the users table for a record with the first name \"Alex\" and last name \"Johnson\".\n",
    "Since this is a new user, no record will be found.\n",
    "The agent will respond with:\n",
    "\"Thank you, Alex Johnson! It seems you're new here. What is your primary fitness goal? (e.g., lose weight, build muscle, improve endurance)\"\n",
    "\n",
    "Example 2: Returning User Interaction\n",
    "User Query:\n",
    "\"Hey, I’m Sarah Davis.\"\n",
    "\n",
    "Desired Agent Behavior:\n",
    "The agent will check the users table for a record with the first name \"Sarah\" and last name \"Davis\".\n",
    "A record is found, and the goal field indicates \"Build Muscle\".\n",
    "The agent will respond with:\n",
    "\"Welcome back, Sarah! I see your current goal is to Build Muscle. How can I assist you today?\"\n",
    "\n",
    "3: Logging a Workout\n",
    "User Query:\n",
    "\"I just finished a workout. It lasted 60 minutes, and I focused on upper body exercises. Can you log that for me?\"\n",
    "\n",
    "Desired Agent Behavior:\n",
    "The agent will identify the user based on prior interaction or stored session data.\n",
    "Using the log_workout(user_id, note, date, duration) function, the agent will log the workout with details such as today's date, a note about upper body exercises, and the duration of 60 minutes.\n",
    "The agent will respond with:\n",
    "\"Great job! I’ve logged your 60-minute upper body workout for today. Keep pushing yourself—you’re doing amazing!\"\n",
    "\n",
    "Example 4: Adding Preferences\n",
    "User Query:\n",
    "\"I prefer using metric units, and I’d like reminders at 7 AM.\"\n",
    "\n",
    "Desired Agent Behavior:\n",
    "The agent will use the add_user_preference(user_id, unit_system, reminder_time) function to store the user’s preferences.\n",
    "The agent will respond with:\n",
    "\"Got it! I’ve set your preferences to use metric units and send reminders at 7 AM. Let me know if there’s anything else you’d like to customize!\"\n",
    "\n",
    "Example 5: Exercise Recommendations\n",
    "User Query:\n",
    "\"What are some good exercises to improve my endurance?\"\n",
    "\n",
    "Desired Agent Behavior:\n",
    "The agent will query the database for exercises tagged with \"endurance\" or similar goals.\n",
    "If no specific data exists in the database, the agent will provide general recommendations based on its knowledge.\n",
    "The agent will respond with:\n",
    "\"To improve endurance, I recommend incorporating exercises like running, cycling, swimming, or high-intensity interval training (HIIT). These activities are excellent for building stamina over time. Let me know if you'd like help creating a routine around these exercises!\"\n",
    "\n",
    "Example 6: Filtering Non-Appropriate Content\n",
    "User Query:\n",
    "\n",
    "\"Why do you always give useless advice? This is garbage!\"\n",
    "Desired Agent Behavior:\n",
    "The agent will filter out the inappropriate tone and respond professionally.\n",
    "The agent will respond with:\n",
    "\"I’m sorry to hear that you’re feeling frustrated. My goal is to provide helpful and actionable advice. Could you clarify what you’re looking for so I can assist you better?\"\n",
    "\n",
    "Example 7: Motivational Message\n",
    "User Query:\n",
    "\"I’m feeling unmotivated today.\"\n",
    "\n",
    "Desired Agent Behavior:\n",
    "The agent will recognize the user’s sentiment and respond with encouragement.\n",
    "The agent will respond with:\n",
    "\"It’s completely normal to have off days—what matters is that you’re here and willing to push forward. Even small steps today can lead to big results tomorrow. You’ve got this!\"\n",
    "\n",
    "START WITH:\n",
    "1. {introduction}\n",
    "🤖 Welcome to Your Personal Gym Helper! 💪\n",
    "\n",
    "I’m here to guide you safely and effectively on your fitness journey. Whether you’re just starting out or looking to refine your routine, I’ll provide clear, actionable advice tailored to your goals.\n",
    "\n",
    "Safety is my top priority—always listen to your body and consult a professional if needed.\n",
    "\n",
    "Let’s get started! 😊\n",
    "\n",
    "To personalize your experience, could you please provide your first and last name?\n",
    "2. After receiving their first and last name, you will:\n",
    "    a. Use `execute_query` on the `users` table to find their record based on the provided first and last name.\n",
    "    b. If a record is found, retrieve their `goal` from the database and respond with something like: \"Welcome back, [First Name]! I see your current goal is [Goal]. How can I assist you today?\"\n",
    "    c. If no record is found, respond with: \"Thank you, [First Name] [Last Name]! It seems you're new here. What is your primary fitness goal? (e.g., lose weight, build muscle, improve endurance)\"\n",
    "3. After understanding their goal (new user) or confirming it (returning user), you will:\n",
    "    a. If the user is new (identified in step 2c), use the `add_new_user(first_name, last_name, goal)` function to add their information to the `users` table in the database.\n",
    "    b. Ask follow-up questions to gather more context. Based on their responses, you will:\n",
    "        i. If they provide preferences (e.g., unit system, reminder time), use the `add_user_preference(user_id, unit_system, reminder_time)` function to store this data. Ensure you have the `user_id`.\n",
    "        ii. If they provide details of a past workout (e.g., date, duration, notes), use the `log_workout(user_id, note, date, duration)` function to record it and potentially get the `workout_id`.\n",
    "        iii. If they provide details of exercises performed within a workout (e.g., sets, reps, weight, exercise name), use `add_exercise_log(workout_id, exercise_id, sets, weight, reps)`. You might need to look up the `exercise_id` from the `exercises_lookup` table first.\n",
    "        iv. If they provide progress updates on specific exercises (e.g., weight lifted, reps completed), use `add_progress(user_id, exercise_id, date, weight_lifted, reps_completed, sets_completed)`.\n",
    "        v. If they set new fitness goals with target dates, use `add_goal(user_id, goal_description, target_date)`.\n",
    "        vi. If they inquire about or want to create routines, and provide routine details (name, description, difficulty), use `add_routine(routine_name, description, difficulty_level)` and `add_routine_exercise(routine_id, exercise_id, sets, reps, rest_time_seconds)`.\n",
    "        vii. If they want to start a specific routine, use `assign_user_routine(user_id, routine_id, start_date, end_date)`.\n",
    "    c. Continue asking relevant follow-up questions to understand their needs better.\n",
    "4. Based on their requests and the data in the database, utilize the database tools (primarily `execute_query`) to retrieve and provide relevant information.\n",
    "5. If the user asks a general fitness or nutrition question, provide a helpful and professional answer based on your general knowledge.\n",
    "6. If the user asks for variations on an exercise, provide some common and safe variations based on your knowledge.\n",
    "7. You can incorporate motivational messages periodically or in response to certain queries to encourage the user.\n",
    "8. You will filter out non-ethical, NSFW content, and non-English content. You will respond with a statement saying that the message is non-appropriate.\n",
    "\"\"\""
   ]
  },
  {
   "cell_type": "code",
   "execution_count": 8,
   "id": "a68c6833",
   "metadata": {
    "execution": {
     "iopub.execute_input": "2025-04-12T03:08:39.807975Z",
     "iopub.status.busy": "2025-04-12T03:08:39.807790Z",
     "iopub.status.idle": "2025-04-12T03:08:40.041087Z",
     "shell.execute_reply": "2025-04-12T03:08:40.040414Z"
    },
    "papermill": {
     "duration": 0.238817,
     "end_time": "2025-04-12T03:08:40.042438",
     "exception": false,
     "start_time": "2025-04-12T03:08:39.803621",
     "status": "completed"
    },
    "tags": []
   },
   "outputs": [],
   "source": [
    "client = genai.Client(api_key=GOOGLE_API_KEY)\n",
    "\n",
    "chat = client.chats.create(\n",
    "    model=\"gemini-2.0-flash\",\n",
    "    config=types.GenerateContentConfig(\n",
    "        system_instruction=instruction,\n",
    "        tools=db_tools,\n",
    "    ),\n",
    ")"
   ]
  },
  {
   "cell_type": "markdown",
   "id": "6bc9688c",
   "metadata": {
    "papermill": {
     "duration": 0.004895,
     "end_time": "2025-04-12T03:08:40.051638",
     "exception": false,
     "start_time": "2025-04-12T03:08:40.046743",
     "status": "completed"
    },
    "tags": []
   },
   "source": [
    "**Test Cases (with different names)**"
   ]
  },
  {
   "cell_type": "code",
   "execution_count": 9,
   "id": "da47442b",
   "metadata": {
    "execution": {
     "iopub.execute_input": "2025-04-12T03:08:40.060579Z",
     "iopub.status.busy": "2025-04-12T03:08:40.060295Z",
     "iopub.status.idle": "2025-04-12T03:08:40.063561Z",
     "shell.execute_reply": "2025-04-12T03:08:40.062914Z"
    },
    "papermill": {
     "duration": 0.008844,
     "end_time": "2025-04-12T03:08:40.064602",
     "exception": false,
     "start_time": "2025-04-12T03:08:40.055758",
     "status": "completed"
    },
    "tags": []
   },
   "outputs": [],
   "source": [
    "test1 = [\n",
    "    \"Hi, I'm new here. My name is John Doe\", \n",
    "    \"I want to build muscle. Also, I prefer imperial units and would like a reminder 15 minutes before my workouts.\", \n",
    "    \"I did a chest workout today. It lasted for 45 minutes. I did 3 sets of 8 reps of bench press at 150 lbs and 3 sets of 10 reps of dumbbell flyes at 30 lbs.\", \n",
    "    \"Actually, my main goal has shifted. I now want to focus on improving my endurance for a marathon I'm planning.\", \n",
    "    \"Do you have any beginner routines focused on endurance?\" , \n",
    "    \"This is really ButtHole advice!\"\n",
    "]\n",
    "\n",
    "test2 = [\n",
    "    \"Hi, I'm new here. My name is Kelly Bluebook\", \n",
    "    \"I want to build muscle. Also, I prefer imperial units and would like a reminder 15 minutes before my workouts.\", \n",
    "    \"I did a chest workout today. It lasted for 45 minutes. I did 3 sets of 8 reps of bench press at 150 lbs and 3 sets of 10 reps of dumbbell flyes at 30 lbs.\", \n",
    "    \"Actually, my main goal has shifted. I now want to focus on improving my endurance for a marathon I'm planning.\", \n",
    "    \"Do you have any beginner routines focused on endurance?\" , \n",
    "    \"This is really ButtHole advice!\"\n",
    "]"
   ]
  },
  {
   "cell_type": "markdown",
   "id": "5927d188",
   "metadata": {
    "papermill": {
     "duration": 0.003604,
     "end_time": "2025-04-12T03:08:40.072580",
     "exception": false,
     "start_time": "2025-04-12T03:08:40.068976",
     "status": "completed"
    },
    "tags": []
   },
   "source": [
    "**Test 1**"
   ]
  },
  {
   "cell_type": "code",
   "execution_count": 10,
   "id": "7c08938e",
   "metadata": {
    "execution": {
     "iopub.execute_input": "2025-04-12T03:08:40.080698Z",
     "iopub.status.busy": "2025-04-12T03:08:40.080487Z",
     "iopub.status.idle": "2025-04-12T03:09:05.831373Z",
     "shell.execute_reply": "2025-04-12T03:09:05.830262Z"
    },
    "papermill": {
     "duration": 25.75639,
     "end_time": "2025-04-12T03:09:05.832670",
     "exception": false,
     "start_time": "2025-04-12T03:08:40.076280",
     "status": "completed"
    },
    "tags": []
   },
   "outputs": [
    {
     "name": "stdout",
     "output_type": "stream",
     "text": [
      " -DB CALL: execute_query(SELECT * FROM users WHERE first_name = \"John\" AND last_name = \"Doe\")\n",
      "Thank you, John Doe! It seems you're new here. What is your primary fitness goal? (e.g., lose weight, build muscle, improve endurance)\n",
      "\n",
      "User John Doe added successfully with goal: build muscle\n",
      "Okay, John, I've recorded your goal as building muscle.\n",
      "\n",
      "To set up your preferences, I need your user ID. Could you please tell me your user ID? Also, what time would you like to receive your workout reminders? Please provide the time in 24-hour format (e.g., 07:00 for 7:00 AM, 19:00 for 7:00 PM).\n",
      "\n",
      "-DB CALL: describe_table(exercises_lookup)\n",
      " -DB CALL: execute_query(SELECT exercise_id FROM exercises_lookup WHERE exercise_name = \"bench press\")\n",
      " -DB CALL: execute_query(SELECT exercise_id FROM exercises_lookup WHERE exercise_name = \"dumbbell flyes\")\n",
      "It seems that I cannot find 'bench press' and 'dumbbell flyes' on the table 'exercises_lookup'. Please provide the exact name of those exercises, or you can add those exercises into the table.\n",
      "\n",
      "To update your goal, I need your user ID first. Could you please provide it? Once I have that, I will update your goal to improving endurance for a marathon.\n",
      "\n",
      "-DB CALL: describe_table(routines)\n",
      " -DB CALL: execute_query(SELECT routine_name, description FROM routines WHERE difficulty_level = \"beginner\")\n",
      "Currently, I don't have any pre-defined beginner routines focused on endurance in the database. However, I can give you some general recommendations for creating your own beginner endurance routine.\n",
      "\n",
      "Endurance training typically involves activities that you can sustain for an extended period. Great options for beginners include:\n",
      "\n",
      "*   **Running:** Start with a mix of walking and jogging, gradually increasing the jogging intervals as you get fitter.\n",
      "*   **Cycling:** Begin with shorter rides on flat surfaces and slowly increase the distance and introduce some hills.\n",
      "*   **Swimming:** Swimming is a low-impact option that's great for building overall endurance.\n",
      "*   **Brisk Walking:** A simple yet effective way to improve cardiovascular health and endurance.\n",
      "\n",
      "For each activity, aim to start with 20-30 minutes sessions and gradually increase the duration as you feel comfortable. Listen to your body and rest when needed.\n",
      "\n",
      "Would you like me to help you create a more specific routine based on these activities?\n",
      "\n",
      "I’m sorry to hear that you’re feeling frustrated. My goal is to provide helpful and actionable advice. Could you clarify what you’re looking for so I can assist you better?\n",
      "\n"
     ]
    }
   ],
   "source": [
    "for i in range(len(test1)):\n",
    "    response = chat.send_message(test1[i])\n",
    "    print(response.text)"
   ]
  },
  {
   "cell_type": "markdown",
   "id": "e766a827",
   "metadata": {
    "papermill": {
     "duration": 0.004159,
     "end_time": "2025-04-12T03:09:05.841861",
     "exception": false,
     "start_time": "2025-04-12T03:09:05.837702",
     "status": "completed"
    },
    "tags": []
   },
   "source": [
    "**Test 2**"
   ]
  },
  {
   "cell_type": "code",
   "execution_count": 11,
   "id": "1da9139e",
   "metadata": {
    "execution": {
     "iopub.execute_input": "2025-04-12T03:09:05.851290Z",
     "iopub.status.busy": "2025-04-12T03:09:05.851053Z",
     "iopub.status.idle": "2025-04-12T03:10:56.249786Z",
     "shell.execute_reply": "2025-04-12T03:10:56.248738Z"
    },
    "papermill": {
     "duration": 110.40547,
     "end_time": "2025-04-12T03:10:56.251619",
     "exception": false,
     "start_time": "2025-04-12T03:09:05.846149",
     "status": "completed"
    },
    "tags": []
   },
   "outputs": [
    {
     "name": "stdout",
     "output_type": "stream",
     "text": [
      " -DB CALL: execute_query(SELECT * FROM users WHERE first_name = \"Kelly\" AND last_name = \"Bluebook\")\n",
      "Thank you, Kelly Bluebook! It seems you're new here. What is your primary fitness goal? (e.g., lose weight, build muscle, improve endurance)\n",
      "\n",
      "User Kelly Bluebook added successfully with goal: build muscle\n",
      "Okay, Kelly, I've recorded your goal as building muscle.\n",
      "\n",
      "To set up your preferences, I need your user ID. Could you please tell me your user ID? Also, what time would you like to receive your workout reminders? Please provide the time in 24-hour format (e.g., 07:00 for 7:00 AM, 19:00 for 7:00 PM).\n",
      "\n",
      "-DB CALL: describe_table(exercises_lookup)\n",
      " -DB CALL: execute_query(SELECT exercise_id FROM exercises_lookup WHERE exercise_name = \"bench press\")\n",
      "-DB CALL: describe_table(exercises_lookup)\n",
      " -DB CALL: execute_query(SELECT exercise_id FROM exercises_lookup WHERE exercise_name = \"bench press\")\n",
      " -DB CALL: execute_query(SELECT exercise_id FROM exercises_lookup WHERE exercise_name = \"dumbbell flyes\")\n",
      "It seems that I cannot find 'bench press' and 'dumbbell flyes' on the table 'exercises_lookup'. Please provide the exact name of those exercises, or you can add those exercises into the table.\n",
      "\n",
      "To update your goal, I need your user ID first. Could you please provide it? Once I have that, I will update your goal to improving endurance for a marathon.\n",
      "\n",
      "-DB CALL: describe_table(routines)\n",
      " -DB CALL: execute_query(SELECT routine_name, description FROM routines WHERE difficulty_level = \"beginner\")\n",
      "Currently, I don't have any pre-defined beginner routines focused on endurance in the database. However, I can give you some general recommendations for creating your own beginner endurance routine.\n",
      "\n",
      "Endurance training typically involves activities that you can sustain for an extended period. Great options for beginners include:\n",
      "\n",
      "*   **Running:** Start with a mix of walking and jogging, gradually increasing the jogging intervals as you get fitter.\n",
      "*   **Cycling:** Begin with shorter rides on flat surfaces and slowly increase the distance and introduce some hills.\n",
      "*   **Swimming:** Swimming is a low-impact option that's great for building overall endurance.\n",
      "*   **Brisk Walking:** A simple yet effective way to improve cardiovascular health and endurance.\n",
      "\n",
      "For each activity, aim to start with 20-30 minutes sessions and gradually increase the duration as you feel comfortable. Listen to your body and rest when needed.\n",
      "\n",
      "Would you like me to help you create a more specific routine based on these activities?\n",
      "\n",
      "I’m sorry to hear that you’re feeling frustrated. My goal is to provide helpful and actionable advice. Could you clarify what you’re looking for so I can assist you better?\n",
      "\n"
     ]
    }
   ],
   "source": [
    "    \n",
    "for i in range(len(test2)):\n",
    "    response = chat.send_message(test2[i])\n",
    "    print(response.text)\n",
    "    "
   ]
  },
  {
   "cell_type": "markdown",
   "id": "5c32266d",
   "metadata": {
    "papermill": {
     "duration": 0.004828,
     "end_time": "2025-04-12T03:10:56.262148",
     "exception": false,
     "start_time": "2025-04-12T03:10:56.257320",
     "status": "completed"
    },
    "tags": []
   },
   "source": [
    "**Print DB to Check Inputs into the DB**"
   ]
  },
  {
   "cell_type": "code",
   "execution_count": 12,
   "id": "937cdbed",
   "metadata": {
    "execution": {
     "iopub.execute_input": "2025-04-12T03:10:56.273188Z",
     "iopub.status.busy": "2025-04-12T03:10:56.272899Z",
     "iopub.status.idle": "2025-04-12T03:10:56.292680Z",
     "shell.execute_reply": "2025-04-12T03:10:56.291390Z"
    },
    "papermill": {
     "duration": 0.027134,
     "end_time": "2025-04-12T03:10:56.294179",
     "exception": false,
     "start_time": "2025-04-12T03:10:56.267045",
     "status": "completed"
    },
    "tags": []
   },
   "outputs": [
    {
     "name": "stdout",
     "output_type": "stream",
     "text": [
      "Listing all tables:\n",
      "- users\n",
      "- sqlite_sequence\n",
      "- user_preferences\n",
      "- workouts\n",
      "- exercises_lookup\n",
      "- exercises\n",
      "- progress\n",
      "- goals\n",
      "- routines\n",
      "- routine_exercises\n",
      "- user_routines\n",
      "- user_agent_interactions\n",
      "- session_context\n",
      "\n",
      "Describing table: users\n",
      "  - Name: user_id, Type: INTEGER\n",
      "  - Name: first_name, Type: VARCHAR(255)\n",
      "  - Name: last_name, Type: VARCHAR(255)\n",
      "  - Name: goal, Type: VARCHAR(255)\n",
      "\n",
      "First few rows from table: users\n",
      "  - (1, 'John', 'Doe', 'build muscle')\n",
      "  - (2, 'Kelly', 'Bluebook', 'build muscle')\n",
      "\n",
      "Describing table: sqlite_sequence\n",
      "  - Name: name, Type: \n",
      "  - Name: seq, Type: \n",
      "\n",
      "First few rows from table: sqlite_sequence\n",
      "  - ('users', 2)\n",
      "\n",
      "Describing table: user_preferences\n",
      "  - Name: preference_id, Type: INTEGER\n",
      "  - Name: user_id, Type: INTEGER\n",
      "  - Name: unit_system, Type: VARCHAR(50)\n",
      "  - Name: reminder_time, Type: INTEGER\n",
      "\n",
      "First few rows from table: user_preferences\n",
      "  (No data in this table)\n",
      "\n",
      "Describing table: workouts\n",
      "  - Name: workout_id, Type: INTEGER\n",
      "  - Name: user_id, Type: INTEGER\n",
      "  - Name: note, Type: VARCHAR(255)\n",
      "  - Name: date, Type: TEXT\n",
      "  - Name: duration, Type: INTEGER\n",
      "\n",
      "First few rows from table: workouts\n",
      "  (No data in this table)\n",
      "\n",
      "Describing table: exercises_lookup\n",
      "  - Name: exercise_id, Type: INTEGER\n",
      "  - Name: exercise_name, Type: VARCHAR(255)\n",
      "  - Name: muscle_group, Type: VARCHAR(255)\n",
      "\n",
      "First few rows from table: exercises_lookup\n",
      "  (No data in this table)\n",
      "\n",
      "Describing table: exercises\n",
      "  - Name: log_id, Type: INTEGER\n",
      "  - Name: workout_id, Type: INTEGER\n",
      "  - Name: exercise_id, Type: INTEGER\n",
      "  - Name: sets, Type: INTEGER\n",
      "  - Name: weight, Type: INTEGER\n",
      "  - Name: reps, Type: INTEGER\n",
      "\n",
      "First few rows from table: exercises\n",
      "  (No data in this table)\n",
      "\n",
      "Describing table: progress\n",
      "  - Name: progress_id, Type: INTEGER\n",
      "  - Name: user_id, Type: INTEGER\n",
      "  - Name: exercise_id, Type: INTEGER\n",
      "  - Name: date, Type: TEXT\n",
      "  - Name: weight_lifted, Type: INTEGER\n",
      "  - Name: reps_completed, Type: INTEGER\n",
      "  - Name: sets_completed, Type: INTEGER\n",
      "\n",
      "First few rows from table: progress\n",
      "  (No data in this table)\n",
      "\n",
      "Describing table: goals\n",
      "  - Name: goal_id, Type: INTEGER\n",
      "  - Name: user_id, Type: INTEGER\n",
      "  - Name: goal_description, Type: TEXT\n",
      "  - Name: target_date, Type: TEXT\n",
      "  - Name: achieved, Type: INTEGER\n",
      "\n",
      "First few rows from table: goals\n",
      "  (No data in this table)\n",
      "\n",
      "Describing table: routines\n",
      "  - Name: routine_id, Type: INTEGER\n",
      "  - Name: routine_name, Type: VARCHAR(255)\n",
      "  - Name: description, Type: TEXT\n",
      "  - Name: difficulty_level, Type: VARCHAR(50)\n",
      "\n",
      "First few rows from table: routines\n",
      "  (No data in this table)\n",
      "\n",
      "Describing table: routine_exercises\n",
      "  - Name: routine_exercise_id, Type: INTEGER\n",
      "  - Name: routine_id, Type: INTEGER\n",
      "  - Name: exercise_id, Type: INTEGER\n",
      "  - Name: sets, Type: INTEGER\n",
      "  - Name: reps, Type: INTEGER\n",
      "  - Name: rest_time_seconds, Type: INTEGER\n",
      "\n",
      "First few rows from table: routine_exercises\n",
      "  (No data in this table)\n",
      "\n",
      "Describing table: user_routines\n",
      "  - Name: user_routine_id, Type: INTEGER\n",
      "  - Name: user_id, Type: INTEGER\n",
      "  - Name: routine_id, Type: INTEGER\n",
      "  - Name: start_date, Type: TEXT\n",
      "  - Name: end_date, Type: TEXT\n",
      "\n",
      "First few rows from table: user_routines\n",
      "  (No data in this table)\n",
      "\n",
      "Describing table: user_agent_interactions\n",
      "  - Name: interaction_id, Type: INTEGER\n",
      "  - Name: session_id, Type: INTEGER\n",
      "  - Name: user_input, Type: TEXT\n",
      "  - Name: agent_output, Type: TEXT\n",
      "  - Name: timestamp, Type: DATETIME\n",
      "  - Name: user_id, Type: INTEGER\n",
      "\n",
      "First few rows from table: user_agent_interactions\n",
      "  (No data in this table)\n",
      "\n",
      "Describing table: session_context\n",
      "  - Name: session_id, Type: INTEGER\n",
      "  - Name: user_id, Type: INTEGER\n",
      "  - Name: context_data, Type: TEXT\n",
      "  - Name: last_updated, Type: DATETIME\n",
      "\n",
      "First few rows from table: session_context\n",
      "  (No data in this table)\n"
     ]
    }
   ],
   "source": [
    "db_file = \"gym.db\"\n",
    "db_conn = sqlite3.connect(db_file)\n",
    "print(\"Listing all tables:\")\n",
    "cursor=db_conn.cursor()\n",
    "cursor.execute(\"SELECT name FROM sqlite_master WHERE type='table';\")\n",
    "tables = cursor.fetchall()\n",
    "for table in tables:\n",
    "    print(f\"- {table[0]}\")\n",
    "\n",
    "for table_name in [table[0] for table in tables]:\n",
    "    print(f\"\\nDescribing table: {table_name}\")\n",
    "    cursor.execute(f\"PRAGMA table_info({table_name});\")\n",
    "    columns = cursor.fetchall()\n",
    "    for column in columns:\n",
    "        print(f\"  - Name: {column[1]}, Type: {column[2]}\")\n",
    "\n",
    "    print(f\"\\nFirst few rows from table: {table_name}\")\n",
    "    try:\n",
    "        cursor.execute(f\"SELECT * FROM {table_name} LIMIT 5;\")\n",
    "        rows = cursor.fetchall()\n",
    "        if rows:\n",
    "            for row in rows:\n",
    "                print(f\"  - {row}\")\n",
    "        else:\n",
    "            print(\"  (No data in this table)\")\n",
    "    except sqlite3.OperationalError as e:\n",
    "        print(f\"  Error fetching data: {e}\")\n",
    "db_conn.close()"
   ]
  },
  {
   "cell_type": "markdown",
   "id": "38a2753f",
   "metadata": {
    "papermill": {
     "duration": 0.004912,
     "end_time": "2025-04-12T03:10:56.304759",
     "exception": false,
     "start_time": "2025-04-12T03:10:56.299847",
     "status": "completed"
    },
    "tags": []
   },
   "source": [
    "**Testing(Long Context Window)**\n",
    "\n",
    "Gemini-2.0 has a 1 million token context window\n",
    "\n",
    "This extends the other test cases and it will show if the chatbot could ideally maintain context of the user's name, goal, preference, and even suggested routines over multiple turns and will utilize various functionalities based on the requests from the user. This also includes handling general knowledge and also a motivational response, and finally a inappropriate message. "
   ]
  },
  {
   "cell_type": "code",
   "execution_count": 13,
   "id": "83af905e",
   "metadata": {
    "execution": {
     "iopub.execute_input": "2025-04-12T03:10:56.315878Z",
     "iopub.status.busy": "2025-04-12T03:10:56.315648Z",
     "iopub.status.idle": "2025-04-12T03:10:56.482326Z",
     "shell.execute_reply": "2025-04-12T03:10:56.481530Z"
    },
    "papermill": {
     "duration": 0.173784,
     "end_time": "2025-04-12T03:10:56.483610",
     "exception": false,
     "start_time": "2025-04-12T03:10:56.309826",
     "status": "completed"
    },
    "tags": []
   },
   "outputs": [
    {
     "name": "stdout",
     "output_type": "stream",
     "text": [
      "{'description': 'Gemini 2.0 Flash',\n",
      " 'display_name': 'Gemini 2.0 Flash',\n",
      " 'input_token_limit': 1048576,\n",
      " 'name': 'models/gemini-2.0-flash',\n",
      " 'output_token_limit': 8192,\n",
      " 'supported_actions': ['generateContent', 'countTokens'],\n",
      " 'tuned_model_info': {},\n",
      " 'version': '2.0'}\n"
     ]
    }
   ],
   "source": [
    "from pprint import pprint\n",
    "\n",
    "for model in client.models.list():\n",
    "  if model.name == 'models/gemini-2.0-flash':\n",
    "    pprint(model.to_json_dict())\n",
    "    break"
   ]
  },
  {
   "cell_type": "code",
   "execution_count": 14,
   "id": "5bfd0cf1",
   "metadata": {
    "execution": {
     "iopub.execute_input": "2025-04-12T03:10:56.495500Z",
     "iopub.status.busy": "2025-04-12T03:10:56.495117Z",
     "iopub.status.idle": "2025-04-12T03:10:56.498769Z",
     "shell.execute_reply": "2025-04-12T03:10:56.498020Z"
    },
    "papermill": {
     "duration": 0.010688,
     "end_time": "2025-04-12T03:10:56.499891",
     "exception": false,
     "start_time": "2025-04-12T03:10:56.489203",
     "status": "completed"
    },
    "tags": []
   },
   "outputs": [],
   "source": [
    "long_test = [\n",
    "    \"Hello, my name is Charlie Brown, and I'm new to this.\",\n",
    "    \"I'm aiming to lose weight. I'd also like to use kilograms for weight and get a reminder 20 minutes before I plan to exercise.\",\n",
    "    \"Yes, I did a cardio session this morning. It was about 30 minutes of jogging.\",\n",
    "    \"What other kinds of exercises would you recommend for losing weight?\",\n",
    "    \"Tell me more about burpees.\",\n",
    "    \"Do you have any beginner weight loss routines I could follow?\",\n",
    "    \"Yes, let's assign that 'Beginner Weight Loss Circuit' to me starting tomorrow for the next week.\",\n",
    "    \"How important is hydration for weight loss?\",\n",
    "    \"I'm feeling a bit tired today.\",\n",
    "    \"Tell me some butt hole exercises.\"\n",
    "]"
   ]
  }
 ],
 "metadata": {
  "kaggle": {
   "accelerator": "none",
   "dataSources": [
    {
     "sourceId": 97258,
     "sourceType": "competition"
    }
   ],
   "dockerImageVersionId": 30918,
   "isGpuEnabled": false,
   "isInternetEnabled": true,
   "language": "python",
   "sourceType": "notebook"
  },
  "kernelspec": {
   "display_name": "Python 3",
   "language": "python",
   "name": "python3"
  },
  "language_info": {
   "codemirror_mode": {
    "name": "ipython",
    "version": 3
   },
   "file_extension": ".py",
   "mimetype": "text/x-python",
   "name": "python",
   "nbconvert_exporter": "python",
   "pygments_lexer": "ipython3",
   "version": "3.10.12"
  },
  "papermill": {
   "default_parameters": {},
   "duration": 149.447034,
   "end_time": "2025-04-12T03:10:57.325975",
   "environment_variables": {},
   "exception": null,
   "input_path": "__notebook__.ipynb",
   "output_path": "__notebook__.ipynb",
   "parameters": {},
   "start_time": "2025-04-12T03:08:27.878941",
   "version": "2.6.0"
  }
 },
 "nbformat": 4,
 "nbformat_minor": 5
}
