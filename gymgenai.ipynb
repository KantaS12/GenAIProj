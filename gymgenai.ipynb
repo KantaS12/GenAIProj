{
 "cells": [
  {
   "cell_type": "code",
   "execution_count": 1,
   "id": "4fadac4b",
   "metadata": {
    "_cell_guid": "b1076dfc-b9ad-4769-8c92-a6c4dae69d19",
    "_uuid": "8f2839f25d086af736a60e9eeb907d3b93b6e0e5",
    "execution": {
     "iopub.execute_input": "2025-04-08T22:52:16.640542Z",
     "iopub.status.busy": "2025-04-08T22:52:16.640017Z",
     "iopub.status.idle": "2025-04-08T22:52:27.331983Z",
     "shell.execute_reply": "2025-04-08T22:52:27.330713Z"
    },
    "papermill": {
     "duration": 10.699324,
     "end_time": "2025-04-08T22:52:27.334167",
     "exception": false,
     "start_time": "2025-04-08T22:52:16.634843",
     "status": "completed"
    },
    "tags": []
   },
   "outputs": [
    {
     "name": "stdout",
     "output_type": "stream",
     "text": [
      "\u001b[2K   \u001b[90m━━━━━━━━━━━━━━━━━━━━━━━━━━━━━━━━━━━━━━━━\u001b[0m \u001b[32m144.7/144.7 kB\u001b[0m \u001b[31m4.3 MB/s\u001b[0m eta \u001b[36m0:00:00\u001b[0m\r\n",
      "\u001b[2K   \u001b[90m━━━━━━━━━━━━━━━━━━━━━━━━━━━━━━━━━━━━━━━━\u001b[0m \u001b[32m100.9/100.9 kB\u001b[0m \u001b[31m4.6 MB/s\u001b[0m eta \u001b[36m0:00:00\u001b[0m\r\n",
      "\u001b[?25h"
     ]
    }
   ],
   "source": [
    "!pip uninstall -qqy jupyterlab  # Remove unused conflicting packages\n",
    "!pip install -U -q \"google-genai==1.7.0\"\n",
    "from google import genai\n",
    "from google.genai import types\n",
    "\n",
    "genai.__version__\n",
    "from kaggle_secrets import UserSecretsClient\n",
    "\n",
    "GOOGLE_API_KEY = UserSecretsClient().get_secret(\"GOOGLE_API_KEY\")\n",
    "from google.api_core import retry\n",
    "\n",
    "is_retriable = lambda e: (isinstance(e, genai.errors.APIError) and e.code in {429, 503})\n",
    "\n",
    "if not hasattr(genai.models.Models.generate_content, '__wrapped__'):\n",
    "  genai.models.Models.generate_content = retry.Retry(\n",
    "      predicate=is_retriable)(genai.models.Models.generate_content)"
   ]
  },
  {
   "cell_type": "markdown",
   "id": "14493514",
   "metadata": {
    "papermill": {
     "duration": 0.002773,
     "end_time": "2025-04-08T22:52:27.340708",
     "exception": false,
     "start_time": "2025-04-08T22:52:27.337935",
     "status": "completed"
    },
    "tags": []
   },
   "source": [
    "**Storing Information in a DB:**"
   ]
  },
  {
   "cell_type": "code",
   "execution_count": 2,
   "id": "2c4289c7",
   "metadata": {
    "execution": {
     "iopub.execute_input": "2025-04-08T22:52:27.348408Z",
     "iopub.status.busy": "2025-04-08T22:52:27.347863Z",
     "iopub.status.idle": "2025-04-08T22:52:29.309509Z",
     "shell.execute_reply": "2025-04-08T22:52:29.308426Z"
    },
    "papermill": {
     "duration": 1.967855,
     "end_time": "2025-04-08T22:52:29.311663",
     "exception": false,
     "start_time": "2025-04-08T22:52:27.343808",
     "status": "completed"
    },
    "tags": []
   },
   "outputs": [],
   "source": [
    "%load_ext sql\n",
    "%sql sqlite:///gym.db"
   ]
  },
  {
   "cell_type": "code",
   "execution_count": 3,
   "id": "559c2ad8",
   "metadata": {
    "execution": {
     "iopub.execute_input": "2025-04-08T22:52:29.319427Z",
     "iopub.status.busy": "2025-04-08T22:52:29.318842Z",
     "iopub.status.idle": "2025-04-08T22:52:29.478353Z",
     "shell.execute_reply": "2025-04-08T22:52:29.476981Z"
    },
    "papermill": {
     "duration": 0.16541,
     "end_time": "2025-04-08T22:52:29.480204",
     "exception": false,
     "start_time": "2025-04-08T22:52:29.314794",
     "status": "completed"
    },
    "tags": []
   },
   "outputs": [
    {
     "name": "stdout",
     "output_type": "stream",
     "text": [
      " * sqlite:///gym.db\n",
      "Done.\n",
      "Done.\n",
      "Done.\n",
      "Done.\n",
      "Done.\n",
      "Done.\n",
      "Done.\n",
      "Done.\n",
      "Done.\n",
      "Done.\n"
     ]
    },
    {
     "data": {
      "text/plain": [
       "[]"
      ]
     },
     "execution_count": 3,
     "metadata": {},
     "output_type": "execute_result"
    }
   ],
   "source": [
    "%%sql\n",
    "CREATE TABLE IF NOT EXISTS users (\n",
    "    user_id INTEGER PRIMARY KEY AUTOINCREMENT,\n",
    "    first_name VARCHAR(255) NOT NULL,\n",
    "    last_name VARCHAR(255) NOT NULL,\n",
    "    goal VARCHAR(255) NOT NULL\n",
    ");\n",
    "\n",
    "CREATE TABLE IF NOT EXISTS user_preferences (\n",
    "    preference_id INTEGER PRIMARY KEY AUTOINCREMENT,\n",
    "    user_id INTEGER NOT NULL,\n",
    "    unit_system VARCHAR(50) NOT NULL, -- e.g., Metric, Imperial\n",
    "    reminder_time INTEGER, -- in seconds before workout\n",
    "    FOREIGN KEY (user_id) REFERENCES users(user_id)\n",
    ");\n",
    "\n",
    "CREATE TABLE IF NOT EXISTS workouts (\n",
    "    workout_id INTEGER PRIMARY KEY AUTOINCREMENT,\n",
    "    user_id INTEGER NOT NULL,\n",
    "    note VARCHAR(255) NOT NULL,\n",
    "    date TEXT NOT NULL, -- ISO 8601 format (YYYY-MM-DD)\n",
    "    duration INTEGER, -- in minutes\n",
    "    FOREIGN KEY (user_id) REFERENCES users(user_id)\n",
    ");\n",
    "\n",
    "CREATE TABLE IF NOT EXISTS exercises_lookup (\n",
    "    exercise_id INTEGER PRIMARY KEY AUTOINCREMENT,\n",
    "    exercise_name VARCHAR(255) NOT NULL UNIQUE,\n",
    "    muscle_group VARCHAR(255) NOT NULL\n",
    ");\n",
    "\n",
    "CREATE TABLE IF NOT EXISTS exercises (\n",
    "    log_id INTEGER PRIMARY KEY AUTOINCREMENT,\n",
    "    workout_id INTEGER NOT NULL,\n",
    "    exercise_id INTEGER NOT NULL,\n",
    "    sets INTEGER NOT NULL,\n",
    "    weight INTEGER NOT NULL,\n",
    "    reps INTEGER NOT NULL,\n",
    "    FOREIGN KEY (workout_id) REFERENCES workouts(workout_id),\n",
    "    FOREIGN KEY (exercise_id) REFERENCES exercises_lookup(exercise_id)\n",
    ");\n",
    "\n",
    "CREATE TABLE IF NOT EXISTS progress (\n",
    "    progress_id INTEGER PRIMARY KEY AUTOINCREMENT,\n",
    "    user_id INTEGER NOT NULL,\n",
    "    exercise_id INTEGER NOT NULL,\n",
    "    date TEXT NOT NULL, -- ISO 8601 format (YYYY-MM-DD)\n",
    "    weight_lifted INTEGER NOT NULL,\n",
    "    reps_completed INTEGER NOT NULL,\n",
    "    sets_completed INTEGER NOT NULL,\n",
    "    FOREIGN KEY (user_id) REFERENCES users(user_id),\n",
    "    FOREIGN KEY (exercise_id) REFERENCES exercises_lookup(exercise_id)\n",
    ");\n",
    "\n",
    "CREATE TABLE IF NOT EXISTS goals (\n",
    "    goal_id INTEGER PRIMARY KEY AUTOINCREMENT,\n",
    "    user_id INTEGER NOT NULL,\n",
    "    goal_description TEXT NOT NULL,\n",
    "    target_date TEXT NOT NULL, -- ISO 8601 format (YYYY-MM-DD)\n",
    "    achieved INTEGER DEFAULT 0, -- 0 = False, 1 = True\n",
    "    FOREIGN KEY (user_id) REFERENCES users(user_id)\n",
    ");\n",
    "\n",
    "CREATE TABLE IF NOT EXISTS routines (\n",
    "    routine_id INTEGER PRIMARY KEY AUTOINCREMENT,\n",
    "    routine_name VARCHAR(255) NOT NULL,\n",
    "    description TEXT NOT NULL,\n",
    "    difficulty_level VARCHAR(50) NOT NULL -- e.g., Beginner, Intermediate, Advanced\n",
    ");\n",
    "\n",
    "CREATE TABLE IF NOT EXISTS routine_exercises (\n",
    "    routine_exercise_id INTEGER PRIMARY KEY AUTOINCREMENT,\n",
    "    routine_id INTEGER NOT NULL,\n",
    "    exercise_id INTEGER NOT NULL,\n",
    "    sets INTEGER NOT NULL,\n",
    "    reps INTEGER NOT NULL,\n",
    "    rest_time_seconds INTEGER NOT NULL, -- in seconds\n",
    "    FOREIGN KEY (routine_id) REFERENCES routines(routine_id),\n",
    "    FOREIGN KEY (exercise_id) REFERENCES exercises_lookup(exercise_id)\n",
    ");\n",
    "\n",
    "CREATE TABLE IF NOT EXISTS user_routines (\n",
    "    user_routine_id INTEGER PRIMARY KEY AUTOINCREMENT,\n",
    "    user_id INTEGER NOT NULL,\n",
    "    routine_id INTEGER NOT NULL,\n",
    "    start_date TEXT NOT NULL, -- ISO 8601 format (YYYY-MM-DD)\n",
    "    end_date TEXT, -- ISO 8601 format (YYYY-MM-DD)\n",
    "    FOREIGN KEY (user_id) REFERENCES users(user_id),\n",
    "    FOREIGN KEY (routine_id) REFERENCES routines(routine_id)\n",
    ");"
   ]
  },
  {
   "cell_type": "markdown",
   "id": "ddd8294c",
   "metadata": {
    "papermill": {
     "duration": 0.002824,
     "end_time": "2025-04-08T22:52:29.486403",
     "exception": false,
     "start_time": "2025-04-08T22:52:29.483579",
     "status": "completed"
    },
    "tags": []
   },
   "source": [
    "**Answering Basic Gym Questions:**"
   ]
  },
  {
   "cell_type": "code",
   "execution_count": 4,
   "id": "c90c52f5",
   "metadata": {
    "execution": {
     "iopub.execute_input": "2025-04-08T22:52:29.493788Z",
     "iopub.status.busy": "2025-04-08T22:52:29.493391Z",
     "iopub.status.idle": "2025-04-08T22:52:29.498010Z",
     "shell.execute_reply": "2025-04-08T22:52:29.496814Z"
    },
    "papermill": {
     "duration": 0.010226,
     "end_time": "2025-04-08T22:52:29.499703",
     "exception": false,
     "start_time": "2025-04-08T22:52:29.489477",
     "status": "completed"
    },
    "tags": []
   },
   "outputs": [],
   "source": [
    "introduction = \"\"\"\n",
    "🤖 Welcome to Your Personal Gym Helper! 💪\n",
    "\n",
    "I’m here to guide you safely and effectively on your fitness journey. Whether you’re just starting out or looking to refine your routine, I’ll provide clear, actionable advice tailored to your goals.\n",
    "\n",
    "Safety is my top priority—always listen to your body and consult a professional if needed.\n",
    "\n",
    "Let’s get started! 😊\n",
    "\n",
    "What’s your primary fitness goal? (e.g., lose weight, build muscle, improve endurance)\n",
    "\"\"\""
   ]
  },
  {
   "cell_type": "code",
   "execution_count": 5,
   "id": "9c200561",
   "metadata": {
    "execution": {
     "iopub.execute_input": "2025-04-08T22:52:29.507183Z",
     "iopub.status.busy": "2025-04-08T22:52:29.506843Z",
     "iopub.status.idle": "2025-04-08T22:52:29.513829Z",
     "shell.execute_reply": "2025-04-08T22:52:29.512764Z"
    },
    "papermill": {
     "duration": 0.012688,
     "end_time": "2025-04-08T22:52:29.515631",
     "exception": false,
     "start_time": "2025-04-08T22:52:29.502943",
     "status": "completed"
    },
    "tags": []
   },
   "outputs": [],
   "source": [
    "import sqlite3\n",
    "db_file = \"gym.db\"\n",
    "db_conn = sqlite3.connect(db_file)\n",
    "\n",
    "def list_tables() -> list[str]:\n",
    "    print(' DB CALL:list_tables()')\n",
    "    cursor=db_conn.cursor()\n",
    "    cursor.execute(\"SELECT name FROM sqlite_master WHERE type='table';\")\n",
    "    tables=cursor.fetchall()\n",
    "    return [t[0] for t in tables]\n",
    "\n",
    "def describe_table(table_name:str) -> list[tuple[str,str]]:\n",
    "    print(f'-DB CALL: describe_table({table_name})')\n",
    "    cursor=db_conn.cursor()\n",
    "    cursor.execute(f\"PRAGMA table_info({table_name});\")\n",
    "    schema=cursor.fetchall()\n",
    "    return [(col[1],col[2]) for col in schema]\n",
    "\n",
    "def execute_query(sql:str) -> list[list[str]]:\n",
    "    print(f' -DB CALL: execute_query({sql})')\n",
    "    cursor=db_conn.cursor()\n",
    "    cursor.execute(sql)\n",
    "    return cursor.fetchall()"
   ]
  },
  {
   "cell_type": "code",
   "execution_count": 6,
   "id": "e3816026",
   "metadata": {
    "execution": {
     "iopub.execute_input": "2025-04-08T22:52:29.523641Z",
     "iopub.status.busy": "2025-04-08T22:52:29.523248Z",
     "iopub.status.idle": "2025-04-08T22:52:30.738821Z",
     "shell.execute_reply": "2025-04-08T22:52:30.737438Z"
    },
    "papermill": {
     "duration": 1.222004,
     "end_time": "2025-04-08T22:52:30.741137",
     "exception": false,
     "start_time": "2025-04-08T22:52:29.519133",
     "status": "completed"
    },
    "tags": []
   },
   "outputs": [
    {
     "name": "stdout",
     "output_type": "stream",
     "text": [
      "\n",
      "🤖 Welcome to Your Personal Gym Helper! 💪\n",
      "\n",
      "I’m here to guide you safely and effectively on your fitness journey. Whether you’re just starting out or looking to refine your routine, I’ll provide clear, actionable advice tailored to your goals.\n",
      "\n",
      "Safety is my top priority—always listen to your body and consult a professional if needed.\n",
      "\n",
      "Let’s get started! 😊\n",
      "\n",
      "What’s your primary fitness goal? (e.g., lose weight, build muscle, improve endurance)\n",
      "\n"
     ]
    }
   ],
   "source": [
    "db_tools = [list_tables, describe_table, execute_query]\n",
    "\n",
    "instruction = \"\"\"\n",
    "INSTRUCTIONS:\n",
    "1. (You are a helpful chatbot that can interact with an SQL database as a personal gym helper.)\n",
    "2. (You will take the users' questions related to their fitness journey. If the request involves retrieving information about their goals, past workouts, or stored preferences, you will turn it into an SQL query using the tools available. If the request involves logging new workout data, you will inform the user that this functionality is currently under development. Once you have the information needed for retrieval, you will answer the user's question using the data returned in a clear and actionable way. For requests that go beyond direct database interaction (like detailed exercise explanations, form tips, motivational messages, general nutrition advice, or exercise variations), you will provide helpful information based on your general fitness knowledge while acknowledging that this detailed information isn't directly retrieved from the database.)\n",
    "3. (You will filter out non-ethical, NSFW content, and non-English content. You will respond with a statement saying that the message is non-appropriate.)\n",
    "4. (You are a personal gym helper, so you will act professionally, provide safe and effective guidance, and respond in professional English.)\n",
    "5. (When formulating SQL queries, focus on retrieving information relevant to the user's fitness goals, workout history, preferences, and available routines.)\n",
    "6. (Prioritize using the `describe_table` tool to understand the schema of relevant tables before executing queries, especially when the user's request is specific.)\n",
    "7. (Present the data retrieved from the database in a user-friendly format within your response.)\n",
    "8. (If the user asks for recommendations (e.g., exercises, routines), you can use the database to provide suggestions based on their goals and potentially difficulty levels, if available. For more detailed information about the recommended items, you will provide general knowledge.)\n",
    "9. (If a returning user is identified (based on their name), you will automatically retrieve and mention their current fitness goal. You will avoid asking for their name and goal again unless they indicate a change.)\n",
    "10. (If the user asks to log a new workout, respond professionally stating: \"Thank you for wanting to log your workout! This feature is currently under development. For now, I can help you retrieve information about your past workouts and goals.\")\n",
    "\n",
    "START WITH:\n",
    "1. {introduction}\n",
    "🤖 Welcome to Your Personal Gym Helper! 💪\n",
    "\n",
    "I’m here to guide you safely and effectively on your fitness journey. Whether you’re just starting out or looking to refine your routine, I’ll provide clear, actionable advice tailored to your goals.\n",
    "\n",
    "Safety is my top priority—always listen to your body and consult a professional if needed.\n",
    "\n",
    "Let’s get started! 😊\n",
    "\n",
    "What’s your primary fitness goal? (e.g., lose weight, build muscle, improve endurance)\n",
    "2. If they indicate they have used this before, ask them for their:\n",
    "    a. First name\n",
    "    b. Last name\n",
    "3. After receiving their first and last name (for returning users), you will:\n",
    "    a. Use `execute_query` on the `users` table to find their record based on the provided first and last name.\n",
    "    b. If a record is found, retrieve their `goal` from the database and respond with something like: \"Welcome back, [First Name]! I see your current goal is [Goal]. How can I assist you today?\"\n",
    "    c. If no record is found, proceed as a new user and ask for their primary fitness goal.\n",
    "4. After understanding their goal (new user) or confirming it (returning user), ask a follow-up question to gather more context, such as:\n",
    "    a. \"What type of workouts do you enjoy or have done in the past?\"\n",
    "    b. \"Do you have access to a gym or do you prefer home workouts?\"\n",
    "    c. \"How many days per week are you planning to work out?\"\n",
    "    d. \"Do you have any specific exercises you are interested in?\"\n",
    "5. Based on their initial responses, you can then utilize the database tools to answer their questions or provide relevant information. For example:\n",
    "    a. If they ask for exercises for a specific muscle group, use `describe_table` on `exercises_lookup` and then `execute_query` to find exercises. You can then provide general explanations and form tips for those exercises based on your knowledge.\n",
    "    b. If they ask about available routines, use `list_tables` to check for `routines` and `routine_exercises`, then use `describe_table` and `execute_query` to provide details. You can offer general information about the benefits of the routine.\n",
    "    c. If a returning user asks about their past workouts, use `describe_table` on `workouts` and `exercises`, then `execute_query` to retrieve that information.\n",
    "    d. If the user asks to see their current goal, use `execute_query` on the `users` table to retrieve their `goal` based on their name.\n",
    "    e. If the user asks a general fitness or nutrition question, provide a helpful and professional answer based on your general knowledge.\n",
    "    f. If the user asks for variations on an exercise, provide some common and safe variations based on your knowledge.\n",
    "    g. You can incorporate motivational messages periodically or in response to certain queries to encourage the user.\n",
    "\"\"\"\n",
    "\n",
    "client = genai.Client(api_key=GOOGLE_API_KEY)\n",
    "\n",
    "chat = client.chats.create(\n",
    "    model=\"gemini-2.0-flash\",\n",
    "    config=types.GenerateContentConfig(\n",
    "        system_instruction=instruction,\n",
    "        tools=db_tools,\n",
    "    ),\n",
    ")\n",
    "response = chat.send_message(\"hi\")\n",
    "print(f\"\\n{response.text}\")"
   ]
  }
 ],
 "metadata": {
  "kaggle": {
   "accelerator": "none",
   "dataSources": [
    {
     "sourceId": 97258,
     "sourceType": "competition"
    }
   ],
   "dockerImageVersionId": 30918,
   "isGpuEnabled": false,
   "isInternetEnabled": true,
   "language": "python",
   "sourceType": "notebook"
  },
  "kernelspec": {
   "display_name": "Python 3",
   "language": "python",
   "name": "python3"
  },
  "language_info": {
   "codemirror_mode": {
    "name": "ipython",
    "version": 3
   },
   "file_extension": ".py",
   "mimetype": "text/x-python",
   "name": "python",
   "nbconvert_exporter": "python",
   "pygments_lexer": "ipython3",
   "version": "3.10.12"
  },
  "papermill": {
   "default_parameters": {},
   "duration": 18.013863,
   "end_time": "2025-04-08T22:52:31.668783",
   "environment_variables": {},
   "exception": null,
   "input_path": "__notebook__.ipynb",
   "output_path": "__notebook__.ipynb",
   "parameters": {},
   "start_time": "2025-04-08T22:52:13.654920",
   "version": "2.6.0"
  }
 },
 "nbformat": 4,
 "nbformat_minor": 5
}
