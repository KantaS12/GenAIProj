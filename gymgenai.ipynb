{
 "cells": [
  {
   "cell_type": "code",
   "execution_count": 1,
   "id": "c234a2d2",
   "metadata": {
    "_cell_guid": "b1076dfc-b9ad-4769-8c92-a6c4dae69d19",
    "_uuid": "8f2839f25d086af736a60e9eeb907d3b93b6e0e5",
    "execution": {
     "iopub.execute_input": "2025-04-07T22:28:48.012997Z",
     "iopub.status.busy": "2025-04-07T22:28:48.012523Z",
     "iopub.status.idle": "2025-04-07T22:28:59.576428Z",
     "shell.execute_reply": "2025-04-07T22:28:59.574923Z"
    },
    "papermill": {
     "duration": 11.570852,
     "end_time": "2025-04-07T22:28:59.578534",
     "exception": false,
     "start_time": "2025-04-07T22:28:48.007682",
     "status": "completed"
    },
    "tags": []
   },
   "outputs": [
    {
     "name": "stdout",
     "output_type": "stream",
     "text": [
      "\u001b[2K   \u001b[90m━━━━━━━━━━━━━━━━━━━━━━━━━━━━━━━━━━━━━━━━\u001b[0m \u001b[32m144.7/144.7 kB\u001b[0m \u001b[31m3.7 MB/s\u001b[0m eta \u001b[36m0:00:00\u001b[0m\r\n",
      "\u001b[2K   \u001b[90m━━━━━━━━━━━━━━━━━━━━━━━━━━━━━━━━━━━━━━━━\u001b[0m \u001b[32m100.9/100.9 kB\u001b[0m \u001b[31m4.2 MB/s\u001b[0m eta \u001b[36m0:00:00\u001b[0m\r\n",
      "\u001b[?25h"
     ]
    }
   ],
   "source": [
    "!pip uninstall -qqy jupyterlab  # Remove unused conflicting packages\n",
    "!pip install -U -q \"google-genai==1.7.0\"\n",
    "from google import genai\n",
    "from google.genai import types\n",
    "\n",
    "genai.__version__\n",
    "from kaggle_secrets import UserSecretsClient\n",
    "\n",
    "GOOGLE_API_KEY = UserSecretsClient().get_secret(\"GOOGLE_API_KEY\")\n",
    "from google.api_core import retry\n",
    "\n",
    "is_retriable = lambda e: (isinstance(e, genai.errors.APIError) and e.code in {429, 503})\n",
    "\n",
    "if not hasattr(genai.models.Models.generate_content, '__wrapped__'):\n",
    "  genai.models.Models.generate_content = retry.Retry(\n",
    "      predicate=is_retriable)(genai.models.Models.generate_content)"
   ]
  },
  {
   "cell_type": "markdown",
   "id": "91865805",
   "metadata": {
    "papermill": {
     "duration": 0.002698,
     "end_time": "2025-04-07T22:28:59.584813",
     "exception": false,
     "start_time": "2025-04-07T22:28:59.582115",
     "status": "completed"
    },
    "tags": []
   },
   "source": [
    "**Storing Information in a DB:**"
   ]
  },
  {
   "cell_type": "code",
   "execution_count": 2,
   "id": "bf5aa722",
   "metadata": {
    "execution": {
     "iopub.execute_input": "2025-04-07T22:28:59.592256Z",
     "iopub.status.busy": "2025-04-07T22:28:59.591684Z",
     "iopub.status.idle": "2025-04-07T22:29:01.744628Z",
     "shell.execute_reply": "2025-04-07T22:29:01.742965Z"
    },
    "papermill": {
     "duration": 2.159506,
     "end_time": "2025-04-07T22:29:01.747195",
     "exception": false,
     "start_time": "2025-04-07T22:28:59.587689",
     "status": "completed"
    },
    "tags": []
   },
   "outputs": [],
   "source": [
    "%load_ext sql\n",
    "%sql sqlite:///gym.db"
   ]
  },
  {
   "cell_type": "code",
   "execution_count": 3,
   "id": "396980fb",
   "metadata": {
    "execution": {
     "iopub.execute_input": "2025-04-07T22:29:01.761011Z",
     "iopub.status.busy": "2025-04-07T22:29:01.759877Z",
     "iopub.status.idle": "2025-04-07T22:29:01.943256Z",
     "shell.execute_reply": "2025-04-07T22:29:01.941976Z"
    },
    "papermill": {
     "duration": 0.192594,
     "end_time": "2025-04-07T22:29:01.945243",
     "exception": false,
     "start_time": "2025-04-07T22:29:01.752649",
     "status": "completed"
    },
    "tags": []
   },
   "outputs": [
    {
     "name": "stdout",
     "output_type": "stream",
     "text": [
      " * sqlite:///gym.db\n",
      "Done.\n",
      "Done.\n",
      "Done.\n",
      "Done.\n",
      "Done.\n",
      "Done.\n",
      "Done.\n",
      "Done.\n",
      "Done.\n",
      "Done.\n"
     ]
    },
    {
     "data": {
      "text/plain": [
       "[]"
      ]
     },
     "execution_count": 3,
     "metadata": {},
     "output_type": "execute_result"
    }
   ],
   "source": [
    "%%sql\n",
    "CREATE TABLE IF NOT EXISTS users (\n",
    "    user_id INTEGER PRIMARY KEY AUTOINCREMENT,\n",
    "    first_name VARCHAR(255) NOT NULL,\n",
    "    last_name VARCHAR(255) NOT NULL,\n",
    "    goal VARCHAR(255) NOT NULL\n",
    ");\n",
    "\n",
    "CREATE TABLE IF NOT EXISTS user_preferences (\n",
    "    preference_id INTEGER PRIMARY KEY AUTOINCREMENT,\n",
    "    user_id INTEGER NOT NULL,\n",
    "    unit_system VARCHAR(50) NOT NULL, -- e.g., Metric, Imperial\n",
    "    reminder_time INTEGER, -- in seconds before workout\n",
    "    FOREIGN KEY (user_id) REFERENCES users(user_id)\n",
    ");\n",
    "\n",
    "CREATE TABLE IF NOT EXISTS workouts (\n",
    "    workout_id INTEGER PRIMARY KEY AUTOINCREMENT,\n",
    "    user_id INTEGER NOT NULL,\n",
    "    note VARCHAR(255) NOT NULL,\n",
    "    date TEXT NOT NULL, -- ISO 8601 format (YYYY-MM-DD)\n",
    "    duration INTEGER, -- in minutes\n",
    "    FOREIGN KEY (user_id) REFERENCES users(user_id)\n",
    ");\n",
    "\n",
    "CREATE TABLE IF NOT EXISTS exercises_lookup (\n",
    "    exercise_id INTEGER PRIMARY KEY AUTOINCREMENT,\n",
    "    exercise_name VARCHAR(255) NOT NULL UNIQUE,\n",
    "    muscle_group VARCHAR(255) NOT NULL\n",
    ");\n",
    "\n",
    "CREATE TABLE IF NOT EXISTS exercises (\n",
    "    log_id INTEGER PRIMARY KEY AUTOINCREMENT,\n",
    "    workout_id INTEGER NOT NULL,\n",
    "    exercise_id INTEGER NOT NULL,\n",
    "    sets INTEGER NOT NULL,\n",
    "    weight INTEGER NOT NULL,\n",
    "    reps INTEGER NOT NULL,\n",
    "    FOREIGN KEY (workout_id) REFERENCES workouts(workout_id),\n",
    "    FOREIGN KEY (exercise_id) REFERENCES exercises_lookup(exercise_id)\n",
    ");\n",
    "\n",
    "CREATE TABLE IF NOT EXISTS progress (\n",
    "    progress_id INTEGER PRIMARY KEY AUTOINCREMENT,\n",
    "    user_id INTEGER NOT NULL,\n",
    "    exercise_id INTEGER NOT NULL,\n",
    "    date TEXT NOT NULL, -- ISO 8601 format (YYYY-MM-DD)\n",
    "    weight_lifted INTEGER NOT NULL,\n",
    "    reps_completed INTEGER NOT NULL,\n",
    "    sets_completed INTEGER NOT NULL,\n",
    "    FOREIGN KEY (user_id) REFERENCES users(user_id),\n",
    "    FOREIGN KEY (exercise_id) REFERENCES exercises_lookup(exercise_id)\n",
    ");\n",
    "\n",
    "CREATE TABLE IF NOT EXISTS goals (\n",
    "    goal_id INTEGER PRIMARY KEY AUTOINCREMENT,\n",
    "    user_id INTEGER NOT NULL,\n",
    "    goal_description TEXT NOT NULL,\n",
    "    target_date TEXT NOT NULL, -- ISO 8601 format (YYYY-MM-DD)\n",
    "    achieved INTEGER DEFAULT 0, -- 0 = False, 1 = True\n",
    "    FOREIGN KEY (user_id) REFERENCES users(user_id)\n",
    ");\n",
    "\n",
    "CREATE TABLE IF NOT EXISTS routines (\n",
    "    routine_id INTEGER PRIMARY KEY AUTOINCREMENT,\n",
    "    routine_name VARCHAR(255) NOT NULL,\n",
    "    description TEXT NOT NULL,\n",
    "    difficulty_level VARCHAR(50) NOT NULL -- e.g., Beginner, Intermediate, Advanced\n",
    ");\n",
    "\n",
    "CREATE TABLE IF NOT EXISTS routine_exercises (\n",
    "    routine_exercise_id INTEGER PRIMARY KEY AUTOINCREMENT,\n",
    "    routine_id INTEGER NOT NULL,\n",
    "    exercise_id INTEGER NOT NULL,\n",
    "    sets INTEGER NOT NULL,\n",
    "    reps INTEGER NOT NULL,\n",
    "    rest_time_seconds INTEGER NOT NULL, -- in seconds\n",
    "    FOREIGN KEY (routine_id) REFERENCES routines(routine_id),\n",
    "    FOREIGN KEY (exercise_id) REFERENCES exercises_lookup(exercise_id)\n",
    ");\n",
    "\n",
    "CREATE TABLE IF NOT EXISTS user_routines (\n",
    "    user_routine_id INTEGER PRIMARY KEY AUTOINCREMENT,\n",
    "    user_id INTEGER NOT NULL,\n",
    "    routine_id INTEGER NOT NULL,\n",
    "    start_date TEXT NOT NULL, -- ISO 8601 format (YYYY-MM-DD)\n",
    "    end_date TEXT, -- ISO 8601 format (YYYY-MM-DD)\n",
    "    FOREIGN KEY (user_id) REFERENCES users(user_id),\n",
    "    FOREIGN KEY (routine_id) REFERENCES routines(routine_id)\n",
    ");"
   ]
  },
  {
   "cell_type": "markdown",
   "id": "4e1186b8",
   "metadata": {
    "papermill": {
     "duration": 0.002816,
     "end_time": "2025-04-07T22:29:01.951637",
     "exception": false,
     "start_time": "2025-04-07T22:29:01.948821",
     "status": "completed"
    },
    "tags": []
   },
   "source": [
    "**Answering Basic Gym Questions:**"
   ]
  },
  {
   "cell_type": "code",
   "execution_count": 4,
   "id": "86f3a4cf",
   "metadata": {
    "execution": {
     "iopub.execute_input": "2025-04-07T22:29:01.958998Z",
     "iopub.status.busy": "2025-04-07T22:29:01.958546Z",
     "iopub.status.idle": "2025-04-07T22:29:01.963770Z",
     "shell.execute_reply": "2025-04-07T22:29:01.962290Z"
    },
    "papermill": {
     "duration": 0.010922,
     "end_time": "2025-04-07T22:29:01.965551",
     "exception": false,
     "start_time": "2025-04-07T22:29:01.954629",
     "status": "completed"
    },
    "tags": []
   },
   "outputs": [],
   "source": [
    "introduction = \"\"\"\n",
    "🤖 Welcome to Your Personal Gym Helper! 💪\n",
    "\n",
    "I’m here to guide you safely and effectively on your fitness journey. Whether you’re just starting out or looking to refine your routine, I’ll provide clear, actionable advice tailored to your goals.\n",
    "\n",
    "Safety is my top priority—always listen to your body and consult a professional if needed.\n",
    "\n",
    "Let’s get started! 😊\n",
    "\n",
    "What’s your primary fitness goal? (e.g., lose weight, build muscle, improve endurance)\n",
    "\"\"\""
   ]
  },
  {
   "cell_type": "code",
   "execution_count": 5,
   "id": "06e1dcad",
   "metadata": {
    "execution": {
     "iopub.execute_input": "2025-04-07T22:29:01.973383Z",
     "iopub.status.busy": "2025-04-07T22:29:01.973017Z",
     "iopub.status.idle": "2025-04-07T22:29:01.980688Z",
     "shell.execute_reply": "2025-04-07T22:29:01.979575Z"
    },
    "papermill": {
     "duration": 0.013596,
     "end_time": "2025-04-07T22:29:01.982553",
     "exception": false,
     "start_time": "2025-04-07T22:29:01.968957",
     "status": "completed"
    },
    "tags": []
   },
   "outputs": [],
   "source": [
    "import sqlite3\n",
    "db_file = \"gym.db\"\n",
    "db_conn = sqlite3.connect(db_file)\n",
    "\n",
    "def list_tables() -> list[str]:\n",
    "    print(' DB CALL:list_tables()')\n",
    "    cursor=db_conn.cursor()\n",
    "    cursor.execute(\"SELECT name FROM sqlite_master WHERE type='table';\")\n",
    "    tables=cursor.fetchall()\n",
    "    return [t[0] for t in tables]\n",
    "\n",
    "def describe_table(table_name:str) -> list[tuple[str,str]]:\n",
    "    print(f'-DB CALL: describe_table({table_name})')\n",
    "    cursor=db_conn.cursor()\n",
    "    cursor.execute(f\"PRAGMA table_info({table_name});\")\n",
    "    schema=cursor.fetchall()\n",
    "    return [(col[1],col[2]) for col in schema]\n",
    "\n",
    "def execute_query(sql:str) -> list[list[str]]:\n",
    "    print(f' -DB CALL: execute_query({sql})')\n",
    "    cursor=db_conn.cursor()\n",
    "    cursor.execute(sql)\n",
    "    return cursor.fetchall()"
   ]
  },
  {
   "cell_type": "code",
   "execution_count": 6,
   "id": "35fff255",
   "metadata": {
    "execution": {
     "iopub.execute_input": "2025-04-07T22:29:01.990275Z",
     "iopub.status.busy": "2025-04-07T22:29:01.989886Z",
     "iopub.status.idle": "2025-04-07T22:29:02.454987Z",
     "shell.execute_reply": "2025-04-07T22:29:02.453794Z"
    },
    "papermill": {
     "duration": 0.471126,
     "end_time": "2025-04-07T22:29:02.457001",
     "exception": false,
     "start_time": "2025-04-07T22:29:01.985875",
     "status": "completed"
    },
    "tags": []
   },
   "outputs": [],
   "source": [
    "db_tools = [list_tables, describe_table, execute_query]\n",
    "\n",
    "instruction = \"\"\"You are a helpful chatbot that can interact with an SQL database\n",
    "as a personal gym helper. You will take the users questions and turn them into SQL\n",
    "queries using the tools available. Once you have the information you need, you will\n",
    "answer the user's question using the data returned.\n",
    "\n",
    "Use list_tables to see what tables are present, describe_table to understand the\n",
    "schema, and execute_query to issue an SQL SELECT query.\"\"\"\n",
    "\n",
    "client = genai.Client(api_key=GOOGLE_API_KEY)\n",
    "\n",
    "chat = client.chats.create(\n",
    "    model=\"gemini-2.0-flash\",\n",
    "    config=types.GenerateContentConfig(\n",
    "        system_instruction=instruction,\n",
    "        tools=db_tools,\n",
    "    ),\n",
    ")"
   ]
  }
 ],
 "metadata": {
  "kaggle": {
   "accelerator": "none",
   "dataSources": [
    {
     "sourceId": 97258,
     "sourceType": "competition"
    }
   ],
   "dockerImageVersionId": 30918,
   "isGpuEnabled": false,
   "isInternetEnabled": true,
   "language": "python",
   "sourceType": "notebook"
  },
  "kernelspec": {
   "display_name": "Python 3",
   "language": "python",
   "name": "python3"
  },
  "language_info": {
   "codemirror_mode": {
    "name": "ipython",
    "version": 3
   },
   "file_extension": ".py",
   "mimetype": "text/x-python",
   "name": "python",
   "nbconvert_exporter": "python",
   "pygments_lexer": "ipython3",
   "version": "3.10.12"
  },
  "papermill": {
   "default_parameters": {},
   "duration": 18.493769,
   "end_time": "2025-04-07T22:29:03.381986",
   "environment_variables": {},
   "exception": null,
   "input_path": "__notebook__.ipynb",
   "output_path": "__notebook__.ipynb",
   "parameters": {},
   "start_time": "2025-04-07T22:28:44.888217",
   "version": "2.6.0"
  }
 },
 "nbformat": 4,
 "nbformat_minor": 5
}
